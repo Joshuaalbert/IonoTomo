{
 "cells": [
  {
   "cell_type": "code",
   "execution_count": 2,
   "metadata": {},
   "outputs": [
    {
     "name": "stdout",
     "output_type": "stream",
     "text": [
      "Setting refAnt: RS407HBA\n"
     ]
    },
    {
     "ename": "AssertionError",
     "evalue": "Requested number of antennas 9 to large 8",
     "output_type": "error",
     "traceback": [
      "\u001b[1;31m---------------------------------------------------------------------------\u001b[0m",
      "\u001b[1;31mAssertionError\u001b[0m                            Traceback (most recent call last)",
      "\u001b[1;32m<ipython-input-2-f3df9883d370>\u001b[0m in \u001b[0;36m<module>\u001b[1;34m()\u001b[0m\n\u001b[0;32m     61\u001b[0m \u001b[1;33m\u001b[0m\u001b[0m\n\u001b[0;32m     62\u001b[0m \u001b[1;32mif\u001b[0m \u001b[0m__name__\u001b[0m \u001b[1;33m==\u001b[0m \u001b[1;34m'__main__'\u001b[0m\u001b[1;33m:\u001b[0m\u001b[1;33m\u001b[0m\u001b[0m\n\u001b[1;32m---> 63\u001b[1;33m     \u001b[0mtest_bfgs\u001b[0m\u001b[1;33m(\u001b[0m\u001b[1;33m)\u001b[0m\u001b[1;33m\u001b[0m\u001b[0m\n\u001b[0m",
      "\u001b[1;32m<ipython-input-2-f3df9883d370>\u001b[0m in \u001b[0;36mtest_bfgs\u001b[1;34m()\u001b[0m\n\u001b[0;32m     55\u001b[0m     \u001b[0mi0\u001b[0m \u001b[1;33m=\u001b[0m \u001b[1;36m0\u001b[0m\u001b[1;33m\u001b[0m\u001b[0m\n\u001b[0;32m     56\u001b[0m     \u001b[0mdatapack\u001b[0m \u001b[1;33m=\u001b[0m \u001b[0mDataPack\u001b[0m\u001b[1;33m(\u001b[0m\u001b[0mfilename\u001b[0m\u001b[1;33m=\u001b[0m\u001b[1;34m\"output/test/datapackSim.hdf5\"\u001b[0m\u001b[1;33m)\u001b[0m\u001b[1;33m\u001b[0m\u001b[0m\n\u001b[1;32m---> 57\u001b[1;33m     \u001b[0mdatapackSel\u001b[0m \u001b[1;33m=\u001b[0m \u001b[0mselectAntennaFacets\u001b[0m\u001b[1;33m(\u001b[0m\u001b[1;36m9\u001b[0m\u001b[1;33m,\u001b[0m \u001b[0mdatapack\u001b[0m\u001b[1;33m,\u001b[0m \u001b[0mantIdx\u001b[0m\u001b[1;33m=\u001b[0m\u001b[1;33m-\u001b[0m\u001b[1;36m1\u001b[0m\u001b[1;33m,\u001b[0m \u001b[0mdirIdx\u001b[0m\u001b[1;33m=\u001b[0m\u001b[1;33m-\u001b[0m\u001b[1;36m1\u001b[0m\u001b[1;33m,\u001b[0m \u001b[0mtimeIdx\u001b[0m \u001b[1;33m=\u001b[0m \u001b[1;33m[\u001b[0m\u001b[1;36m0\u001b[0m\u001b[1;33m]\u001b[0m\u001b[1;33m)\u001b[0m\u001b[1;33m\u001b[0m\u001b[0m\n\u001b[0m\u001b[0;32m     58\u001b[0m     \u001b[0mL_ne\u001b[0m \u001b[1;33m=\u001b[0m \u001b[1;36m15.\u001b[0m\u001b[1;33m\u001b[0m\u001b[0m\n\u001b[0;32m     59\u001b[0m     \u001b[0msizeCell\u001b[0m \u001b[1;33m=\u001b[0m \u001b[1;36m5.\u001b[0m\u001b[1;33m\u001b[0m\u001b[0m\n",
      "\u001b[1;32mC:\\Users\\josh\\git\\IonoTomo\\AntennaFacetSelection.py\u001b[0m in \u001b[0;36mselectAntennaFacets\u001b[1;34m(N, datapack, antIdx, dirIdx, timeIdx)\u001b[0m\n\u001b[0;32m    104\u001b[0m \u001b[1;33m\u001b[0m\u001b[0m\n\u001b[0;32m    105\u001b[0m \u001b[1;32mdef\u001b[0m \u001b[0mselectAntennaFacets\u001b[0m\u001b[1;33m(\u001b[0m\u001b[0mN\u001b[0m\u001b[1;33m,\u001b[0m\u001b[0mdatapack\u001b[0m\u001b[1;33m,\u001b[0m\u001b[0mantIdx\u001b[0m\u001b[1;33m=\u001b[0m\u001b[1;33m-\u001b[0m\u001b[1;36m1\u001b[0m\u001b[1;33m,\u001b[0m\u001b[0mdirIdx\u001b[0m\u001b[1;33m=\u001b[0m\u001b[1;33m-\u001b[0m\u001b[1;36m1\u001b[0m\u001b[1;33m,\u001b[0m\u001b[0mtimeIdx\u001b[0m\u001b[1;33m=\u001b[0m\u001b[1;33m[\u001b[0m\u001b[1;36m0\u001b[0m\u001b[1;33m]\u001b[0m\u001b[1;33m)\u001b[0m\u001b[1;33m:\u001b[0m\u001b[1;33m\u001b[0m\u001b[0m\n\u001b[1;32m--> 106\u001b[1;33m     \u001b[0mdatapack\u001b[0m \u001b[1;33m=\u001b[0m \u001b[0mselectAntennas\u001b[0m\u001b[1;33m(\u001b[0m\u001b[0mN\u001b[0m\u001b[1;33m,\u001b[0m\u001b[0mdatapack\u001b[0m\u001b[1;33m,\u001b[0m\u001b[0mantIdx\u001b[0m\u001b[1;33m=\u001b[0m\u001b[1;33m-\u001b[0m\u001b[1;36m1\u001b[0m\u001b[1;33m,\u001b[0m\u001b[0mtimeIdx\u001b[0m\u001b[1;33m=\u001b[0m\u001b[1;33m[\u001b[0m\u001b[1;36m0\u001b[0m\u001b[1;33m]\u001b[0m\u001b[1;33m)\u001b[0m\u001b[1;33m\u001b[0m\u001b[0m\n\u001b[0m\u001b[0;32m    107\u001b[0m     \u001b[0mdatapack\u001b[0m \u001b[1;33m=\u001b[0m \u001b[0mselectFacets\u001b[0m\u001b[1;33m(\u001b[0m\u001b[0mN\u001b[0m\u001b[1;33m,\u001b[0m\u001b[0mdatapack\u001b[0m\u001b[1;33m,\u001b[0m\u001b[0mdirIdx\u001b[0m\u001b[1;33m=\u001b[0m\u001b[1;33m-\u001b[0m\u001b[1;36m1\u001b[0m\u001b[1;33m,\u001b[0m\u001b[0mtimeIdx\u001b[0m\u001b[1;33m=\u001b[0m\u001b[1;33m[\u001b[0m\u001b[1;36m0\u001b[0m\u001b[1;33m]\u001b[0m\u001b[1;33m)\u001b[0m\u001b[1;33m\u001b[0m\u001b[0m\n\u001b[0;32m    108\u001b[0m     \u001b[1;32mreturn\u001b[0m \u001b[0mdatapack\u001b[0m\u001b[1;33m\u001b[0m\u001b[0m\n",
      "\u001b[1;32mC:\\Users\\josh\\git\\IonoTomo\\AntennaFacetSelection.py\u001b[0m in \u001b[0;36mselectAntennas\u001b[1;34m(N, datapack, antIdx, timeIdx)\u001b[0m\n\u001b[0;32m     58\u001b[0m     '''Will select N uniform assembly of antennas and return a datapack\n\u001b[0;32m     59\u001b[0m     with the rest flagged'''\n\u001b[1;32m---> 60\u001b[1;33m     \u001b[1;32massert\u001b[0m \u001b[0mN\u001b[0m \u001b[1;33m<=\u001b[0m \u001b[0mdatapack\u001b[0m\u001b[1;33m.\u001b[0m\u001b[0mNa\u001b[0m\u001b[1;33m,\u001b[0m \u001b[1;34m\"Requested number of antennas {} to large {}\"\u001b[0m\u001b[1;33m.\u001b[0m\u001b[0mformat\u001b[0m\u001b[1;33m(\u001b[0m\u001b[0mN\u001b[0m\u001b[1;33m,\u001b[0m\u001b[0mdatapack\u001b[0m\u001b[1;33m.\u001b[0m\u001b[0mNa\u001b[0m\u001b[1;33m)\u001b[0m\u001b[1;33m\u001b[0m\u001b[0m\n\u001b[0m\u001b[0;32m     61\u001b[0m     \u001b[0mantennas\u001b[0m\u001b[1;33m,\u001b[0m\u001b[0mantennaLabels\u001b[0m \u001b[1;33m=\u001b[0m \u001b[0mdatapack\u001b[0m\u001b[1;33m.\u001b[0m\u001b[0mget_antennas\u001b[0m\u001b[1;33m(\u001b[0m\u001b[0mantIdx\u001b[0m \u001b[1;33m=\u001b[0m \u001b[0mantIdx\u001b[0m\u001b[1;33m)\u001b[0m\u001b[1;33m\u001b[0m\u001b[0m\n\u001b[0;32m     62\u001b[0m     \u001b[0mtimes\u001b[0m\u001b[1;33m,\u001b[0m\u001b[0mtimestamps\u001b[0m \u001b[1;33m=\u001b[0m \u001b[0mdatapack\u001b[0m\u001b[1;33m.\u001b[0m\u001b[0mget_times\u001b[0m\u001b[1;33m(\u001b[0m\u001b[0mtimeIdx\u001b[0m\u001b[1;33m=\u001b[0m\u001b[0mtimeIdx\u001b[0m\u001b[1;33m)\u001b[0m\u001b[1;33m\u001b[0m\u001b[0m\n",
      "\u001b[1;31mAssertionError\u001b[0m: Requested number of antennas 9 to large 8"
     ]
    }
   ],
   "source": [
    "import numpy as np\n",
    "from InfoCompleteness import precondition\n",
    "from TricubicInterpolation import TriCubic\n",
    "from RealData import DataPack\n",
    "from AntennaFacetSelection import selectAntennaFacets\n",
    "from CalcRays import calcRays\n",
    "from LineSearch import lineSearch\n",
    "from InitialModel import createInitialModel, createTurbulentlModel\n",
    "from ForwardEquation import forwardEquation, forwardEquation_dask\n",
    "from UVWFrame import UVW\n",
    "from Gradient import computeGradient_dask,computeGradient\n",
    "\n",
    "import astropy.units as au\n",
    "    \n",
    "def bfgs(datapack,L_ne,sizeCell,i0):\n",
    "    antennas,antennaLabels = datapack.get_antennas(antIdx = -1)\n",
    "    patches, patchNames = datapack.get_directions(dirIdx = -1)\n",
    "    times,timestamps = datapack.get_times(timeIdx=[0])\n",
    "    datapack.setReferenceAntenna(antennaLabels[i0])\n",
    "    dobs = datapack.get_dtec(antIdx = -1, timeIdx = [0], dirIdx = -1)\n",
    "    CdCt = (0.15*np.abs(dobs))**2\n",
    "    Na = len(antennas)\n",
    "    Nt = len(times)\n",
    "    Nd = len(patches)  \n",
    "    fixtime = times[Nt>>1]\n",
    "    phase = datapack.getCenterDirection()\n",
    "    arrayCenter = datapack.radioArray.getCenter()\n",
    "    neTCI = createInitialModel(datapack,antIdx = -1, timeIdx = -1, dirIdx = -1, zmax = 1000.,spacing=sizeCell)\n",
    "    rays = calcRays(antennas,patches,times, arrayCenter, fixtime, phase, neTCI, datapack.radioArray.frequency, True, 1000., neTCI.nz)\n",
    "    K_ne = np.mean(neTCI.m)\n",
    "    mTCI = neTCI.copy()\n",
    "    mTCI.m /= K_ne\n",
    "    np.log(mTCI.m,out=mTCI.m)\n",
    "    g = forwardEquation_dask(rays,K_ne,mTCI,i0)\n",
    "    Nkernel = int(float(L_ne*3)/sizeCell)\n",
    "    uvw = UVW(location = datapack.radioArray.getCenter().earth_location,obstime = fixtime,phase = phase)\n",
    "    ants_uvw = antennas.transform_to(uvw).cartesian.xyz.to(au.km).value.transpose()\n",
    "    dirs_uvw = patches.transform_to(uvw).cartesian.xyz.value.transpose()\n",
    "    F0 = np.ones([mTCI.nx,mTCI.ny,mTCI.nz])#precondition(ants_uvw,dirs_uvw,neTCI,L_ne=L_ne)\n",
    "    F = F0.copy()\n",
    "    mPrior = mTCI.getShapedArray()\n",
    "    iter = 0\n",
    "    ## persistent variables\n",
    "    beta = []\n",
    "    dm = []#m_n+1 - m_n\n",
    "    gamma = []\n",
    "    v = []#Fn\n",
    "    while iter < 10:\n",
    "        grad = computeGradient_dask(rays, g, dobs, i0, K_ne, mTCI, mPrior, CdCt, 1, Nkernel, sizeCell)\n",
    "        phi = F*grad\n",
    "        epsilon_n = lineSearch(rays,K_ne,mTCI,i0,phi,g,dobs,CdCt,plot=True)\n",
    "        dm = epsilon_n*phi\n",
    "        mTCI = TriCubic(mTCI.xvec,mTCI.yvec,mTCI.zvec,mTCI.getShapedArray() - dm)\n",
    "        g = forwardEquation_dask(rays,K_ne,mTCI,i0)\n",
    "        print(\"mean abs(dm): {}\".format(np.mean(np.abs(dm))))\n",
    "        ## update F not\n",
    "        iter += 1\n",
    "    return mTCI\n",
    "        \n",
    "def test_bfgs():\n",
    "    i0 = 0\n",
    "    datapack = DataPack(filename=\"output/test/datapackObs.hdf5\")\n",
    "    datapackSel = selectAntennaFacets(10, datapack, antIdx=-1, dirIdx=-1, timeIdx = [0])\n",
    "    pertTCI = createTurbulentlModel(datapackSel,antIdx = -1, timeIdx = -1, dirIdx = -1, zmax = 1000.)\n",
    "    L_ne = 15.\n",
    "    sizeCell = 5.\n",
    "    bfgs(datapackSel,L_ne,sizeCell,i0)\n",
    "    \n",
    "if __name__ == '__main__':\n",
    "    test_bfgs()"
   ]
  },
  {
   "cell_type": "code",
   "execution_count": 20,
   "metadata": {},
   "outputs": [
    {
     "ename": "SystemError",
     "evalue": "Parent module '' not loaded, cannot perform relative import",
     "output_type": "error",
     "traceback": [
      "\u001b[1;31m---------------------------------------------------------------------------\u001b[0m",
      "\u001b[1;31mSystemError\u001b[0m                               Traceback (most recent call last)",
      "\u001b[1;32m<ipython-input-20-3ab9de378cb0>\u001b[0m in \u001b[0;36m<module>\u001b[1;34m()\u001b[0m\n\u001b[1;32m----> 1\u001b[1;33m \u001b[1;32mfrom\u001b[0m \u001b[1;33m.\u001b[0m\u001b[0mRadioAstronomyThings\u001b[0m\u001b[1;33m.\u001b[0m\u001b[0mPriorityManager\u001b[0m \u001b[1;32mimport\u001b[0m \u001b[1;33m*\u001b[0m\u001b[1;33m\u001b[0m\u001b[0m\n\u001b[0m",
      "\u001b[1;31mSystemError\u001b[0m: Parent module '' not loaded, cannot perform relative import"
     ]
    }
   ],
   "source": []
  },
  {
   "cell_type": "code",
   "execution_count": null,
   "metadata": {
    "collapsed": true
   },
   "outputs": [],
   "source": []
  }
 ],
 "metadata": {
  "kernelspec": {
   "display_name": "Python 3",
   "language": "python",
   "name": "python3"
  },
  "language_info": {
   "codemirror_mode": {
    "name": "ipython",
    "version": 3
   },
   "file_extension": ".py",
   "mimetype": "text/x-python",
   "name": "python",
   "nbconvert_exporter": "python",
   "pygments_lexer": "ipython3",
   "version": "3.5.3"
  }
 },
 "nbformat": 4,
 "nbformat_minor": 2
}

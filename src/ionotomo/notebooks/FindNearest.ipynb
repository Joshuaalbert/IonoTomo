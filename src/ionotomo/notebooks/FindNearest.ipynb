{
 "cells": [
  {
   "cell_type": "code",
   "execution_count": 44,
   "metadata": {
    "collapsed": false
   },
   "outputs": [
    {
     "name": "stdout",
     "output_type": "stream",
     "text": [
      "(50000, 50000)\n",
      "The slowest run took 4.97 times longer than the fastest. This could mean that an intermediate result is being cached.\n",
      "100000 loops, best of 3: 4.4 µs per loop\n",
      "50001\n",
      "1 loop, best of 3: 180 ms per loop\n",
      "50001\n",
      "1000 loops, best of 3: 267 µs per loop\n",
      "[50000]\n",
      "1000 loops, best of 3: 390 µs per loop\n",
      "50001\n",
      "1000 loops, best of 3: 259 µs per loop\n",
      "50001\n",
      "1000 loops, best of 3: 1.21 ms per loop\n",
      "[50000]\n",
      "1000 loops, best of 3: 746 µs per loop\n"
     ]
    }
   ],
   "source": [
    "'''Compare algorithms for find nearest'''\n",
    "import math\n",
    "import numpy as np\n",
    "\n",
    "def find_nearest1(array,value):\n",
    "    '''not right function and non vector'''\n",
    "    idx,val = min(enumerate(array), key=lambda x: abs(x[1]-value))\n",
    "    return idx\n",
    "\n",
    "def find_nearest2(array, values):\n",
    "    '''not right function'''\n",
    "    indices = np.abs(np.subtract.outer(array, values)).argmin(0)\n",
    "    return indices\n",
    "\n",
    "def find_nearest3(array, values):\n",
    "    values = np.atleast_1d(values)\n",
    "    indices = np.abs(np.int64(np.subtract.outer(array, values))).argmin(0)\n",
    "    out = array[indices]\n",
    "    return indices\n",
    "\n",
    "def find_nearest4(array,value):\n",
    "    '''not right function and non vector'''\n",
    "    idx = (np.abs(array-value)).argmin()\n",
    "    return idx\n",
    "\n",
    "\n",
    "def find_nearest5(array, value):\n",
    "    '''not right function and non vector'''\n",
    "    idx_sorted = np.argsort(array)\n",
    "    sorted_array = np.array(array[idx_sorted])\n",
    "    idx = np.searchsorted(sorted_array, value, side=\"left\")\n",
    "    if idx >= len(array):\n",
    "        idx_nearest = idx_sorted[len(array)-1]\n",
    "    elif idx == 0:\n",
    "        idx_nearest = idx_sorted[0]\n",
    "    else:\n",
    "        if abs(value - sorted_array[idx-1]) < abs(value - sorted_array[idx]):\n",
    "            idx_nearest = idx_sorted[idx-1]\n",
    "        else:\n",
    "            idx_nearest = idx_sorted[idx]\n",
    "    return idx_nearest\n",
    "\n",
    "def find_nearest6(array,value):\n",
    "    xi = np.argmin(np.abs(np.ceil(array[None].T - value)),axis=0)\n",
    "    return xi\n",
    "\n",
    "def bisection(array,value,lower = -np.inf, upper=np.inf):\n",
    "    '''Given an ``array`` , and given a ``value`` , returns an index j such that ``value`` is between array[j]\n",
    "    and array[j+1]. ``array`` must be monotonic increasing. j=-1 or j=len(array) is returned\n",
    "    to indicate that ``value`` is out of range below and above respectively.'''\n",
    "    n = len(array)\n",
    "    if (value < array[0]):\n",
    "        return -1,lower\n",
    "        res = -1# Then set the output\n",
    "    elif (value > array[n-1]):\n",
    "        return n, upper\n",
    "    #array = np.append(np.append(-np.inf,array),np.inf)\n",
    "    jl = 0# Initialize lower\n",
    "    ju = n-1# and upper limits.\n",
    "    while (ju-jl > 1):# If we are not yet done,\n",
    "        jm=(ju+jl) >> 1# compute a midpoint,\n",
    "        if (value >= array[jm]):\n",
    "            jl=jm# and replace either the lower limit\n",
    "        else:\n",
    "            ju=jm# or the upper limit, as appropriate.\n",
    "        # Repeat until the test condition is satisfied.\n",
    "    if (value == array[0]):\n",
    "        return 0,array[0]\n",
    "        res = -1# Then set the output\n",
    "    elif (value == array[n-1]):\n",
    "        return n-1,array[n-1]\n",
    "    else:\n",
    "        return jl, array[jl]\n",
    "\n",
    "if __name__=='__main__':\n",
    "    array = np.arange(100000)\n",
    "\n",
    "    val = array[50000]+0.55\n",
    "    print( bisection(array,val))\n",
    "    %timeit bisection(array,val)\n",
    "    print( find_nearest1(array,val))\n",
    "    %timeit find_nearest1(array,val)\n",
    "    print( find_nearest2(array,val))\n",
    "    %timeit find_nearest2(array,val)\n",
    "    print( find_nearest3(array,val))\n",
    "    %timeit find_nearest3(array,val)\n",
    "    print( find_nearest4(array,val))\n",
    "    %timeit find_nearest4(array,val)\n",
    "    print( find_nearest5(array,val))\n",
    "    %timeit find_nearest5(array,val)\n",
    "    print( find_nearest6(array,val))\n",
    "    %timeit find_nearest6(array,val)\n",
    "    "
   ]
  },
  {
   "cell_type": "code",
   "execution_count": 8,
   "metadata": {
    "collapsed": false
   },
   "outputs": [
    {
     "data": {
      "text/plain": [
       "array([2, 3, 4, 5])"
      ]
     },
     "execution_count": 8,
     "metadata": {},
     "output_type": "execute_result"
    }
   ],
   "source": [
    "(2, 2)\n",
    "100000 loops, best of 3: 4.36 µs per loop\n",
    "3\n",
    "10 loops, best of 3: 143 ms per loop\n",
    "3\n",
    "10000 loops, best of 3: 203 µs per loop\n",
    "[2]\n",
    "1000 loops, best of 3: 380 µs per loop\n",
    "3\n",
    "1000 loops, best of 3: 197 µs per loop\n",
    "3\n",
    "1000 loops, best of 3: 876 µs per loop\n",
    "[2]\n",
    "1000 loops, best of 3: 1.05 ms per loop"
   ]
  },
  {
   "cell_type": "code",
   "execution_count": null,
   "metadata": {
    "collapsed": true
   },
   "outputs": [],
   "source": []
  }
 ],
 "metadata": {
  "kernelspec": {
   "display_name": "Python [conda env:mayavi_env]",
   "language": "python",
   "name": "conda-env-mayavi_env-py"
  },
  "language_info": {
   "codemirror_mode": {
    "name": "ipython",
    "version": 2
   },
   "file_extension": ".py",
   "mimetype": "text/x-python",
   "name": "python",
   "nbconvert_exporter": "python",
   "pygments_lexer": "ipython2",
   "version": "2.7.12"
  }
 },
 "nbformat": 4,
 "nbformat_minor": 1
}

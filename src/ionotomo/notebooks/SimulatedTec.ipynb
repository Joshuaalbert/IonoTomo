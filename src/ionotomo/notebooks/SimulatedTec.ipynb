{
 "cells": [
  {
   "cell_type": "code",
   "execution_count": 16,
   "metadata": {
    "scrolled": true
   },
   "outputs": [
    {
     "name": "stdout",
     "output_type": "stream",
     "text": [
      "Setting refAnt: CS201HBA1\n",
      "Loaded 58 antennas, 3595 times, 900 directions\n",
      "Setting refAnt: CS201HBA0\n",
      "Loaded 58 antennas, 3595 times, 900 directions\n",
      "Setting refAnt: CS201HBA0\n",
      "Setting refAnt: CS201HBA1\n",
      "Setting refAnt: CS201HBA1\n",
      "Using radio array Radio Array: 1.50000e+08 MHz, Longitude 6.84 deg Latitude 52.91 deg Height 30.97 m\n",
      "Using phase center 217.62933909313728 deg 34.67457328431372 deg\n",
      "Fixing frame at 2014-08-10T13:00:00.000\n",
      "Elevation is 46.24627201340198 deg\n",
      "Sun at zenith angle 40.729142650482565\n",
      "Creating ionosphere model...\n",
      "Found domain u in -145.51956720426597..143.7794388419452, v in -153.4459075376085..152.0603987286775, w in -102.87383524235211..1100.0\n",
      "Nx=58 Ny=62 Nz=241 number of cells: 866636\n",
      "Computing Cd over a window of 0.0 seconds\n",
      "Spliting up jobs into directions\n"
     ]
    },
    {
     "name": "stderr",
     "output_type": "stream",
     "text": [
      "[========================================] 900/900 (100%)   0 to go 0.000000 sss\n",
      "Completed in 123.77504889345619 seconds.\n"
     ]
    },
    {
     "name": "stdout",
     "output_type": "stream",
     "text": [
      "Creating ray cast job server\n",
      "Submitting 900 ray cast jobs\n",
      "Using straight line approximation\n",
      "Waiting for ray cast jobs to finish.\n",
      "Job execution statistics:\n",
      " job count | % of all jobs | job time sum | time per job | job server\n",
      "       900 |        100.00 |     155.8482 |     0.173165 | local\n",
      "Time elapsed since server creation 53.05698108673096\n",
      "0 active tasks, 6 cores\n",
      "\n",
      "Creating tec/Ct integration job server\n",
      "Submitting 900 tec calculation jobs\n",
      "Waiting for jobs to finish.\n",
      "Job execution statistics:\n",
      " job count | % of all jobs | job time sum | time per job | job server\n",
      "       900 |        100.00 |     254.2407 |     0.282490 | local\n",
      "Time elapsed since server creation 75.2549033164978\n",
      "0 active tasks, 6 cores\n",
      "\n",
      "Size of muTCI cache: 20619\n",
      "Computing dtec from tec products\n",
      "Setting refAnt: CS201HBA1\n"
     ]
    },
    {
     "name": "stderr",
     "output_type": "stream",
     "text": [
      "C:\\Users\\josh\\Anaconda3\\envs\\compute\\lib\\site-packages\\matplotlib\\pyplot.py:524: RuntimeWarning: More than 20 figures have been opened. Figures created through the pyplot interface (`matplotlib.pyplot.figure`) are retained until explicitly closed and may consume too much memory. (To control this warning, see the rcParam `figure.max_open_warning`).\n",
      "  max_open_warning, RuntimeWarning)\n"
     ]
    },
    {
     "data": {
      "text/plain": [
       "<matplotlib.figure.Figure at 0x2a3ac8ebef0>"
      ]
     },
     "metadata": {},
     "output_type": "display_data"
    },
    {
     "data": {
      "text/plain": [
       "<matplotlib.figure.Figure at 0x2a3ac3f7be0>"
      ]
     },
     "metadata": {},
     "output_type": "display_data"
    },
    {
     "data": {
      "text/plain": [
       "<matplotlib.figure.Figure at 0x2a3acab0ef0>"
      ]
     },
     "metadata": {},
     "output_type": "display_data"
    },
    {
     "data": {
      "text/plain": [
       "<matplotlib.figure.Figure at 0x2a3acac89e8>"
      ]
     },
     "metadata": {},
     "output_type": "display_data"
    },
    {
     "data": {
      "text/plain": [
       "<matplotlib.figure.Figure at 0x2a3acb32278>"
      ]
     },
     "metadata": {},
     "output_type": "display_data"
    },
    {
     "data": {
      "text/plain": [
       "<matplotlib.figure.Figure at 0x2a3acb7fa58>"
      ]
     },
     "metadata": {},
     "output_type": "display_data"
    },
    {
     "data": {
      "text/plain": [
       "<matplotlib.figure.Figure at 0x2a3ac749d30>"
      ]
     },
     "metadata": {},
     "output_type": "display_data"
    },
    {
     "data": {
      "text/plain": [
       "<matplotlib.figure.Figure at 0x2a3ac7f2400>"
      ]
     },
     "metadata": {},
     "output_type": "display_data"
    },
    {
     "data": {
      "text/plain": [
       "<matplotlib.figure.Figure at 0x2a3acb2d4a8>"
      ]
     },
     "metadata": {},
     "output_type": "display_data"
    },
    {
     "data": {
      "text/plain": [
       "<matplotlib.figure.Figure at 0x2a3abbceb70>"
      ]
     },
     "metadata": {},
     "output_type": "display_data"
    },
    {
     "data": {
      "text/plain": [
       "<matplotlib.figure.Figure at 0x2a3ab9b3f60>"
      ]
     },
     "metadata": {},
     "output_type": "display_data"
    },
    {
     "data": {
      "text/plain": [
       "<matplotlib.figure.Figure at 0x2a3acc194e0>"
      ]
     },
     "metadata": {},
     "output_type": "display_data"
    },
    {
     "data": {
      "text/plain": [
       "<matplotlib.figure.Figure at 0x2a3abe54ba8>"
      ]
     },
     "metadata": {},
     "output_type": "display_data"
    },
    {
     "data": {
      "text/plain": [
       "<matplotlib.figure.Figure at 0x2a3ac12eac8>"
      ]
     },
     "metadata": {},
     "output_type": "display_data"
    },
    {
     "data": {
      "text/plain": [
       "<matplotlib.figure.Figure at 0x2a3acac30f0>"
      ]
     },
     "metadata": {},
     "output_type": "display_data"
    },
    {
     "data": {
      "text/plain": [
       "<matplotlib.figure.Figure at 0x2a3ab9b3dd8>"
      ]
     },
     "metadata": {},
     "output_type": "display_data"
    },
    {
     "data": {
      "text/plain": [
       "<matplotlib.figure.Figure at 0x2a3ac1eb588>"
      ]
     },
     "metadata": {},
     "output_type": "display_data"
    },
    {
     "data": {
      "text/plain": [
       "<matplotlib.figure.Figure at 0x2a3ac373a90>"
      ]
     },
     "metadata": {},
     "output_type": "display_data"
    },
    {
     "data": {
      "text/plain": [
       "<matplotlib.figure.Figure at 0x2a3abc33ac8>"
      ]
     },
     "metadata": {},
     "output_type": "display_data"
    },
    {
     "data": {
      "text/plain": [
       "<matplotlib.figure.Figure at 0x2a3ac61bb00>"
      ]
     },
     "metadata": {},
     "output_type": "display_data"
    },
    {
     "data": {
      "text/plain": [
       "<matplotlib.figure.Figure at 0x2a3ac3ca2e8>"
      ]
     },
     "metadata": {},
     "output_type": "display_data"
    },
    {
     "data": {
      "text/plain": [
       "<matplotlib.figure.Figure at 0x2a3abc855c0>"
      ]
     },
     "metadata": {},
     "output_type": "display_data"
    },
    {
     "data": {
      "text/plain": [
       "<matplotlib.figure.Figure at 0x2a3aba653c8>"
      ]
     },
     "metadata": {},
     "output_type": "display_data"
    },
    {
     "data": {
      "text/plain": [
       "<matplotlib.figure.Figure at 0x2a3ac12e860>"
      ]
     },
     "metadata": {},
     "output_type": "display_data"
    },
    {
     "data": {
      "text/plain": [
       "<matplotlib.figure.Figure at 0x2a3ac69a128>"
      ]
     },
     "metadata": {},
     "output_type": "display_data"
    },
    {
     "data": {
      "text/plain": [
       "<matplotlib.figure.Figure at 0x2a3abdf36a0>"
      ]
     },
     "metadata": {},
     "output_type": "display_data"
    },
    {
     "data": {
      "text/plain": [
       "<matplotlib.figure.Figure at 0x2a3aba4dc88>"
      ]
     },
     "metadata": {},
     "output_type": "display_data"
    },
    {
     "data": {
      "text/plain": [
       "<matplotlib.figure.Figure at 0x2a3aa7d15f8>"
      ]
     },
     "metadata": {},
     "output_type": "display_data"
    },
    {
     "data": {
      "text/plain": [
       "<matplotlib.figure.Figure at 0x2a3ac059860>"
      ]
     },
     "metadata": {},
     "output_type": "display_data"
    },
    {
     "data": {
      "text/plain": [
       "<matplotlib.figure.Figure at 0x2a3aa7df6a0>"
      ]
     },
     "metadata": {},
     "output_type": "display_data"
    },
    {
     "data": {
      "text/plain": [
       "<matplotlib.figure.Figure at 0x2a3aa7fb978>"
      ]
     },
     "metadata": {},
     "output_type": "display_data"
    },
    {
     "data": {
      "text/plain": [
       "<matplotlib.figure.Figure at 0x2a3abe4d908>"
      ]
     },
     "metadata": {},
     "output_type": "display_data"
    },
    {
     "data": {
      "text/plain": [
       "<matplotlib.figure.Figure at 0x2a3a9e0de80>"
      ]
     },
     "metadata": {},
     "output_type": "display_data"
    },
    {
     "data": {
      "text/plain": [
       "<matplotlib.figure.Figure at 0x2a3ac154898>"
      ]
     },
     "metadata": {},
     "output_type": "display_data"
    },
    {
     "data": {
      "text/plain": [
       "<matplotlib.figure.Figure at 0x2a3ac0d0748>"
      ]
     },
     "metadata": {},
     "output_type": "display_data"
    },
    {
     "data": {
      "text/plain": [
       "<matplotlib.figure.Figure at 0x2a3abfc3cc0>"
      ]
     },
     "metadata": {},
     "output_type": "display_data"
    },
    {
     "data": {
      "text/plain": [
       "<matplotlib.figure.Figure at 0x2a3a5b8d390>"
      ]
     },
     "metadata": {},
     "output_type": "display_data"
    },
    {
     "data": {
      "text/plain": [
       "<matplotlib.figure.Figure at 0x2a3a5c54160>"
      ]
     },
     "metadata": {},
     "output_type": "display_data"
    },
    {
     "data": {
      "text/plain": [
       "<matplotlib.figure.Figure at 0x2a3ac935be0>"
      ]
     },
     "metadata": {},
     "output_type": "display_data"
    },
    {
     "data": {
      "text/plain": [
       "<matplotlib.figure.Figure at 0x2a3ac52aef0>"
      ]
     },
     "metadata": {},
     "output_type": "display_data"
    },
    {
     "data": {
      "text/plain": [
       "<matplotlib.figure.Figure at 0x2a3ab553358>"
      ]
     },
     "metadata": {},
     "output_type": "display_data"
    },
    {
     "data": {
      "text/plain": [
       "<matplotlib.figure.Figure at 0x2a3a5b5d780>"
      ]
     },
     "metadata": {},
     "output_type": "display_data"
    },
    {
     "data": {
      "text/plain": [
       "<matplotlib.figure.Figure at 0x2a3ab900860>"
      ]
     },
     "metadata": {},
     "output_type": "display_data"
    },
    {
     "data": {
      "text/plain": [
       "<matplotlib.figure.Figure at 0x2a3acb43358>"
      ]
     },
     "metadata": {},
     "output_type": "display_data"
    },
    {
     "data": {
      "text/plain": [
       "<matplotlib.figure.Figure at 0x2a3aa7da828>"
      ]
     },
     "metadata": {},
     "output_type": "display_data"
    },
    {
     "data": {
      "text/plain": [
       "<matplotlib.figure.Figure at 0x2a3ab4b6630>"
      ]
     },
     "metadata": {},
     "output_type": "display_data"
    },
    {
     "data": {
      "text/plain": [
       "<matplotlib.figure.Figure at 0x2a3ac5f4fd0>"
      ]
     },
     "metadata": {},
     "output_type": "display_data"
    },
    {
     "data": {
      "text/plain": [
       "<matplotlib.figure.Figure at 0x2a3ab3f1208>"
      ]
     },
     "metadata": {},
     "output_type": "display_data"
    },
    {
     "data": {
      "text/plain": [
       "<matplotlib.figure.Figure at 0x2a3ac110b38>"
      ]
     },
     "metadata": {},
     "output_type": "display_data"
    },
    {
     "data": {
      "text/plain": [
       "<matplotlib.figure.Figure at 0x2a3ac358128>"
      ]
     },
     "metadata": {},
     "output_type": "display_data"
    },
    {
     "data": {
      "text/plain": [
       "<matplotlib.figure.Figure at 0x2a3ab8df160>"
      ]
     },
     "metadata": {},
     "output_type": "display_data"
    },
    {
     "data": {
      "text/plain": [
       "<matplotlib.figure.Figure at 0x2a3ac480518>"
      ]
     },
     "metadata": {},
     "output_type": "display_data"
    },
    {
     "data": {
      "text/plain": [
       "<matplotlib.figure.Figure at 0x2a3a5c56f28>"
      ]
     },
     "metadata": {},
     "output_type": "display_data"
    },
    {
     "data": {
      "text/plain": [
       "<matplotlib.figure.Figure at 0x2a3aa6ea668>"
      ]
     },
     "metadata": {},
     "output_type": "display_data"
    },
    {
     "data": {
      "text/plain": [
       "<matplotlib.figure.Figure at 0x2a3ab579b70>"
      ]
     },
     "metadata": {},
     "output_type": "display_data"
    },
    {
     "data": {
      "text/plain": [
       "<matplotlib.figure.Figure at 0x2a3ab7cc860>"
      ]
     },
     "metadata": {},
     "output_type": "display_data"
    },
    {
     "data": {
      "text/plain": [
       "<matplotlib.figure.Figure at 0x2a3ac10f588>"
      ]
     },
     "metadata": {},
     "output_type": "display_data"
    },
    {
     "data": {
      "text/plain": [
       "<matplotlib.figure.Figure at 0x2a3ab7eb240>"
      ]
     },
     "metadata": {},
     "output_type": "display_data"
    },
    {
     "data": {
      "text/plain": [
       "<matplotlib.figure.Figure at 0x2a3ac9cfa90>"
      ]
     },
     "metadata": {},
     "output_type": "display_data"
    },
    {
     "data": {
      "text/plain": [
       "<matplotlib.figure.Figure at 0x2a3abe08438>"
      ]
     },
     "metadata": {},
     "output_type": "display_data"
    },
    {
     "data": {
      "text/plain": [
       "<matplotlib.figure.Figure at 0x2a3ac059c88>"
      ]
     },
     "metadata": {},
     "output_type": "display_data"
    },
    {
     "data": {
      "text/plain": [
       "<matplotlib.figure.Figure at 0x2a3ab6f66a0>"
      ]
     },
     "metadata": {},
     "output_type": "display_data"
    },
    {
     "data": {
      "text/plain": [
       "<matplotlib.figure.Figure at 0x2a3ac46a4e0>"
      ]
     },
     "metadata": {},
     "output_type": "display_data"
    },
    {
     "data": {
      "text/plain": [
       "<matplotlib.figure.Figure at 0x2a3ac98e3c8>"
      ]
     },
     "metadata": {},
     "output_type": "display_data"
    },
    {
     "data": {
      "text/plain": [
       "<matplotlib.figure.Figure at 0x2a3acc19d68>"
      ]
     },
     "metadata": {},
     "output_type": "display_data"
    },
    {
     "data": {
      "text/plain": [
       "<matplotlib.figure.Figure at 0x2a3aaaafd30>"
      ]
     },
     "metadata": {},
     "output_type": "display_data"
    },
    {
     "data": {
      "text/plain": [
       "<matplotlib.figure.Figure at 0x2a3ac0b1ac8>"
      ]
     },
     "metadata": {},
     "output_type": "display_data"
    },
    {
     "data": {
      "text/plain": [
       "<matplotlib.figure.Figure at 0x2a3ac699a20>"
      ]
     },
     "metadata": {},
     "output_type": "display_data"
    },
    {
     "data": {
      "text/plain": [
       "<matplotlib.figure.Figure at 0x2a3aa6d4e10>"
      ]
     },
     "metadata": {},
     "output_type": "display_data"
    },
    {
     "data": {
      "text/plain": [
       "<matplotlib.figure.Figure at 0x2a3ab9df9b0>"
      ]
     },
     "metadata": {},
     "output_type": "display_data"
    },
    {
     "data": {
      "text/plain": [
       "<matplotlib.figure.Figure at 0x2a3abe50d68>"
      ]
     },
     "metadata": {},
     "output_type": "display_data"
    },
    {
     "data": {
      "text/plain": [
       "<matplotlib.figure.Figure at 0x2a3ab5034e0>"
      ]
     },
     "metadata": {},
     "output_type": "display_data"
    },
    {
     "data": {
      "text/plain": [
       "<matplotlib.figure.Figure at 0x2a3ac0b1710>"
      ]
     },
     "metadata": {},
     "output_type": "display_data"
    },
    {
     "data": {
      "text/plain": [
       "<matplotlib.figure.Figure at 0x2a3ab503a90>"
      ]
     },
     "metadata": {},
     "output_type": "display_data"
    },
    {
     "data": {
      "text/plain": [
       "<matplotlib.figure.Figure at 0x2a3acbeef60>"
      ]
     },
     "metadata": {},
     "output_type": "display_data"
    },
    {
     "data": {
      "text/plain": [
       "<matplotlib.figure.Figure at 0x2a3abce9240>"
      ]
     },
     "metadata": {},
     "output_type": "display_data"
    },
    {
     "data": {
      "text/plain": [
       "<matplotlib.figure.Figure at 0x2a3ac625358>"
      ]
     },
     "metadata": {},
     "output_type": "display_data"
    },
    {
     "data": {
      "text/plain": [
       "<matplotlib.figure.Figure at 0x2a3a9e247b8>"
      ]
     },
     "metadata": {},
     "output_type": "display_data"
    },
    {
     "data": {
      "text/plain": [
       "<matplotlib.figure.Figure at 0x2a3aa922668>"
      ]
     },
     "metadata": {},
     "output_type": "display_data"
    },
    {
     "data": {
      "text/plain": [
       "<matplotlib.figure.Figure at 0x2a3ac47ea20>"
      ]
     },
     "metadata": {},
     "output_type": "display_data"
    },
    {
     "data": {
      "text/plain": [
       "<matplotlib.figure.Figure at 0x2a3ac119d30>"
      ]
     },
     "metadata": {},
     "output_type": "display_data"
    },
    {
     "data": {
      "text/plain": [
       "<matplotlib.figure.Figure at 0x2a3ab55b940>"
      ]
     },
     "metadata": {},
     "output_type": "display_data"
    },
    {
     "data": {
      "text/plain": [
       "<matplotlib.figure.Figure at 0x2a3ac94a320>"
      ]
     },
     "metadata": {},
     "output_type": "display_data"
    },
    {
     "data": {
      "text/plain": [
       "<matplotlib.figure.Figure at 0x2a3a9e10f98>"
      ]
     },
     "metadata": {},
     "output_type": "display_data"
    },
    {
     "data": {
      "text/plain": [
       "<matplotlib.figure.Figure at 0x2a3aaf7f908>"
      ]
     },
     "metadata": {},
     "output_type": "display_data"
    },
    {
     "data": {
      "text/plain": [
       "<matplotlib.figure.Figure at 0x2a3abf27160>"
      ]
     },
     "metadata": {},
     "output_type": "display_data"
    },
    {
     "data": {
      "text/plain": [
       "<matplotlib.figure.Figure at 0x2a3ac1fbf28>"
      ]
     },
     "metadata": {},
     "output_type": "display_data"
    },
    {
     "data": {
      "text/plain": [
       "<matplotlib.figure.Figure at 0x2a3ac04b2e8>"
      ]
     },
     "metadata": {},
     "output_type": "display_data"
    },
    {
     "data": {
      "text/plain": [
       "<matplotlib.figure.Figure at 0x2a3a9e24b00>"
      ]
     },
     "metadata": {},
     "output_type": "display_data"
    },
    {
     "data": {
      "text/plain": [
       "<matplotlib.figure.Figure at 0x2a3acab0ac8>"
      ]
     },
     "metadata": {},
     "output_type": "display_data"
    },
    {
     "data": {
      "text/plain": [
       "<matplotlib.figure.Figure at 0x2a3ab8c6198>"
      ]
     },
     "metadata": {},
     "output_type": "display_data"
    },
    {
     "data": {
      "text/plain": [
       "<matplotlib.figure.Figure at 0x2a3aa964358>"
      ]
     },
     "metadata": {},
     "output_type": "display_data"
    },
    {
     "data": {
      "text/plain": [
       "<matplotlib.figure.Figure at 0x2a3abce28d0>"
      ]
     },
     "metadata": {},
     "output_type": "display_data"
    },
    {
     "data": {
      "text/plain": [
       "<matplotlib.figure.Figure at 0x2a3ac8613c8>"
      ]
     },
     "metadata": {},
     "output_type": "display_data"
    },
    {
     "data": {
      "text/plain": [
       "<matplotlib.figure.Figure at 0x2a3abe0c5f8>"
      ]
     },
     "metadata": {},
     "output_type": "display_data"
    },
    {
     "data": {
      "text/plain": [
       "<matplotlib.figure.Figure at 0x2a3ab5f4828>"
      ]
     },
     "metadata": {},
     "output_type": "display_data"
    },
    {
     "data": {
      "text/plain": [
       "<matplotlib.figure.Figure at 0x2a3ac9bb438>"
      ]
     },
     "metadata": {},
     "output_type": "display_data"
    },
    {
     "data": {
      "text/plain": [
       "<matplotlib.figure.Figure at 0x2a3ab84acc0>"
      ]
     },
     "metadata": {},
     "output_type": "display_data"
    },
    {
     "data": {
      "text/plain": [
       "<matplotlib.figure.Figure at 0x2a3ab797400>"
      ]
     },
     "metadata": {},
     "output_type": "display_data"
    },
    {
     "data": {
      "text/plain": [
       "<matplotlib.figure.Figure at 0x2a3acab0160>"
      ]
     },
     "metadata": {},
     "output_type": "display_data"
    },
    {
     "data": {
      "text/plain": [
       "<matplotlib.figure.Figure at 0x2a3abe0cd30>"
      ]
     },
     "metadata": {},
     "output_type": "display_data"
    },
    {
     "data": {
      "text/plain": [
       "<matplotlib.figure.Figure at 0x2a3ac3f47b8>"
      ]
     },
     "metadata": {},
     "output_type": "display_data"
    },
    {
     "data": {
      "text/plain": [
       "<matplotlib.figure.Figure at 0x2a3aaf8fda0>"
      ]
     },
     "metadata": {},
     "output_type": "display_data"
    },
    {
     "data": {
      "text/plain": [
       "<matplotlib.figure.Figure at 0x2a3aa6bee80>"
      ]
     },
     "metadata": {},
     "output_type": "display_data"
    },
    {
     "data": {
      "text/plain": [
       "<matplotlib.figure.Figure at 0x2a3ac6f4c88>"
      ]
     },
     "metadata": {},
     "output_type": "display_data"
    },
    {
     "data": {
      "text/plain": [
       "<matplotlib.figure.Figure at 0x2a3aa8327b8>"
      ]
     },
     "metadata": {},
     "output_type": "display_data"
    },
    {
     "data": {
      "text/plain": [
       "<matplotlib.figure.Figure at 0x2a3ab36b898>"
      ]
     },
     "metadata": {},
     "output_type": "display_data"
    },
    {
     "data": {
      "text/plain": [
       "<matplotlib.figure.Figure at 0x2a3ac5ee5c0>"
      ]
     },
     "metadata": {},
     "output_type": "display_data"
    },
    {
     "data": {
      "text/plain": [
       "<matplotlib.figure.Figure at 0x2a3aa79cdd8>"
      ]
     },
     "metadata": {},
     "output_type": "display_data"
    },
    {
     "data": {
      "text/plain": [
       "<matplotlib.figure.Figure at 0x2a3aaeeb588>"
      ]
     },
     "metadata": {},
     "output_type": "display_data"
    },
    {
     "data": {
      "text/plain": [
       "<matplotlib.figure.Figure at 0x2a3ac89d048>"
      ]
     },
     "metadata": {},
     "output_type": "display_data"
    },
    {
     "data": {
      "text/plain": [
       "<matplotlib.figure.Figure at 0x2a3abf621d0>"
      ]
     },
     "metadata": {},
     "output_type": "display_data"
    },
    {
     "data": {
      "text/plain": [
       "<matplotlib.figure.Figure at 0x2a3aa7df5f8>"
      ]
     },
     "metadata": {},
     "output_type": "display_data"
    },
    {
     "data": {
      "text/plain": [
       "<matplotlib.figure.Figure at 0x2a3ac6ed6a0>"
      ]
     },
     "metadata": {},
     "output_type": "display_data"
    },
    {
     "data": {
      "text/plain": [
       "<matplotlib.figure.Figure at 0x2a3ac6c9f98>"
      ]
     },
     "metadata": {},
     "output_type": "display_data"
    },
    {
     "data": {
      "text/plain": [
       "<matplotlib.figure.Figure at 0x2a3ab8c2898>"
      ]
     },
     "metadata": {},
     "output_type": "display_data"
    },
    {
     "data": {
      "text/plain": [
       "<matplotlib.figure.Figure at 0x2a3ac8220b8>"
      ]
     },
     "metadata": {},
     "output_type": "display_data"
    },
    {
     "data": {
      "text/plain": [
       "<matplotlib.figure.Figure at 0x2a3ab404518>"
      ]
     },
     "metadata": {},
     "output_type": "display_data"
    },
    {
     "data": {
      "text/plain": [
       "<matplotlib.figure.Figure at 0x2a3aacca860>"
      ]
     },
     "metadata": {},
     "output_type": "display_data"
    },
    {
     "data": {
      "text/plain": [
       "<matplotlib.figure.Figure at 0x2a3ac4d17f0>"
      ]
     },
     "metadata": {},
     "output_type": "display_data"
    },
    {
     "data": {
      "text/plain": [
       "<matplotlib.figure.Figure at 0x2a3ac80da58>"
      ]
     },
     "metadata": {},
     "output_type": "display_data"
    },
    {
     "data": {
      "text/plain": [
       "<matplotlib.figure.Figure at 0x2a3aacd2a58>"
      ]
     },
     "metadata": {},
     "output_type": "display_data"
    },
    {
     "data": {
      "text/plain": [
       "<matplotlib.figure.Figure at 0x2a3ac1d41d0>"
      ]
     },
     "metadata": {},
     "output_type": "display_data"
    },
    {
     "data": {
      "text/plain": [
       "<matplotlib.figure.Figure at 0x2a3a9e26908>"
      ]
     },
     "metadata": {},
     "output_type": "display_data"
    },
    {
     "data": {
      "text/plain": [
       "<matplotlib.figure.Figure at 0x2a3aaeeb8d0>"
      ]
     },
     "metadata": {},
     "output_type": "display_data"
    },
    {
     "data": {
      "text/plain": [
       "<matplotlib.figure.Figure at 0x2a3ab7ddda0>"
      ]
     },
     "metadata": {},
     "output_type": "display_data"
    },
    {
     "data": {
      "text/plain": [
       "<matplotlib.figure.Figure at 0x2a3ac0d0240>"
      ]
     },
     "metadata": {},
     "output_type": "display_data"
    },
    {
     "data": {
      "text/plain": [
       "<matplotlib.figure.Figure at 0x2a3aca28c18>"
      ]
     },
     "metadata": {},
     "output_type": "display_data"
    },
    {
     "data": {
      "text/plain": [
       "<matplotlib.figure.Figure at 0x2a3ad873b70>"
      ]
     },
     "metadata": {},
     "output_type": "display_data"
    },
    {
     "data": {
      "text/plain": [
       "<matplotlib.figure.Figure at 0x2a3aa92e5c0>"
      ]
     },
     "metadata": {},
     "output_type": "display_data"
    },
    {
     "data": {
      "text/plain": [
       "<matplotlib.figure.Figure at 0x2a3a9e0d828>"
      ]
     },
     "metadata": {},
     "output_type": "display_data"
    },
    {
     "data": {
      "text/plain": [
       "<matplotlib.figure.Figure at 0x2a3ac97af28>"
      ]
     },
     "metadata": {},
     "output_type": "display_data"
    },
    {
     "data": {
      "text/plain": [
       "<matplotlib.figure.Figure at 0x2a3aad5bb70>"
      ]
     },
     "metadata": {},
     "output_type": "display_data"
    },
    {
     "data": {
      "text/plain": [
       "<matplotlib.figure.Figure at 0x2a3aacee748>"
      ]
     },
     "metadata": {},
     "output_type": "display_data"
    },
    {
     "data": {
      "text/plain": [
       "<matplotlib.figure.Figure at 0x2a3ac1542b0>"
      ]
     },
     "metadata": {},
     "output_type": "display_data"
    },
    {
     "data": {
      "text/plain": [
       "<matplotlib.figure.Figure at 0x2a3aca91160>"
      ]
     },
     "metadata": {},
     "output_type": "display_data"
    },
    {
     "data": {
      "text/plain": [
       "<matplotlib.figure.Figure at 0x2a3ab8df080>"
      ]
     },
     "metadata": {},
     "output_type": "display_data"
    },
    {
     "data": {
      "text/plain": [
       "<matplotlib.figure.Figure at 0x2a3acba9438>"
      ]
     },
     "metadata": {},
     "output_type": "display_data"
    },
    {
     "data": {
      "text/plain": [
       "<matplotlib.figure.Figure at 0x2a3ab694f98>"
      ]
     },
     "metadata": {},
     "output_type": "display_data"
    },
    {
     "data": {
      "text/plain": [
       "<matplotlib.figure.Figure at 0x2a3abfc3550>"
      ]
     },
     "metadata": {},
     "output_type": "display_data"
    },
    {
     "data": {
      "text/plain": [
       "<matplotlib.figure.Figure at 0x2a3aa7bfac8>"
      ]
     },
     "metadata": {},
     "output_type": "display_data"
    },
    {
     "data": {
      "text/plain": [
       "<matplotlib.figure.Figure at 0x2a3ac6f4630>"
      ]
     },
     "metadata": {},
     "output_type": "display_data"
    },
    {
     "data": {
      "text/plain": [
       "<matplotlib.figure.Figure at 0x2a3aa7df9b0>"
      ]
     },
     "metadata": {},
     "output_type": "display_data"
    },
    {
     "data": {
      "text/plain": [
       "<matplotlib.figure.Figure at 0x2a3aa89db00>"
      ]
     },
     "metadata": {},
     "output_type": "display_data"
    },
    {
     "data": {
      "text/plain": [
       "<matplotlib.figure.Figure at 0x2a3ac3620b8>"
      ]
     },
     "metadata": {},
     "output_type": "display_data"
    },
    {
     "data": {
      "text/plain": [
       "<matplotlib.figure.Figure at 0x2a3acb3acc0>"
      ]
     },
     "metadata": {},
     "output_type": "display_data"
    },
    {
     "data": {
      "text/plain": [
       "<matplotlib.figure.Figure at 0x2a3aa964f28>"
      ]
     },
     "metadata": {},
     "output_type": "display_data"
    },
    {
     "data": {
      "text/plain": [
       "<matplotlib.figure.Figure at 0x2a3ac0c4cc0>"
      ]
     },
     "metadata": {},
     "output_type": "display_data"
    },
    {
     "data": {
      "text/plain": [
       "<matplotlib.figure.Figure at 0x2a3abc33518>"
      ]
     },
     "metadata": {},
     "output_type": "display_data"
    },
    {
     "data": {
      "text/plain": [
       "<matplotlib.figure.Figure at 0x2a3a9f516a0>"
      ]
     },
     "metadata": {},
     "output_type": "display_data"
    },
    {
     "data": {
      "text/plain": [
       "<matplotlib.figure.Figure at 0x2a3acbf2ac8>"
      ]
     },
     "metadata": {},
     "output_type": "display_data"
    },
    {
     "data": {
      "text/plain": [
       "<matplotlib.figure.Figure at 0x2a3abb28128>"
      ]
     },
     "metadata": {},
     "output_type": "display_data"
    },
    {
     "data": {
      "text/plain": [
       "<matplotlib.figure.Figure at 0x2a3aa9641d0>"
      ]
     },
     "metadata": {},
     "output_type": "display_data"
    },
    {
     "data": {
      "text/plain": [
       "<matplotlib.figure.Figure at 0x2a3ac61b668>"
      ]
     },
     "metadata": {},
     "output_type": "display_data"
    },
    {
     "data": {
      "text/plain": [
       "<matplotlib.figure.Figure at 0x2a3ac92c828>"
      ]
     },
     "metadata": {},
     "output_type": "display_data"
    },
    {
     "data": {
      "text/plain": [
       "<matplotlib.figure.Figure at 0x2a3a9e108d0>"
      ]
     },
     "metadata": {},
     "output_type": "display_data"
    },
    {
     "data": {
      "text/plain": [
       "<matplotlib.figure.Figure at 0x2a3ac23ef60>"
      ]
     },
     "metadata": {},
     "output_type": "display_data"
    },
    {
     "data": {
      "text/plain": [
       "<matplotlib.figure.Figure at 0x2a3ac6ed7b8>"
      ]
     },
     "metadata": {},
     "output_type": "display_data"
    },
    {
     "data": {
      "text/plain": [
       "<matplotlib.figure.Figure at 0x2a3aab3a860>"
      ]
     },
     "metadata": {},
     "output_type": "display_data"
    },
    {
     "data": {
      "text/plain": [
       "<matplotlib.figure.Figure at 0x2a3aad5add8>"
      ]
     },
     "metadata": {},
     "output_type": "display_data"
    },
    {
     "data": {
      "text/plain": [
       "<matplotlib.figure.Figure at 0x2a3aca6ff28>"
      ]
     },
     "metadata": {},
     "output_type": "display_data"
    },
    {
     "data": {
      "text/plain": [
       "<matplotlib.figure.Figure at 0x2a3abe08d30>"
      ]
     },
     "metadata": {},
     "output_type": "display_data"
    },
    {
     "data": {
      "text/plain": [
       "<matplotlib.figure.Figure at 0x2a3ac1c1400>"
      ]
     },
     "metadata": {},
     "output_type": "display_data"
    },
    {
     "data": {
      "text/plain": [
       "<matplotlib.figure.Figure at 0x2a3ab4f8748>"
      ]
     },
     "metadata": {},
     "output_type": "display_data"
    },
    {
     "data": {
      "text/plain": [
       "<matplotlib.figure.Figure at 0x2a3aad2ceb8>"
      ]
     },
     "metadata": {},
     "output_type": "display_data"
    },
    {
     "data": {
      "text/plain": [
       "<matplotlib.figure.Figure at 0x2a3ab312908>"
      ]
     },
     "metadata": {},
     "output_type": "display_data"
    },
    {
     "data": {
      "text/plain": [
       "<matplotlib.figure.Figure at 0x2a3aad0ccc0>"
      ]
     },
     "metadata": {},
     "output_type": "display_data"
    },
    {
     "data": {
      "text/plain": [
       "<matplotlib.figure.Figure at 0x2a3aa8a0048>"
      ]
     },
     "metadata": {},
     "output_type": "display_data"
    },
    {
     "data": {
      "text/plain": [
       "<matplotlib.figure.Figure at 0x2a3ac1f8b38>"
      ]
     },
     "metadata": {},
     "output_type": "display_data"
    },
    {
     "data": {
      "text/plain": [
       "<matplotlib.figure.Figure at 0x2a3ac696e10>"
      ]
     },
     "metadata": {},
     "output_type": "display_data"
    },
    {
     "data": {
      "text/plain": [
       "<matplotlib.figure.Figure at 0x2a3acc06b00>"
      ]
     },
     "metadata": {},
     "output_type": "display_data"
    },
    {
     "data": {
      "text/plain": [
       "<matplotlib.figure.Figure at 0x2a3ac7b1e48>"
      ]
     },
     "metadata": {},
     "output_type": "display_data"
    },
    {
     "data": {
      "text/plain": [
       "<matplotlib.figure.Figure at 0x2a3ac0d0c18>"
      ]
     },
     "metadata": {},
     "output_type": "display_data"
    },
    {
     "data": {
      "text/plain": [
       "<matplotlib.figure.Figure at 0x2a3ac935320>"
      ]
     },
     "metadata": {},
     "output_type": "display_data"
    },
    {
     "data": {
      "text/plain": [
       "<matplotlib.figure.Figure at 0x2a3a9e034a8>"
      ]
     },
     "metadata": {},
     "output_type": "display_data"
    },
    {
     "data": {
      "text/plain": [
       "<matplotlib.figure.Figure at 0x2a3aaf8f6d8>"
      ]
     },
     "metadata": {},
     "output_type": "display_data"
    },
    {
     "data": {
      "text/plain": [
       "<matplotlib.figure.Figure at 0x2a3ac7c13c8>"
      ]
     },
     "metadata": {},
     "output_type": "display_data"
    },
    {
     "data": {
      "text/plain": [
       "<matplotlib.figure.Figure at 0x2a3ac55f518>"
      ]
     },
     "metadata": {},
     "output_type": "display_data"
    },
    {
     "data": {
      "text/plain": [
       "<matplotlib.figure.Figure at 0x2a3ab786b70>"
      ]
     },
     "metadata": {},
     "output_type": "display_data"
    },
    {
     "data": {
      "text/plain": [
       "<matplotlib.figure.Figure at 0x2a3ac1de320>"
      ]
     },
     "metadata": {},
     "output_type": "display_data"
    },
    {
     "data": {
      "text/plain": [
       "<matplotlib.figure.Figure at 0x2a3aac48710>"
      ]
     },
     "metadata": {},
     "output_type": "display_data"
    },
    {
     "data": {
      "text/plain": [
       "<matplotlib.figure.Figure at 0x2a3aac08860>"
      ]
     },
     "metadata": {},
     "output_type": "display_data"
    },
    {
     "data": {
      "text/plain": [
       "<matplotlib.figure.Figure at 0x2a3ab621320>"
      ]
     },
     "metadata": {},
     "output_type": "display_data"
    },
    {
     "data": {
      "text/plain": [
       "<matplotlib.figure.Figure at 0x2a3ac361438>"
      ]
     },
     "metadata": {},
     "output_type": "display_data"
    },
    {
     "data": {
      "text/plain": [
       "<matplotlib.figure.Figure at 0x2a3abbce9b0>"
      ]
     },
     "metadata": {},
     "output_type": "display_data"
    },
    {
     "data": {
      "text/plain": [
       "<matplotlib.figure.Figure at 0x2a3ac658320>"
      ]
     },
     "metadata": {},
     "output_type": "display_data"
    },
    {
     "data": {
      "text/plain": [
       "<matplotlib.figure.Figure at 0x2a3ab5b9dd8>"
      ]
     },
     "metadata": {},
     "output_type": "display_data"
    },
    {
     "data": {
      "text/plain": [
       "<matplotlib.figure.Figure at 0x2a3ab4b66d8>"
      ]
     },
     "metadata": {},
     "output_type": "display_data"
    },
    {
     "data": {
      "text/plain": [
       "<matplotlib.figure.Figure at 0x2a3ac392128>"
      ]
     },
     "metadata": {},
     "output_type": "display_data"
    },
    {
     "data": {
      "text/plain": [
       "<matplotlib.figure.Figure at 0x2a3ac7e6be0>"
      ]
     },
     "metadata": {},
     "output_type": "display_data"
    },
    {
     "data": {
      "text/plain": [
       "<matplotlib.figure.Figure at 0x2a3aaed9c50>"
      ]
     },
     "metadata": {},
     "output_type": "display_data"
    },
    {
     "data": {
      "text/plain": [
       "<matplotlib.figure.Figure at 0x2a3ac49b860>"
      ]
     },
     "metadata": {},
     "output_type": "display_data"
    },
    {
     "data": {
      "text/plain": [
       "<matplotlib.figure.Figure at 0x2a3aadc30b8>"
      ]
     },
     "metadata": {},
     "output_type": "display_data"
    },
    {
     "data": {
      "text/plain": [
       "<matplotlib.figure.Figure at 0x2a3abdbe048>"
      ]
     },
     "metadata": {},
     "output_type": "display_data"
    },
    {
     "data": {
      "text/plain": [
       "<matplotlib.figure.Figure at 0x2a3abe08518>"
      ]
     },
     "metadata": {},
     "output_type": "display_data"
    },
    {
     "data": {
      "text/plain": [
       "<matplotlib.figure.Figure at 0x2a3ab95b978>"
      ]
     },
     "metadata": {},
     "output_type": "display_data"
    },
    {
     "data": {
      "text/plain": [
       "<matplotlib.figure.Figure at 0x2a3abec4dd8>"
      ]
     },
     "metadata": {},
     "output_type": "display_data"
    },
    {
     "data": {
      "text/plain": [
       "<matplotlib.figure.Figure at 0x2a3ab786390>"
      ]
     },
     "metadata": {},
     "output_type": "display_data"
    },
    {
     "data": {
      "text/plain": [
       "<matplotlib.figure.Figure at 0x2a3abe6a080>"
      ]
     },
     "metadata": {},
     "output_type": "display_data"
    },
    {
     "data": {
      "text/plain": [
       "<matplotlib.figure.Figure at 0x2a3ac38bb00>"
      ]
     },
     "metadata": {},
     "output_type": "display_data"
    },
    {
     "data": {
      "text/plain": [
       "<matplotlib.figure.Figure at 0x2a3ab5ac630>"
      ]
     },
     "metadata": {},
     "output_type": "display_data"
    },
    {
     "data": {
      "text/plain": [
       "<matplotlib.figure.Figure at 0x2a3a5c6dda0>"
      ]
     },
     "metadata": {},
     "output_type": "display_data"
    },
    {
     "data": {
      "text/plain": [
       "<matplotlib.figure.Figure at 0x2a3ac46c940>"
      ]
     },
     "metadata": {},
     "output_type": "display_data"
    },
    {
     "data": {
      "text/plain": [
       "<matplotlib.figure.Figure at 0x2a3acbe5978>"
      ]
     },
     "metadata": {},
     "output_type": "display_data"
    },
    {
     "data": {
      "text/plain": [
       "<matplotlib.figure.Figure at 0x2a3ac52a128>"
      ]
     },
     "metadata": {},
     "output_type": "display_data"
    },
    {
     "data": {
      "text/plain": [
       "<matplotlib.figure.Figure at 0x2a3abf029e8>"
      ]
     },
     "metadata": {},
     "output_type": "display_data"
    },
    {
     "data": {
      "text/plain": [
       "<matplotlib.figure.Figure at 0x2a3aba7e6d8>"
      ]
     },
     "metadata": {},
     "output_type": "display_data"
    },
    {
     "data": {
      "text/plain": [
       "<matplotlib.figure.Figure at 0x2a3ab92a978>"
      ]
     },
     "metadata": {},
     "output_type": "display_data"
    },
    {
     "data": {
      "text/plain": [
       "<matplotlib.figure.Figure at 0x2a3acc1a9e8>"
      ]
     },
     "metadata": {},
     "output_type": "display_data"
    },
    {
     "data": {
      "text/plain": [
       "<matplotlib.figure.Figure at 0x2a3abeaaef0>"
      ]
     },
     "metadata": {},
     "output_type": "display_data"
    },
    {
     "data": {
      "text/plain": [
       "<matplotlib.figure.Figure at 0x2a3aad12ac8>"
      ]
     },
     "metadata": {},
     "output_type": "display_data"
    },
    {
     "data": {
      "text/plain": [
       "<matplotlib.figure.Figure at 0x2a3ab3c8320>"
      ]
     },
     "metadata": {},
     "output_type": "display_data"
    },
    {
     "data": {
      "text/plain": [
       "<matplotlib.figure.Figure at 0x2a3acf806a0>"
      ]
     },
     "metadata": {},
     "output_type": "display_data"
    },
    {
     "data": {
      "text/plain": [
       "<matplotlib.figure.Figure at 0x2a3aab6d320>"
      ]
     },
     "metadata": {},
     "output_type": "display_data"
    },
    {
     "data": {
      "text/plain": [
       "<matplotlib.figure.Figure at 0x2a3aba65550>"
      ]
     },
     "metadata": {},
     "output_type": "display_data"
    },
    {
     "data": {
      "text/plain": [
       "<matplotlib.figure.Figure at 0x2a3abbec208>"
      ]
     },
     "metadata": {},
     "output_type": "display_data"
    },
    {
     "data": {
      "text/plain": [
       "<matplotlib.figure.Figure at 0x2a3abd62320>"
      ]
     },
     "metadata": {},
     "output_type": "display_data"
    },
    {
     "data": {
      "text/plain": [
       "<matplotlib.figure.Figure at 0x2a3aad666a0>"
      ]
     },
     "metadata": {},
     "output_type": "display_data"
    },
    {
     "data": {
      "text/plain": [
       "<matplotlib.figure.Figure at 0x2a3aac61d30>"
      ]
     },
     "metadata": {},
     "output_type": "display_data"
    },
    {
     "data": {
      "text/plain": [
       "<matplotlib.figure.Figure at 0x2a3acace860>"
      ]
     },
     "metadata": {},
     "output_type": "display_data"
    },
    {
     "data": {
      "text/plain": [
       "<matplotlib.figure.Figure at 0x2a3ac3970b8>"
      ]
     },
     "metadata": {},
     "output_type": "display_data"
    },
    {
     "data": {
      "text/plain": [
       "<matplotlib.figure.Figure at 0x2a3abae9668>"
      ]
     },
     "metadata": {},
     "output_type": "display_data"
    },
    {
     "data": {
      "text/plain": [
       "<matplotlib.figure.Figure at 0x2a3aa6ead68>"
      ]
     },
     "metadata": {},
     "output_type": "display_data"
    },
    {
     "data": {
      "text/plain": [
       "<matplotlib.figure.Figure at 0x2a3aad5a780>"
      ]
     },
     "metadata": {},
     "output_type": "display_data"
    },
    {
     "data": {
      "text/plain": [
       "<matplotlib.figure.Figure at 0x2a3abe95978>"
      ]
     },
     "metadata": {},
     "output_type": "display_data"
    },
    {
     "data": {
      "text/plain": [
       "<matplotlib.figure.Figure at 0x2a3ab49eeb8>"
      ]
     },
     "metadata": {},
     "output_type": "display_data"
    },
    {
     "data": {
      "text/plain": [
       "<matplotlib.figure.Figure at 0x2a3abd02940>"
      ]
     },
     "metadata": {},
     "output_type": "display_data"
    },
    {
     "data": {
      "image/png": "[encoded data removed]",
      "text/plain": [
       "<matplotlib.figure.Figure at 0x2a3abd5d588>"
      ]
     },
     "metadata": {},
     "output_type": "display_data"
    }
   ],
   "source": [
    "import astropy.units as au\n",
    "import astropy.time as at\n",
    "import astropy.coordinates as ac\n",
    "import numpy as np\n",
    "import pp\n",
    "from time import clock\n",
    "import pylab as plt\n",
    "import h5py\n",
    "\n",
    "from RealData import DataPack,plotDataPack\n",
    "from FermatClass import Fermat\n",
    "from PointingFrame import Pointing\n",
    "from UVWFrame import UVW\n",
    "from IRI import aPrioriModel, determineInversionDomain\n",
    "from TricubicInterpolation import TriCubic\n",
    "from ProgressBarClass import ProgressBar\n",
    "\n",
    "def getDatumIdx(antIdx,timeIdx,dirIdx,numAnt,numTimes):\n",
    "    '''standarizes indexing'''\n",
    "    idx = antIdx + numAnt*(timeIdx + numTimes*dirIdx)\n",
    "    return int(idx)\n",
    "\n",
    "def getDatum(datumIdx,numAnt,numTimes):\n",
    "    antIdx = datumIdx % numAnt\n",
    "    timeIdx = (datumIdx - antIdx)/numAnt % numTimes\n",
    "    dirIdx = (datumIdx - antIdx - numAnt*timeIdx)/numAnt/numTimes\n",
    "    return int(antIdx),int(timeIdx),int(dirIdx)\n",
    "\n",
    "\n",
    "def circ_conv(signal,kernel):\n",
    "    return np.abs(np.real(np.fft.fft( np.fft.ifft(signal) * np.fft.ifft(kernel) )))\n",
    "\n",
    "\n",
    "def simulatedTEC(dataPackObs,numThreads,datafolder,straightLineApprox=True,\n",
    "                     antIdx=np.arange(10),timeIdx=[0],dirIdx=np.arange(10)):\n",
    "    '''Invert the dtec in dataPack'''\n",
    "    #Set up datafolder\n",
    "    import os\n",
    "    try:\n",
    "        os.makedirs(datafolder)\n",
    "    except:\n",
    "        pass \n",
    "    #hyperparameters\n",
    "    refAntIdx = 0\n",
    "    zmax = 1000.\n",
    "    L_ne,sigma_ne_factor = 20.,0.1\n",
    "    def ppCastRay(origins, directions, neTCI, frequency, tmax, N, straightLineApprox):\n",
    "        rays = ParallelInversionProducts.castRay(origins, directions, neTCI, frequency, tmax, N, straightLineApprox)\n",
    "        return rays\n",
    "    def ppCalculateTEC(rays, muTCI,K_e):\n",
    "        tec,cache = ParallelInversionProducts.calculateTEC(rays, muTCI,K_e)\n",
    "        return tec,cache\n",
    "    def ppCalculateTEC_modelingError(rays, muTCI,K_e,sigma,frequency):\n",
    "        tec,sigma_tec, cache = ParallelInversionProducts.calculateTEC_modelingError(rays, muTCI,K_e,sigma,frequency)\n",
    "        return tec,sigma_tec, cache\n",
    "    def ppInnovationPrimaryCalculation_exponential(rayPairs,muTCI,K_e,L_ne,sigma_ne_factor):\n",
    "        outS_primary, cache = ParallelInversionProducts.innovationPrimaryCalculation_exponential(rayPairs,muTCI,K_e,L_ne,sigma_ne_factor)\n",
    "        return outS_primary, cache\n",
    "    def ppInnovationAdjointPrimaryCalculation_exponential(rays,muTCI,K_e,L_ne,sigma_ne_factor):\n",
    "        outCmGt_primary, cache = ParallelInversionProducts.innovationAdjointPrimaryCalculation_exponential(rays,muTCI,K_e,L_ne,sigma_ne_factor)\n",
    "        return outCmGt_primary, cache\n",
    "    # get setup from dataPack\n",
    "    dataPack = dataPackObs.clone()\n",
    "    antennas,antennaLabels = dataPack.get_antennas(antIdx = antIdx)\n",
    "    patches, patchNames = dataPack.get_directions(dirIdx=dirIdx)\n",
    "    times,timestamps = dataPack.get_times(timeIdx=timeIdx)\n",
    "    dataPackObs.setReferenceAntenna(antennaLabels[refAntIdx])\n",
    "    dataPack.setReferenceAntenna(antennaLabels[refAntIdx])\n",
    "    dataPackObs.save(\"{}/dataobs.hdf5\".format(datafolder))\n",
    "    Na = len(antennas)\n",
    "    Nt = len(times)\n",
    "    Nd = len(patches)  \n",
    "    #Setting up ionosphere to use\n",
    "    print(\"Using radio array {}\".format(dataPack.radioArray))\n",
    "    phase = dataPack.getCenterDirection()\n",
    "    print(\"Using phase center {} {}\".format(phase.ra,phase.dec))\n",
    "    fixtime = times[Nt>>1]\n",
    "    print(\"Fixing frame at {}\".format(fixtime.isot))\n",
    "    uvw = UVW(location = dataPack.radioArray.getCenter().earth_location,obstime = fixtime,phase = phase)\n",
    "    print(\"Elevation is {}\".format(uvw.elevation))\n",
    "    zenith = dataPack.radioArray.getSunZenithAngle(fixtime)\n",
    "    print(\"Sun at zenith angle {}\".format(zenith))\n",
    "    print(\"Creating ionosphere model...\")\n",
    "    xvec,yvec,zvec = determineInversionDomain(5.,antennas, patches,\n",
    "                                              UVW(location = dataPack.radioArray.getCenter().earth_location,\n",
    "                                                  obstime = fixtime, phase = phase), \n",
    "                                              zmax, padding = 20)\n",
    "    X,Y,Z = np.meshgrid(xvec,yvec,zvec,indexing='ij')\n",
    "    print(\"Nx={} Ny={} Nz={} number of cells: {}\".format(len(xvec),len(yvec),len(zvec),np.size(X)))\n",
    "    coords = ac.SkyCoord(X.flatten()*au.km,Y.flatten()*au.km,Z.flatten()*au.km,frame=uvw).transform_to('itrs').earth_location.to_geodetic('WGS84')\n",
    "    heights = coords[2].to(au.km).value\n",
    "    nePrior = aPrioriModel(heights,zenith).reshape(X.shape)\n",
    "    nePert = nePrior.copy()\n",
    "    #d layer\n",
    "    nePert += 1e9*np.exp(-(X**2/15.**2 + (Y-25)**2/15.**2 + (Z-90)**2/10.**2)/2.)\n",
    "    nePert += 5e9*np.exp(-((X+15)**2/15.**2 + (Y-10)**2/15.**2 + (Z-80)**2/10.**2)/2.)\n",
    "    #elayer\n",
    "    nePert += 1e10*np.exp(-(X**2/20.**2 + (Y+10)**2/20.**2 + (Z-110)**2/15.**2)/2.)\n",
    "    nePert += 5e10*np.exp(-((X-35)**2/20.**2 + (Y+10)**2/20.**2 + (Z-105)**2/20.**2)/2.)\n",
    "    #flayer\n",
    "    nePert += 1e11*np.exp(-((X+10)**2/50.**2 + (Y-50)**2/50.**2 + (Z-300)**2/35.**2)/2.)\n",
    "    nePert += 5e11*np.exp(-((X+25)**2/50.**2 + (Y+50)**2/50.**2 + (Z-250)**2/35.**2)/2.)\n",
    "    nePert += 7e11*np.exp(-((X-35)**2/50.**2 + (Y+10)**2/50.**2 + (Z-400)**2/45.**2)/2.)\n",
    "    \n",
    "    nePert += 5e12*np.exp(-((X)**2/50.**2 + (Y)**2/50.**2 + (Z-400)**2/60.**2)/2.)\n",
    "    \n",
    "    neTCI = TriCubic(xvec,yvec,zvec,nePrior,useCache = True,default=None)\n",
    "    neTCI.save(\"{}/apriori_neModel.hdf5\".format(datafolder))\n",
    "    neTCI = TriCubic(xvec,yvec,zvec,nePert,useCache = True,default=None)\n",
    "    K_e = np.mean(neTCI.m)\n",
    "    neMean = neTCI.m.copy()\n",
    "    kSize = min(4,Nt)\n",
    "    print(\"Computing Cd over a window of {} seconds\".format(times[kSize-1].gps - times[0].gps))\n",
    "    dobs = dataPackObs.get_dtec(antIdx = antIdx,dirIdx=dirIdx,timeIdx=timeIdx)\n",
    "    kernel = np.zeros(Nt)\n",
    "    kernel[0:kSize] = 1./kSize#flat\n",
    "    Cd = np.zeros([Na,Nt,Nd])\n",
    "    i = 0 \n",
    "    while i < Na:\n",
    "        k = 0\n",
    "        while k < Nd:\n",
    "            #Cd[i,:,k] = np.convolve(dobs[i,:,k]**2,kernel,mode='same') - np.convolve(dobs[i,:,k],kernel,mode='same')**2\n",
    "            Cd[i,:,k] = circ_conv(dobs[i,:,k]**2,kernel)-(circ_conv(dobs[i,:,k],kernel))**2\n",
    "            Cd[i,:,k] *= np.var(dobs[i,:,k])/(np.mean(Cd[i,:,k])+1e-15)\n",
    "            k += 1\n",
    "        #print(\"{}: dtec={} C_D={} C_T={} S/N={}\".format(antennaLabels[i],dobs[i,:,0],Cd[i,:,0],Ct[i,:,0],dobs[i,:,0]/np.sqrt(Cd[i,:,0]+Ct[i,:,0])))\n",
    "        i += 1\n",
    "    Cd[np.isnan(Cd)] = 0.\n",
    "    #np.save(\"{}/Cd.npy\".format(datafolder),Cd)\n",
    "    #divide by direction\n",
    "    print(\"Spliting up jobs into directions\")\n",
    "    progress = ProgressBar(Nd, fmt=ProgressBar.FULL)\n",
    "    batches = {}\n",
    "    k = 0\n",
    "    while k < Nd:\n",
    "        origins = []\n",
    "        directions = []\n",
    "        patchDir = patches[k]\n",
    "        j = 0\n",
    "        while j < Nt:\n",
    "            time = times[j]\n",
    "            pointing = Pointing(location = dataPack.radioArray.getCenter().earth_location,\n",
    "                                obstime = time, fixtime = fixtime, phase = phase)\n",
    "            direction = patchDir.transform_to(pointing).cartesian.xyz.value.flatten()\n",
    "            ants = antennas.transform_to(pointing).cartesian.xyz.to(au.km).value.transpose()\n",
    "            origins.append(ants)\n",
    "            i = 0\n",
    "            while i < Na:\n",
    "                directions.append(direction)\n",
    "                i += 1\n",
    "            j += 1\n",
    "        batches[k] = {'origins':np.vstack(origins),\n",
    "                      'directions':np.vstack(directions)}\n",
    "        progress(k)\n",
    "        k += 1\n",
    "    #np.save(\"{}/origins_directions.npy\".format(datafolder),batches)\n",
    "    progress.done()\n",
    "    jobs = {}\n",
    "    print(\"Creating ray cast job server\")\n",
    "    job_server_raycast = pp.Server(numThreads, ppservers=())\n",
    "    print(\"Submitting {} ray cast jobs\".format(len(batches)))\n",
    "    if straightLineApprox:\n",
    "        print(\"Using straight line approximation\")\n",
    "    else:\n",
    "        print(\"Using Fermats Principle\")\n",
    "    #get rays\n",
    "    jobs = {}\n",
    "    k = 0\n",
    "    while k < Nd:\n",
    "        job = job_server_raycast.submit(ppCastRay,\n",
    "                       args=(batches[k]['origins'], batches[k]['directions'], neTCI, dataPack.radioArray.frequency, \n",
    "                             zmax, 100, straightLineApprox),\n",
    "                       depfuncs=(),\n",
    "                       modules=('ParallelInversionProducts',))\n",
    "        jobs[k] = job\n",
    "        k += 1\n",
    "    print(\"Waiting for ray cast jobs to finish.\")\n",
    "    rays = {}\n",
    "    k = 0\n",
    "    while k < Nd:\n",
    "        rays[k] = jobs[k]()\n",
    "        k += 1\n",
    "    job_server_raycast.print_stats()\n",
    "    job_server_raycast.destroy()\n",
    "    mu = np.log(neTCI.m/K_e)\n",
    "    muTCI = neTCI.copy()\n",
    "    muTCI.m = mu\n",
    "    iteration = 0\n",
    "    parmratios = []\n",
    "    #Calculate TEC\n",
    "    muTCI.clearCache()\n",
    "    neTCI.m = K_e*np.exp(muTCI.m)\n",
    "    neTCI.clearCache()\n",
    "    neTCI.save(\"{}/neModel-{}.hdf5\".format(datafolder,iteration))\n",
    "    print(\"Creating tec/Ct integration job server\")\n",
    "    job_server_tec = pp.Server(numThreads, ppservers=())\n",
    "    #plot rays\n",
    "    #plotWavefront(neTCI,rays[0]+rays[1],save=False,saveFile=None,animate=False)\n",
    "    print(\"Submitting {} tec calculation jobs\".format(len(batches)))\n",
    "    #get rays\n",
    "    jobs = {}\n",
    "    k = 0\n",
    "    while k < Nd:\n",
    "        job = job_server_tec.submit(ppCalculateTEC_modelingError,\n",
    "                       args=(rays[k], muTCI, K_e,sigma_ne_factor,dataPack.radioArray.frequency),\n",
    "                       depfuncs=(),\n",
    "                       modules=('ParallelInversionProducts',))\n",
    "        jobs[k] = job\n",
    "        k += 1\n",
    "    print(\"Waiting for jobs to finish.\")\n",
    "    dtec_threads = {}\n",
    "    Ct_threads = {}\n",
    "    k = 0\n",
    "    while k < Nd:\n",
    "        dtec_threads[k],Ct_threads[k],muCache = jobs[k]()  \n",
    "        muTCI.cache.update(muCache)\n",
    "        k += 1 \n",
    "    job_server_tec.print_stats()\n",
    "    job_server_tec.destroy()\n",
    "    print(\"Size of muTCI cache: {}\".format(len(muTCI.cache)))\n",
    "    print(\"Computing dtec from tec products\")\n",
    "    #progress = ProgressBar(Nd, fmt=ProgressBar.FULL)\n",
    "    dtec = np.zeros([Na,Nt,Nd],dtype=np.double)\n",
    "    Ct = np.zeros([Na,Nt,Nd],dtype=np.double)\n",
    "    k = 0\n",
    "    while k < Nd:\n",
    "        c = 0\n",
    "        j = 0\n",
    "        while j < Nt:\n",
    "            i = 0\n",
    "            while i < Na:\n",
    "                dtec[i,j,k] = dtec_threads[k][c]\n",
    "                Ct[i,j,k] = Ct_threads[k][c]\n",
    "                c += 1\n",
    "                i += 1\n",
    "            j += 1\n",
    "        #progress(k)\n",
    "        k += 1\n",
    "    #progress.done()\n",
    "    dataPack.set_dtec(dtec,antIdx=antIdx,timeIdx=timeIdx, dirIdx=dirIdx,refAnt=None)\n",
    "    dataPack.save(\"{}/dataPackSim.hdf5\".format(datafolder))\n",
    "    plotDataPack(dataPack,antIdx=antIdx,timeIdx=timeIdx, dirIdx=dirIdx)\n",
    "    return dataPack\n",
    "\n",
    "def plotTCI(datafolder=\"output/simulated\",datapackFile = \"dataPackSim.hdf5\", neTCIFile='neModel-0.hdf5',antIdx=np.arange(10),timeIdx=np.arange(1),dirIdx=-1):\n",
    "    from RealData import DataPack\n",
    "    import numpy as np\n",
    "    from TricubicInterpolation import TriCubic\n",
    "    import pylab as plt\n",
    "    dataPack = DataPack(filename=\"{}/{}\".format(datafolder,datapackFile))\n",
    "    antennas,antennaLabels = dataPack.get_antennas(antIdx = antIdx)\n",
    "    patches, patchNames = dataPack.get_directions(dirIdx=dirIdx)\n",
    "    times,timestamps = dataPack.get_times(timeIdx=timeIdx)\n",
    "    dtec = dataPack.get_dtec(antIdx=np.arange(3),timeIdx=np.arange(1),dirIdx=-1)\n",
    "    Na = len(antennas)\n",
    "    Nt = len(times)\n",
    "    Nd = len(patches)  \n",
    "    #Setting up ionosphere to use\n",
    "    print(\"Using radio array {}\".format(dataPack.radioArray))\n",
    "    phase = dataPack.getCenterDirection()\n",
    "    print(\"Using phase center {} {}\".format(phase.ra,phase.dec))\n",
    "    fixtime = times[Nt>>1]\n",
    "    print(\"Fixing frame at {}\".format(fixtime.isot))\n",
    "    uvw = UVW(location = dataPack.radioArray.getCenter().earth_location,obstime = fixtime,phase = phase)\n",
    "    print(\"Elevation is {}\".format(uvw.elevation))\n",
    "    zenith = dataPack.radioArray.getSunZenithAngle(fixtime)\n",
    "    print(\"Sun at zenith angle {}\".format(zenith))\n",
    "    \n",
    "    ants_uvw = antennas.transform_to(uvw).cartesian.xyz.to(au.km).value.transpose()\n",
    "    dirs_uvw = patches.transform_to(uvw).cartesian.xyz.value.transpose()\n",
    "    \n",
    "    #plt.hist(dtec.flatten(),bins=50)\n",
    "    #plt.yscale('log')\n",
    "    #plt.show()\n",
    "    neTCI = TriCubic(filename=\"{}/{}\".format(datafolder,neTCIFile))\n",
    "    import os\n",
    "    try:\n",
    "        os.makedirs(\"{}/figs\".format(datafolder))\n",
    "    except:\n",
    "        pass \n",
    "    xvec = neTCI.xvec\n",
    "    yvec = neTCI.yvec\n",
    "    zvec = neTCI.zvec\n",
    "\n",
    "    M = neTCI.getShapedArray()\n",
    "    #plt.hist(np.log10(M).flatten(),bins=100)\n",
    "    #plt.show()\n",
    "    Nz = len(zvec)\n",
    "    vmin = 8.\n",
    "    vmax = np.max(np.log10(M))*1.2\n",
    "    levels = np.linspace(vmin,vmax,15)\n",
    "    for i in range(Nz):\n",
    "        Z = np.log10(M[:,:,i])\n",
    "        im = plt.imshow(Z,origin='lower',vmin=vmin,vmax=vmax,extent=[xvec[0],xvec[-1],yvec[0],yvec[-1]],cmap=plt.cm.bone)\n",
    "        plt.colorbar(im,orientation='horizontal',label=r'$\\log_{10} n_e[\\mathrm{m}^{-3}])$',shrink=0.8)\n",
    "        CS = plt.contour(Z, levels,\n",
    "                     origin='lower',\n",
    "                     linewidths=2,\n",
    "                     extent=[xvec[0],xvec[-1],yvec[0],yvec[-1]],cmap=plt.cm.hot_r)\n",
    "        zc = CS.collections[-1]\n",
    "        plt.setp(zc, linewidth=4)\n",
    "\n",
    "        plt.clabel(CS, levels[1::2],  # label every second level\n",
    "                   inline=1,\n",
    "                   fmt='%1.1f',\n",
    "                   fontsize=14)\n",
    "\n",
    "        CB = plt.colorbar(CS, shrink=0.8, extend='both')\n",
    "        pir_u = np.add.outer(ants_uvw[:,0],dirs_uvw[:,0]/dirs_uvw[:,2]*zvec[i]).flatten()\n",
    "        pir_v = np.add.outer(ants_uvw[:,1],dirs_uvw[:,1]/dirs_uvw[:,2]*zvec[i]).flatten()\n",
    "        plt.scatter(pir_u,pir_v,marker='.',c='red',lw=1)\n",
    "\n",
    "        plt.title(\"Distance {:.2f} km\".format(zvec[i]))\n",
    "        plt.xlabel('U km')\n",
    "        plt.ylabel('V km')\n",
    "        plt.savefig(\"{}/figs/slice-{:04d}.png\".format(datafolder,i),format='png')\n",
    "        plt.clf()\n",
    "\n",
    "    os.system(\"ffmpeg.exe -framerate {} -i {}/figs/slice-%04d.png {}/figs/movie.mp4\".format(int(Nz/10.),datafolder,datafolder))\n",
    "\n",
    "def weightTCI(datafolder=\"output/simulated\",datapackFile = \"dataPackSim.hdf5\", aPrioriFile = 'apriori_neModel.hdf5',neTCIFile='neModel-0.hdf5',antIdx=np.arange(10),timeIdx=np.arange(1),dirIdx=-1):\n",
    "    from RealData import DataPack\n",
    "    import numpy as np\n",
    "    from TricubicInterpolation import TriCubic\n",
    "    import pylab as plt\n",
    "    dataPack = DataPack(filename=\"{}/{}\".format(datafolder,datapackFile))\n",
    "    antennas,antennaLabels = dataPack.get_antennas(antIdx = antIdx)\n",
    "    patches, patchNames = dataPack.get_directions(dirIdx=dirIdx)\n",
    "    times,timestamps = dataPack.get_times(timeIdx=timeIdx)\n",
    "    dtec = dataPack.get_dtec(antIdx=np.arange(3),timeIdx=np.arange(1),dirIdx=-1)\n",
    "    Na = len(antennas)\n",
    "    Nt = len(times)\n",
    "    Nd = len(patches)  \n",
    "    #Setting up ionosphere to use\n",
    "    print(\"Using radio array {}\".format(dataPack.radioArray))\n",
    "    phase = dataPack.getCenterDirection()\n",
    "    print(\"Using phase center {} {}\".format(phase.ra,phase.dec))\n",
    "    fixtime = times[Nt>>1]\n",
    "    print(\"Fixing frame at {}\".format(fixtime.isot))\n",
    "    uvw = UVW(location = dataPack.radioArray.getCenter().earth_location,obstime = fixtime,phase = phase)\n",
    "    print(\"Elevation is {}\".format(uvw.elevation))\n",
    "    zenith = dataPack.radioArray.getSunZenithAngle(fixtime)\n",
    "    print(\"Sun at zenith angle {}\".format(zenith))\n",
    "    \n",
    "    ants_uvw = antennas.transform_to(uvw).cartesian.xyz.to(au.km).value.transpose()\n",
    "    dirs_uvw = patches.transform_to(uvw).cartesian.xyz.value.transpose()\n",
    "    \n",
    "    #plt.hist(dtec.flatten(),bins=50)\n",
    "    #plt.yscale('log')\n",
    "    #plt.show()\n",
    "    neTCI = TriCubic(filename=\"{}/{}\".format(datafolder,neTCIFile))\n",
    "    apneTCI = TriCubic(filename=\"{}/{}\".format(datafolder,aPrioriFile))\n",
    "    \n",
    "    import os\n",
    "    try:\n",
    "        os.makedirs(\"{}/figs\".format(datafolder))\n",
    "    except:\n",
    "        pass \n",
    "    xvec = neTCI.xvec\n",
    "    yvec = neTCI.yvec\n",
    "    zvec = neTCI.zvec\n",
    "    Nz = len(zvec)\n",
    "\n",
    "    M = neTCI.getShapedArray()\n",
    "    apM = apneTCI.getShapedArray()\n",
    "    # do weighting\n",
    "    X,Y = np.meshgrid(xvec,yvec,indexing='ij')\n",
    "    X_ = X.flatten()\n",
    "    Y_ = Y.flatten()\n",
    "    solM = apM.copy()\n",
    "    for i in range(Nz):\n",
    "        pir_u = np.add.outer(ants_uvw[:,0],dirs_uvw[:,0]/dirs_uvw[:,2]*zvec[i]).flatten()\n",
    "        pir_v = np.add.outer(ants_uvw[:,1],dirs_uvw[:,1]/dirs_uvw[:,2]*zvec[i]).flatten()\n",
    "        \n",
    "        weight = np.sum(np.exp(-(np.subtract.outer(X_,pir_u)**2 + np.subtract.outer(Y_,pir_v)**2)/7.5**2/2.),axis=1).reshape(X.shape)\n",
    "        med = np.median(weight[weight>np.mean(weight)])\n",
    "        weight[weight>5] = 5.\n",
    "        weight /= np.max(weight)\n",
    "        solM[:,:,i] = solM[:,:,i]*(1-weight) + weight*M[:,:,i]\n",
    "        im = plt.imshow(weight,origin='lower',vmin=0,vmax=1,extent=[xvec[0],xvec[-1],yvec[0],yvec[-1]],cmap=plt.cm.bone)\n",
    "        plt.colorbar(im,orientation='horizontal',label=r'$\\log_{10} n_e[\\mathrm{m}^{-3}])$',shrink=0.8)\n",
    "        plt.scatter(pir_u,pir_v,marker='.',c='red',lw=1)\n",
    "        plt.title(\"Distance {:.2f} km\".format(zvec[i]))\n",
    "        plt.xlabel('U km')\n",
    "        plt.ylabel('V km')\n",
    "        plt.savefig(\"{}/figs/weight-{:04d}.png\".format(datafolder,i),format='png')\n",
    "        plt.clf()\n",
    "    os.system(\"ffmpeg.exe -framerate {} -i {}/figs/weight-%04d.png {}/figs/weight-movie.mp4\".format(int(Nz/10.),datafolder,datafolder))\n",
    "\n",
    "    \n",
    "    #plt.hist(np.log10(M).flatten(),bins=100)\n",
    "    #plt.show()\n",
    "    \n",
    "    vmin = 8.\n",
    "    vmax = np.max(np.log10(solM))*1.2\n",
    "    levels = np.linspace(vmin,vmax,15)\n",
    "    for i in range(Nz):\n",
    "        Z = np.log10(solM[:,:,i])\n",
    "        im = plt.imshow(Z,origin='lower',vmin=vmin,vmax=vmax,extent=[xvec[0],xvec[-1],yvec[0],yvec[-1]],cmap=plt.cm.bone)\n",
    "        plt.colorbar(im,orientation='horizontal',label=r'$\\log_{10} n_e[\\mathrm{m}^{-3}])$',shrink=0.8)\n",
    "        CS = plt.contour(Z, levels,\n",
    "                     origin='lower',\n",
    "                     linewidths=2,\n",
    "                     extent=[xvec[0],xvec[-1],yvec[0],yvec[-1]],cmap=plt.cm.hot_r)\n",
    "        zc = CS.collections[-1]\n",
    "        plt.setp(zc, linewidth=4)\n",
    "\n",
    "        plt.clabel(CS, levels[1::2],  # label every second level\n",
    "                   inline=1,\n",
    "                   fmt='%1.1f',\n",
    "                   fontsize=14)\n",
    "\n",
    "        CB = plt.colorbar(CS, shrink=0.8, extend='both')\n",
    "        pir_u = np.add.outer(ants_uvw[:,0],dirs_uvw[:,0]/dirs_uvw[:,2]*zvec[i]).flatten()\n",
    "        pir_v = np.add.outer(ants_uvw[:,1],dirs_uvw[:,1]/dirs_uvw[:,2]*zvec[i]).flatten()\n",
    "        plt.scatter(pir_u,pir_v,marker='.',c='red',lw=1)\n",
    "\n",
    "        plt.title(\"Distance {:.2f} km\".format(zvec[i]))\n",
    "        plt.xlabel('U km')\n",
    "        plt.ylabel('V km')\n",
    "        plt.savefig(\"{}/figs/slice-{:04d}.png\".format(datafolder,i),format='png')\n",
    "        plt.clf()\n",
    "\n",
    "    os.system(\"ffmpeg.exe -framerate {} -i {}/figs/slice-%04d.png {}/figs/movie.mp4\".format(int(Nz/10.),datafolder,datafolder))\n",
    "\n",
    "\n",
    "def allTCI(datafolder=\"output/simulated\",datapackFile = \"dataPackSim.hdf5\", aPrioriFile = 'apriori_neModel.hdf5',neTCIFile='neModel-0.hdf5',antIdx=np.arange(10),timeIdx=np.arange(1),dirIdx=-1):\n",
    "    from RealData import DataPack\n",
    "    import numpy as np\n",
    "    from TricubicInterpolation import TriCubic\n",
    "    import pylab as plt\n",
    "    dataPack = DataPack(filename=\"{}/{}\".format(datafolder,datapackFile))\n",
    "    antennas,antennaLabels = dataPack.get_antennas(antIdx = antIdx)\n",
    "    patches, patchNames = dataPack.get_directions(dirIdx=dirIdx)\n",
    "    times,timestamps = dataPack.get_times(timeIdx=timeIdx)\n",
    "    dtec = dataPack.get_dtec(antIdx=np.arange(3),timeIdx=np.arange(1),dirIdx=-1)\n",
    "    Na = len(antennas)\n",
    "    Nt = len(times)\n",
    "    Nd = len(patches)  \n",
    "    #Setting up ionosphere to use\n",
    "    print(\"Using radio array {}\".format(dataPack.radioArray))\n",
    "    phase = dataPack.getCenterDirection()\n",
    "    print(\"Using phase center {} {}\".format(phase.ra,phase.dec))\n",
    "    fixtime = times[Nt>>1]\n",
    "    print(\"Fixing frame at {}\".format(fixtime.isot))\n",
    "    uvw = UVW(location = dataPack.radioArray.getCenter().earth_location,obstime = fixtime,phase = phase)\n",
    "    print(\"Elevation is {}\".format(uvw.elevation))\n",
    "    zenith = dataPack.radioArray.getSunZenithAngle(fixtime)\n",
    "    print(\"Sun at zenith angle {}\".format(zenith))\n",
    "    \n",
    "    ants_uvw = antennas.transform_to(uvw).cartesian.xyz.to(au.km).value.transpose()\n",
    "    dirs_uvw = patches.transform_to(uvw).cartesian.xyz.value.transpose()\n",
    "    \n",
    "    #plt.hist(dtec.flatten(),bins=50)\n",
    "    #plt.yscale('log')\n",
    "    #plt.show()\n",
    "    neTCI = TriCubic(filename=\"{}/{}\".format(datafolder,neTCIFile))\n",
    "    apneTCI = TriCubic(filename=\"{}/{}\".format(datafolder,aPrioriFile))\n",
    "    \n",
    "    import os\n",
    "    try:\n",
    "        os.makedirs(\"{}/figs\".format(datafolder))\n",
    "    except:\n",
    "        pass \n",
    "    xvec = neTCI.xvec\n",
    "    yvec = neTCI.yvec\n",
    "    zvec = neTCI.zvec\n",
    "    Nz = len(zvec)\n",
    "\n",
    "    M = neTCI.getShapedArray()\n",
    "    apM = apneTCI.getShapedArray()\n",
    "    # do weighting\n",
    "    X,Y = np.meshgrid(xvec,yvec,indexing='ij')\n",
    "    X_ = X.flatten()\n",
    "    Y_ = Y.flatten()\n",
    "    solM = apM.copy()\n",
    "    weights = apM.copy()*0.\n",
    "    for i in range(Nz):\n",
    "        pir_u = np.add.outer(ants_uvw[:,0],dirs_uvw[:,0]/dirs_uvw[:,2]*zvec[i]).flatten()\n",
    "        pir_v = np.add.outer(ants_uvw[:,1],dirs_uvw[:,1]/dirs_uvw[:,2]*zvec[i]).flatten()\n",
    "        \n",
    "        \n",
    "        weight = np.sum(np.exp(-(np.subtract.outer(X_,pir_u)**2 + np.subtract.outer(Y_,pir_v)**2)/7.5**2/2.),axis=1).reshape(X.shape)\n",
    "        med = np.median(weight[weight>np.mean(weight)])\n",
    "        weight[weight>5] = 5.\n",
    "        weight /= np.max(weight)\n",
    "        solM[:,:,i] = solM[:,:,i]*(1-weight) + weight*M[:,:,i]\n",
    "        solM[:,:,i] += weight*0.05*solM[:,:,i]*np.random.normal(size=np.size(X)).reshape(X.shape)\n",
    "        weights[:,:,i] = weight\n",
    "        \n",
    "        \n",
    "    \n",
    "    #plt.hist(np.log10(M).flatten(),bins=100)\n",
    "    #plt.show()\n",
    "    \n",
    "    vmin = 8.\n",
    "    vmax = np.max(np.log10(M))*1.2\n",
    "    levels = np.linspace(vmin,vmax,15)\n",
    "    for i in range(Nz):\n",
    "        pir_u = np.add.outer(ants_uvw[:,0],dirs_uvw[:,0]/dirs_uvw[:,2]*zvec[i]).flatten()\n",
    "        pir_v = np.add.outer(ants_uvw[:,1],dirs_uvw[:,1]/dirs_uvw[:,2]*zvec[i]).flatten()\n",
    "        \n",
    "        f,((ax1,ax2),(ax3,ax4)) = plt.subplots(2,2)\n",
    "        \n",
    "        Z = np.log10(apM[:,:,i])\n",
    "        ax = ax1\n",
    "        im = ax.imshow(Z,origin='lower',vmin=vmin,vmax=vmax,extent=[xvec[0],xvec[-1],yvec[0],yvec[-1]],cmap=plt.cm.bone)\n",
    "        #plt.colorbar(im,orientation='horizontal',label=r'$\\log_{10} n_e[\\mathrm{m}^{-3}])$',shrink=0.8)\n",
    "        CS = ax.contour(Z, levels,\n",
    "                     origin='lower',\n",
    "                     linewidths=2,\n",
    "                     extent=[xvec[0],xvec[-1],yvec[0],yvec[-1]],cmap=plt.cm.hot_r)\n",
    "        zc = CS.collections[-1]\n",
    "        plt.setp(zc, linewidth=4)\n",
    "        plt.clabel(CS, levels[1::2],  # label every second level\n",
    "                   inline=1,\n",
    "                   fmt='%1.1f',\n",
    "                   fontsize=14)\n",
    "        #CB = plt.colorbar(CS, shrink=0.8, extend='both')\n",
    "        ax.scatter(pir_u,pir_v,marker='.',c='red',lw=1)\n",
    "        ax.set_title(\"a priori {:.2f} km\".format(zvec[i]))\n",
    "        ax.set_xlabel('U km')\n",
    "        ax.set_ylabel('V km')\n",
    "        \n",
    "        Z = np.log10(M[:,:,i])\n",
    "        ax = ax2\n",
    "        im = ax.imshow(Z,origin='lower',vmin=vmin,vmax=vmax,extent=[xvec[0],xvec[-1],yvec[0],yvec[-1]],cmap=plt.cm.bone)\n",
    "        #plt.colorbar(im,orientation='horizontal',label=r'$\\log_{10} n_e[\\mathrm{m}^{-3}])$',shrink=0.8)\n",
    "        CS = ax.contour(Z, levels,\n",
    "                     origin='lower',\n",
    "                     linewidths=2,\n",
    "                     extent=[xvec[0],xvec[-1],yvec[0],yvec[-1]],cmap=plt.cm.hot_r)\n",
    "        zc = CS.collections[-1]\n",
    "        plt.setp(zc, linewidth=4)\n",
    "        plt.clabel(CS, levels[1::2],  # label every second level\n",
    "                   inline=1,\n",
    "                   fmt='%1.1f',\n",
    "                   fontsize=14)\n",
    "        #CB = plt.colorbar(CS, shrink=0.8, extend='both')\n",
    "        ax.scatter(pir_u,pir_v,marker='.',c='red',lw=1)\n",
    "        ax.set_title(\"True EC\")\n",
    "        ax.set_xlabel('U km')\n",
    "        ax.set_ylabel('V km')\n",
    "        \n",
    "        Z = np.log10(solM[:,:,i])\n",
    "        ax = ax3\n",
    "        im = ax.imshow(Z,origin='lower',vmin=vmin,vmax=vmax,extent=[xvec[0],xvec[-1],yvec[0],yvec[-1]],cmap=plt.cm.bone)\n",
    "        #plt.colorbar(im,orientation='horizontal',label=r'$\\log_{10} n_e[\\mathrm{m}^{-3}])$',shrink=0.8)\n",
    "        CS = ax.contour(Z, levels,\n",
    "                     origin='lower',\n",
    "                     linewidths=2,\n",
    "                     extent=[xvec[0],xvec[-1],yvec[0],yvec[-1]],cmap=plt.cm.hot_r)\n",
    "        zc = CS.collections[-1]\n",
    "        plt.setp(zc, linewidth=4)\n",
    "        plt.clabel(CS, levels[1::2],  # label every second level\n",
    "                   inline=1,\n",
    "                   fmt='%1.1f',\n",
    "                   fontsize=14)\n",
    "        #CB = plt.colorbar(CS, shrink=0.8, extend='both')\n",
    "        ax.scatter(pir_u,pir_v,marker='.',c='red',lw=1)\n",
    "        ax.set_title(\"Solution\")\n",
    "        ax.set_xlabel('U km')\n",
    "        ax.set_ylabel('V km')\n",
    "        \n",
    "        Z = weights[:,:,i]\n",
    "        ax = ax4\n",
    "        im = ax.imshow(Z,origin='lower',vmin=0,vmax=1,extent=[xvec[0],xvec[-1],yvec[0],yvec[-1]],cmap=plt.cm.bone)\n",
    "        #plt.colorbar(im,orientation='horizontal',label=r'$\\log_{10} n_e[\\mathrm{m}^{-3}])$',shrink=0.8)\n",
    "        #CS = ax.contour(Z, levels,\n",
    "        #             origin='lower',\n",
    "        #             linewidths=2,\n",
    "        #             extent=[xvec[0],xvec[-1],yvec[0],yvec[-1]],cmap=plt.cm.hot_r)\n",
    "        #zc = CS.collections[-1]\n",
    "        #plt.setp(zc, linewidth=4)\n",
    "        #plt.clabel(CS, levels[1::2],  # label every second level\n",
    "        #           inline=1,\n",
    "        #           fmt='%1.1f',\n",
    "        #           fontsize=14)\n",
    "        #CB = plt.colorbar(CS, shrink=0.8, extend='both')\n",
    "        ax.scatter(pir_u,pir_v,marker='.',c='red',lw=1)\n",
    "        ax.set_title(\"Adjoint\")\n",
    "        ax.set_xlabel('U km')\n",
    "        ax.set_ylabel('V km')\n",
    "        \n",
    "        plt.savefig(\"{}/figs/solution-{:04d}.png\".format(datafolder,i),format='png')\n",
    "        plt.clf()\n",
    "\n",
    "    os.system('ffmpeg.exe -framerate {} -i {}/figs/solution-%04d.png -vf scale=\"trunc(iw/2)*2:trunc(ih/2)*2\" -c:v libx264 -profile:v high -pix_fmt yuv420p -g 30 -r 30 {}/figs/solution-movie.mp4'.format(int(Nz/10.),datafolder,datafolder))\n",
    "\n",
    "\n",
    "if __name__ == '__main__':\n",
    "    from RealData import prepareDataPack,DataPack\n",
    "    antIdx = np.arange(45)[1::2]\n",
    "    dirIdx = np.arange(34)[1::2]\n",
    "    if False:\n",
    "        dataPackObs = prepareDataPack('SB120-129/dtecData.hdf5',timeStart=0,timeEnd=4,\n",
    "                               arrayFile='arrays/lofar.hba.antenna.cfg')\n",
    "        \n",
    "        #dataPackObs = DataPack(filename=\"simulatedObs.hdf5\")\n",
    "        dataPackObs.setReferenceAntenna('CS002HBA1')\n",
    "        flags = dataPackObs.findFlaggedAntennas()\n",
    "        dataPackObs.flagAntennas(flags)\n",
    "        antennas,antennaLabels = dataPackObs.get_antennas(antIdx = antIdx)\n",
    "        patches, patchNames = dataPackObs.get_directions(dirIdx=dirIdx)\n",
    "        \n",
    "        dataPackObs.setReferenceAntenna(antennaLabels[0])\n",
    "        phase = dataPackObs.getCenterDirection()\n",
    "        center = dataPackObs.radioArray.getCenter()\n",
    "        #dpoint = np.sqrt((phase.ra.deg - patches.ra.deg)**2 + (phase.dec.deg - patches.dec.deg)**2)\n",
    "        #dant = np.sqrt(np.sum((antennas.cartesian.xyz.to(au.km).value.transpose() - center.cartesian.xyz.to(au.km).value.flatten())**2,axis=1))\n",
    "        #choose\n",
    "        #sortPoint = np.argsort(dpoint)\n",
    "        #sortAnt = np.argsort(dant)\n",
    "        #antIdx = sortAnt[0:len(sortAnt):int(len(sortAnt)/10.)]\n",
    "        #dirIdx = sortPoint[-10:]\n",
    "        #dataPack = simulatedTEC(dataPackObs,6,\"output/bootesInversion0-4\",antIdx=np.arange(10)+35,\n",
    "        #                        timeIdx=np.arange(1),dirIdx=np.arange(10))\n",
    "        \n",
    "        dataPack = dataPack = simulatedTEC(dataPackObs,6,\"output/simulated_6\",\n",
    "                                           antIdx=antIdx, timeIdx=np.arange(1),dirIdx=dirIdx)\n",
    "        #plotDataPack(dataPack)\n",
    "    if True:\n",
    "        dataPack = DataPack(filename=\"simulatedObs.hdf5\")\n",
    "        phase = dataPack.getCenterDirection()\n",
    "        N = 30\n",
    "        dra = np.linspace(-3.,3,N)\n",
    "        ddec = np.linspace(-3.,3,N)\n",
    "        ra = []\n",
    "        dec = []\n",
    "        outPatchNames = []\n",
    "        i = 0\n",
    "        while i < N:\n",
    "            j = 0\n",
    "            while j < N:\n",
    "                ra.append(phase.ra+dra[i]*au.deg)\n",
    "                dec.append(phase.dec+ddec[j]*au.deg)\n",
    "                outPatchNames.append(\"{}-{}\".format(i,j))\n",
    "                j += 1\n",
    "            i += 1\n",
    "        outDirections = ac.SkyCoord(ra,dec,frame='icrs')\n",
    "        outDtec = np.zeros([dataPack.Na,dataPack.Nt,len(outDirections)],dtype=np.double)\n",
    "        dataDict = {'radioArray':dataPack.radioArray,'antennas':dataPack.antennas,'antennaLabels':dataPack.antennaLabels,\n",
    "                        'times':dataPack.times,'timestamps':dataPack.timestamps,\n",
    "                        'directions':outDirections,'patchNames':outPatchNames,'dtec':outDtec}\n",
    "        dataPack = DataPack(dataDict = dataDict)\n",
    "        dataPack.setReferenceAntenna('CS201HBA0')\n",
    "        dataPack = simulatedTEC(dataPack,6,\"output/simulated_screen\",antIdx=[0,10,43],timeIdx=np.arange(1),dirIdx=-1)\n",
    "        antennas,antennaLabels = dataPack.get_antennas(antIdx = [0,10,43])\n",
    "        patches, patchNames = dataPack.get_directions(dirIdx=-1)\n",
    "        times,timestamps = dataPack.get_times(timeIdx=[0])\n",
    "        dataPack.setReferenceAntenna(antennaLabels[0])\n",
    "        dtec = dataPack.get_dtec(antIdx=[0,10,43],timeIdx=np.arange(1),dirIdx=-1)\n",
    "        Na = len(antennas)\n",
    "        Nt = len(times)\n",
    "        Nd = len(patches)  \n",
    "        \n",
    "        \n",
    "\n",
    "    #allTCI(datafolder=\"output/simulated_6\",datapackFile = \"dataobs.hdf5\", aPrioriFile = 'apriori_neModel.hdf5',\n",
    "    #          neTCIFile='neModel-0.hdf5',antIdx=antIdx,timeIdx=np.arange(1),dirIdx=dirIdx)\n",
    "    #plotTCI(datafolder=\"output/simulated_4\",datapackFile = \"dataobs.hdf5\",neTCIFile='neModel-0.hdf5',\n",
    "    #        antIdx=-1, timeIdx=np.arange(1),dirIdx=-1)"
   ]
  },
  {
   "cell_type": "code",
   "execution_count": 1,
   "metadata": {
    "scrolled": true
   },
   "outputs": [
    {
     "name": "stdout",
     "output_type": "stream",
     "text": [
      "Setting refAnt: CS201HBA1\n"
     ]
    },
    {
     "data": {
      "image/png": "[encoded data removed]",
      "text/plain": [
       "<matplotlib.figure.Figure at 0x1e5631d2a20>"
      ]
     },
     "metadata": {},
     "output_type": "display_data"
    },
    {
     "data": {
      "image/png": "[encoded data removed]",
      "text/plain": [
       "<matplotlib.figure.Figure at 0x1e500c41f98>"
      ]
     },
     "metadata": {},
     "output_type": "display_data"
    },
    {
     "data": {
      "text/plain": [
       "0"
      ]
     },
     "execution_count": 1,
     "metadata": {},
     "output_type": "execute_result"
    }
   ],
   "source": []
  },
  {
   "cell_type": "code",
   "execution_count": 21,
   "metadata": {},
   "outputs": [
    {
     "data": {
      "text/plain": [
       "0"
      ]
     },
     "execution_count": 21,
     "metadata": {},
     "output_type": "execute_result"
    }
   ],
   "source": [
    "\n",
    "os.system(\"ffmpeg.exe -framerate {} -i {}/figs/slice-%04d.png {}/figs/movie.mp4\".format(int(Nz/5.),datafolder,datafolder))"
   ]
  },
  {
   "cell_type": "code",
   "execution_count": 14,
   "metadata": {},
   "outputs": [
    {
     "data": {
      "text/plain": [
       "[2, 4, 5]"
      ]
     },
     "execution_count": 14,
     "metadata": {},
     "output_type": "execute_result"
    }
   ],
   "source": []
  },
  {
   "cell_type": "code",
   "execution_count": 24,
   "metadata": {},
   "outputs": [
    {
     "name": "stdout",
     "output_type": "stream",
     "text": [
      "['CS201HBA1', 'RS407HBA', 'CS501HBA1']\n",
      "Setting refAnt: CS201HBA1\n"
     ]
    },
    {
     "data": {
      "image/png": "[encoded data removed]",
      "text/plain": [
       "<matplotlib.figure.Figure at 0x2a3acc10f28>"
      ]
     },
     "metadata": {},
     "output_type": "display_data"
    },
    {
     "data": {
      "image/png": "[encoded data removed]",
      "text/plain": [
       "<matplotlib.figure.Figure at 0x2a3ad873a58>"
      ]
     },
     "metadata": {},
     "output_type": "display_data"
    }
   ],
   "source": [
    "\n",
    "antennas,antennaLabels = dataPack.get_antennas(antIdx = [0,10,43])\n",
    "print(antennaLabels)\n",
    "patches, patchNames = dataPack.get_directions(dirIdx=-1)\n",
    "times,timestamps = dataPack.get_times(timeIdx=[0])\n",
    "dataPack.setReferenceAntenna(antennaLabels[0])\n",
    "plotDataPack(dataPack,antIdx=[0,10,43],timeIdx=[0], dirIdx=-1,plotAnt=None)\n",
    "dtec = dataPack.get_dtec(antIdx=[0,10,43],timeIdx=np.arange(1),dirIdx=-1)\n",
    "plt.hist(dtec[2,:,:].flatten(),bins=100)\n",
    "plt.show()\n",
    "Na = len(antennas)\n",
    "Nt = len(times)\n",
    "Nd = len(patches)  \n"
   ]
  },
  {
   "cell_type": "code",
   "execution_count": null,
   "metadata": {
    "collapsed": true
   },
   "outputs": [],
   "source": []
  }
 ],
 "metadata": {
  "anaconda-cloud": {},
  "kernelspec": {
   "display_name": "Python 3",
   "language": "python",
   "name": "python3"
  },
  "language_info": {
   "codemirror_mode": {
    "name": "ipython",
    "version": 3
   },
   "file_extension": ".py",
   "mimetype": "text/x-python",
   "name": "python",
   "nbconvert_exporter": "python",
   "pygments_lexer": "ipython3",
   "version": "3.5.3"
  }
 },
 "nbformat": 4,
 "nbformat_minor": 1
}

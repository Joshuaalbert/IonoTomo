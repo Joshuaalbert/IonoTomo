{
 "cells": [
  {
   "cell_type": "code",
   "execution_count": null,
   "metadata": {
    "collapsed": true
   },
   "outputs": [],
   "source": [
    "from BFGS_dask import createBFGSDask\n",
    "from RealData import DataPack\n",
    "from AntennaFacetSelection import selectAntennaFacets\n",
    "from dask import get\n",
    "import pylab as plt\n",
    "import numpy as np\n",
    "import h5py\n",
    "\n",
    "if __name__=='__main__':\n",
    "    i0 = 0\n",
    "    datapack = DataPack(filename=\"output/test/simulate/simulate_3/datapackSim.hdf5\")\n",
    "    datapackSel = selectAntennaFacets(25, datapack, antIdx=-1, dirIdx=-1, timeIdx = np.arange(1))\n",
    "    sizeCell = 5.\n",
    "    niter = 30\n",
    "    S = []\n",
    "    for L_ne in [10.,20.,30.,40.,50.,60.,70.,80.,90.,100.]:\n",
    "        outputfolder = 'output/search/L_ne/{}'.format(L_ne)\n",
    "        dsk = createBFGSDask(False,outputfolder,niter,datapack,L_ne,sizeCell,i0, antIdx=-1, dirIdx=-1, timeIdx = np.arange(1))\n",
    "        get(dsk,['pull_m{:d}'.format(niter)])\n",
    "        with h5py.File(\"{}/state\".format(outputfolder),'r') as state:\n",
    "            assert '/{}/S'.format(niter) in state, \"Failed to get result\"\n",
    "            S.append(state['/{}/S'.format(niter)])\n",
    "    plt.plot([10.,20.,30.,40.,50.,60.,70.,80.,90.,100.], S)\n",
    "    plt.show()\n",
    "        "
   ]
  }
 ],
 "metadata": {
  "kernelspec": {
   "display_name": "Python 3",
   "language": "python",
   "name": "python3"
  },
  "language_info": {
   "codemirror_mode": {
    "name": "ipython",
    "version": 3
   },
   "file_extension": ".py",
   "mimetype": "text/x-python",
   "name": "python",
   "nbconvert_exporter": "python",
   "pygments_lexer": "ipython3",
   "version": "3.5.3"
  }
 },
 "nbformat": 4,
 "nbformat_minor": 2
}

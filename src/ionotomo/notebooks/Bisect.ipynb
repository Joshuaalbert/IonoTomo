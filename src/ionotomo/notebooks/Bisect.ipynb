{
 "cells": [
  {
   "cell_type": "code",
   "execution_count": null,
   "metadata": {
    "collapsed": true
   },
   "outputs": [],
   "source": [
    "def bisect(array,value):\n",
    "    '''Given an ``array`` , and given a ``value`` , returns an index j such that ``value`` is between array[j]\n",
    "    and array[j+1]. ``array`` must be monotonic increasing. j=-1 or j=len(array) is returned\n",
    "    to indicate that ``value`` is out of range below and above respectively.'''\n",
    "    #return bisection(array,value)\n",
    "    n = len(array)\n",
    "    if (value < array[0]):\n",
    "        return -1\n",
    "        res = -1# Then set the output\n",
    "    elif (value > array[n-1]):\n",
    "        return n\n",
    "    #array = np.append(np.append(-np.inf,array),np.inf)\n",
    "    jl = 0# Initialize lower\n",
    "    ju = n-1# and upper limits.\n",
    "    while (ju-jl > 1):# If we are not yet done,\n",
    "        jm=(ju+jl) >> 1# compute a midpoint,\n",
    "        if (value >= array[jm]):\n",
    "            jl=jm# and replace either the lower limit\n",
    "        else:\n",
    "            ju=jm# or the upper limit, as appropriate.\n",
    "        # Repeat until the test condition is satisfied.\n",
    "    if (value == array[0]):\n",
    "        return 0\n",
    "        res = -1# Then set the output\n",
    "    elif (value == array[n-1]):\n",
    "        return n-1\n",
    "    else:\n",
    "        return jl"
   ]
  }
 ],
 "metadata": {
  "kernelspec": {
   "display_name": "Python 3",
   "language": "python",
   "name": "python3"
  },
  "language_info": {
   "codemirror_mode": {
    "name": "ipython",
    "version": 3
   },
   "file_extension": ".py",
   "mimetype": "text/x-python",
   "name": "python",
   "nbconvert_exporter": "python",
   "pygments_lexer": "ipython3",
   "version": "3.5.3"
  }
 },
 "nbformat": 4,
 "nbformat_minor": 2
}

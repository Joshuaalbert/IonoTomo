{
 "cells": [
  {
   "cell_type": "code",
   "execution_count": 1,
   "metadata": {
    "scrolled": false
   },
   "outputs": [
    {
     "name": "stdout",
     "output_type": "stream",
     "text": [
      "Using matplotlib backend: TkAgg\n"
     ]
    },
    {
     "name": "stderr",
     "output_type": "stream",
     "text": [
      "/home/josh/anaconda3/envs/kerastf/lib/python3.6/site-packages/h5py/__init__.py:36: FutureWarning: Conversion of the second argument of issubdtype from `float` to `np.floating` is deprecated. In future, it will be treated as `np.float64 == np.dtype(float).type`.\n",
      "  from ._conv import register_converters as _register_converters\n",
      "/home/josh/anaconda3/envs/kerastf/lib/python3.6/site-packages/cmocean/tools.py:76: MatplotlibDeprecationWarning: The is_string_like function was deprecated in version 2.1.\n",
      "  if not mpl.cbook.is_string_like(rgbin[0]):\n",
      "WARNING (theano.tensor.blas): Using NumPy C-API based implementation for BLAS functions.\n"
     ]
    }
   ],
   "source": [
    "#%matplotlib\n",
    "import astropy.coordinates as ac\n",
    "import astropy.time as at\n",
    "import astropy.units as au\n",
    "from ionotomo import *\n",
    "from ionotomo.tomography.simulate import SimulateTec\n",
    "import tensorflow as tf\n",
    "import numpy as np\n",
    "import gpflow as gpf\n",
    "import pymc3 as pm\n",
    "import os\n",
    "import pylab as plt\n",
    "import seaborn as sns\n",
    "\n",
    "###\n",
    "# Create radio array\n",
    "\n",
    "\n",
    "\n",
    "load_preexisting = True\n",
    "datapack_to_load = \"../data/rvw_datapack_full_phase_dec27.hdf5\"\n",
    "\n",
    "if load_preexisting:\n",
    "    datapack_facets = DataPack(filename=datapack_to_load)\n",
    "    _,timestamps_flag = datapack_facets.get_times(-1)\n",
    "    timestamps_flag = timestamps_flag[1:]\n",
    "    freqs_flag = datapack_facets.get_freqs(-1)\n",
    "    keep_freqs = freqs_flag[200:220]\n",
    "    freqs_flag = freqs_flag[np.bitwise_not(np.isin(freqs_flag,keep_freqs))]\n",
    "    datapack_facets.flag_times(timestamps_flag)\n",
    "    #datapack_facets.flag_freqs(freqs_flag)\n",
    "    #Flagged all but first time, channels 200-219, etc\n",
    "else:\n",
    "    ra = 126\n",
    "    dec = 64\n",
    "    timestamp = \"2016-12-08T23:25:01.384\"\n",
    "    radio_array = generate_example_radio_array(config='lofar')\n",
    "    p0 = ac.SkyCoord(ra=ra*au.deg,dec=dec*au.deg, frame='icrs')\n",
    "    obstime = at.Time(timestamp,format='isot')\n",
    "    location = radio_array.get_center()\n",
    "    altaz = ac.AltAz(location = location, obstime = obstime)\n",
    "    p = p0.transform_to(altaz)\n",
    "    print(p)\n",
    "    datapack_facets = generate_example_datapack(alt=p.alt.deg,az=p.az.deg,Ndir=42,Nfreqs=20,Ntime=1,radio_array=radio_array)\n",
    "\n",
    "datapack_screen = phase_screen_datapack(15,datapack=datapack_facets)\n",
    "\n",
    "times, timestamps = datapack_facets.get_times(-1)\n",
    "antennas,antenna_labels = datapack_facets.get_antennas(-1)\n",
    "freqs = datapack_facets.get_freqs(-1)\n",
    "\n",
    "phase_track = datapack_facets.get_center_direction()\n",
    "obstime = times[0]\n",
    "location = datapack_facets.radio_array.get_center()\n",
    "\n",
    "directions_facets,_ = datapack_facets.get_directions(-1)\n",
    "Nd1 = directions_facets.shape[0]\n",
    "directions_screen,_ = datapack_screen.get_directions(-1)\n",
    "Nd2 = directions_screen.shape[0]\n",
    "\n",
    "X_facets = np.array([directions_facets.ra.deg,directions_facets.dec.deg]).T\n",
    "X_screen = np.array([directions_screen.ra.deg,directions_screen.dec.deg]).T\n",
    "\n",
    "# uvw = UVW(location = location,obstime=obstime,phase = phase_track)\n",
    "\n",
    "# X0 = directions_facets.transform_to(uvw)\n",
    "# X0 = np.array([np.arctan2(X0.u.value,X0.w.value),np.arctan2(X0.v.value,X0.w.value)]).T\n",
    "\n",
    "# X1 = directions_screen.transform_to(uvw)\n",
    "# X1 = np.array([np.arctan2(X1.u.value,X1.w.value),np.arctan2(X1.v.value,X1.w.value)]).T\n",
    "\n",
    "# x_scale = np.mean(np.std(X1,axis=0))\n",
    "# X1 /= x_scale\n",
    "# X0 /= x_scale\n",
    "\n",
    "\n",
    "\n",
    "\n",
    "###\n",
    "# Generate ionospheres following I(sigma, l)\n",
    "\n",
    "def sample_ionosphere(sim,sigma,l):\n",
    "    \"\"\"Generate an ionosphere, I(sigma,l).\n",
    "    sim : SimulatedTec object (non reentrant)\n",
    "    sigma : float log_electron variance\n",
    "    l : float length scale\n",
    "    Returns a the model as ndarray\n",
    "    \"\"\"\n",
    "    sim.generate_model(sigma, l)\n",
    "    model = sim.model\n",
    "    return model\n",
    "\n",
    "###\n",
    "# simulate and place in datapack_screen\n",
    "def simulate_screen(sim,datapack,aj=0,s=1.01,ls=10.,draw_new=False):\n",
    "    if draw_new:\n",
    "        sim.generate_model(s,ls)\n",
    "    \n",
    "    tec = sim.simulate_tec()\n",
    "    phase = tec[...,None]*-8.4479e9/freqs\n",
    "    datapack.set_phase(phase,ant_idx=-1,time_idx=[aj],dir_idx=-1,freq_idx=-1)\n",
    "    return tec\n",
    "            \n",
    "def log_posterior_true(tec,X1, tec_obs, X0,samples=1000):\n",
    "    \"\"\"\n",
    "    Calculate the logp of the true underlying.\n",
    "    tec : array (Nd1,)\n",
    "    X1 : array (Nd1,2)\n",
    "    tec_obs : array (Nd2,)\n",
    "    X0 : array (Nd2, 2)\n",
    "    \"\"\"\n",
    "    with pm.Model() as model:\n",
    "        l = pm.Exponential('l',1.)\n",
    "        sigma = pm.Exponential('sigma',1.)\n",
    "        #c = pm.Normal('c',mu=0,sd=1)\n",
    "        cov_func = pm.math.sqr(sigma)*pm.gp.cov.ExpQuad(1, ls=l)\n",
    "        #mean_func = pm.gp.mean.Constant(c=c)\n",
    "        gp = pm.gp.Marginal(cov_func=cov_func)\n",
    "        eps = pm.HalfNormal('eps',sd=0.1)\n",
    "        y0_ = gp.marginal_likelihood('y0',X0,tec_obs,eps)\n",
    "        mp = pm.find_MAP()\n",
    "        print(mp)\n",
    "        trace = pm.sample(samples,start={'sigma':0.25,'l':0.25},chains=4)\n",
    "        pm.traceplot(trace,combined=True)\n",
    "        plt.show()\n",
    "    print(pm.summary(trace))\n",
    "    \n",
    "    df = pm.trace_to_dataframe(trace, varnames=['sigma','l','eps'])\n",
    "    sns.pairplot(df)\n",
    "    plt.show()\n",
    "\n",
    "    with model:\n",
    "        y1_ = gp.conditional('y1',X1)#,given={'X':X0,'y':y0,'noise':0.1})\n",
    "    logp = y1_.logp\n",
    "        \n",
    "    logp_val = np.zeros(len(trace))\n",
    "    for i,point in enumerate(trace):\n",
    "        point['y1'] = tec\n",
    "        logp_val[i] = logp(point)\n",
    "    \n",
    "    return logp_val\n",
    "\n",
    "\n",
    "# tec = simulate_screen(sim,datapack_screen,draw_new=True)\n",
    "# d_mask = np.random.choice(Nd2,size=Nd1,replace=False)\n",
    "# logp = log_posterior_true(tec[51,0,:],X1,tec[51,0,d_mask],X1[d_mask,:])\n",
    "\n",
    "# logp = {}\n",
    "# d_mask = np.random.choice(Nd2,size=Nd1,replace=False)\n",
    "# for i in range(10):\n",
    "#     tec = simulate_screen(sim,datapack_screen,draw_new=True)\n",
    "#     logp[i] = []\n",
    "#     for ai in range(1,62):\n",
    "#         print(antenna_labels[ai])\n",
    "#         tec_mean = np.mean(tec[ai,0,:])\n",
    "#         tec_std = np.std(tec[ai,0,:])\n",
    "#         tec_ = (tec[ai,0,:] - tec_mean) / tec_std\n",
    "#         logp[i].append(np.mean(log_posterior_true(tec_,X1,tec_[d_mask],X1[d_mask,:])))\n",
    "    "
   ]
  },
  {
   "cell_type": "code",
   "execution_count": 2,
   "metadata": {},
   "outputs": [],
   "source": [
    "import theano as th\n",
    "\n",
    "def solve_vi(X,Y,initial=None,batch_size=100):\n",
    "    X_t = th.shared(X)#pm.Minibatch(X,batch_size=batch_size,)\n",
    "    Y_t = th.shared(Y)#pm.Minibatch(Y,batch_size=batch_size)\n",
    "#    sigma_Y_t = th.shared(sigma_Y)#pm.Minibatch(sigma_Y,batch_size=batch_size)\n",
    "\n",
    "    #initial=(0.3,0.5,2.)\n",
    "    \n",
    "    dx = np.max(X) - np.min(X)\n",
    "    dy = np.max(Y) - np.min(Y)\n",
    "\n",
    "    with pm.Model() as model:\n",
    "        sigma_K = pm.HalfNormal('sigma_K',sd=dy/3.)\n",
    "        l_space = pm.HalfNormal('l_space',sd=dx/3.,testval=1.)\n",
    "        cov_func = sigma_K**2 * pm.gp.cov.ExpQuad(2,active_dims=[0,1], ls=l_space) \n",
    "        gp = pm.gp.Marginal(cov_func=cov_func)\n",
    "        eps = pm.Uniform('eps',0.0,np.std(Y))\n",
    "        y1 = gp.marginal_likelihood('y1',X_t,Y_t,eps)\n",
    "        #y2 = gp.marginal_likelihood('y2',X[:100,:],Y[:100],eps*sigma_Y[:100])\n",
    "        initial = initial or pm.find_MAP()\n",
    "        approx = pm.fit(1000, start=initial,method='advi',callbacks=[pm.callbacks.CheckParametersConvergence(tolerance=1e-4)])\n",
    "#         plt.plot(approx.hist)\n",
    "#         plt.show()\n",
    "        means = approx.bij.rmap(approx.mean.eval())\n",
    "#         print(means)\n",
    "#         sds = approx.bij.rmap(approx.std.eval())\n",
    "#         print(sds)\n",
    "        df = approx.sample(10000)\n",
    "        p={k:pm.summary(df)['mean'][k] for k in pm.summary(df)['mean'].keys()}\n",
    "#         pm.traceplot(df,lines=p)\n",
    "#         plt.show()\n",
    "    return p\n",
    "\n",
    "from ionotomo.bayes.gpflow_contrib import GPR_v2\n",
    "def solve_gpf(X,Y,initial=None,batch_size=100):\n",
    "    dx = np.max(X[:,0]) - np.min(X[:,0])\n",
    "    dy = np.max(Y) - np.min(Y)\n",
    "    with gpf.defer_build():\n",
    "        k_space = gpf.kernels.RBF(2,active_dims = [0,1],lengthscales=[0.1])\n",
    "        kern = k_space\n",
    "        mean = gpf.mean_functions.Constant()\n",
    "        m = GPR_v2(X, Y[:,None], kern, mean_function=mean,var=1.,trainable_var=True)\n",
    "        m.kern.lengthscales.prior = gpf.priors.Uniform(0,dx)\n",
    "        m.kern.variance.prior = gpf.priors.Uniform(0,dy)\n",
    "        m.compile()\n",
    "    \n",
    "    o = gpf.train.ScipyOptimizer(method='BFGS')\n",
    "    o.minimize(m,maxiter=100)\n",
    "    ls= m.kern.lengthscales.value[0]\n",
    "    v = m.kern.variance.value\n",
    "    #print(m)\n",
    "    return {\"l_space\":ls,\"var\":v, 'eps': m.likelihood.variance.value}\n",
    "\n",
    "def _solve_gpf(arg):\n",
    "    X,Y,initial = arg\n",
    "    with tf.Session(graph=tf.Graph()):\n",
    "        return solve_gpf(X,Y,initial)\n",
    "\n",
    "from concurrent import futures\n",
    "def parallel_solve_gpf(X,Y,initial=None,num_threads=1):\n",
    "    \"\"\"Assume batch dimension 0\"\"\"\n",
    "    batch = Y.shape[0]\n",
    "    with futures.ThreadPoolExecutor(max_workers=num_threads) as exe:\n",
    "        args = []\n",
    "        for i in range(batch):\n",
    "            args.append((X,Y[i,...],initial))\n",
    "        jobs = exe.map(_solve_gpf,args)\n",
    "        results = list(jobs)\n",
    "        return results"
   ]
  },
  {
   "cell_type": "code",
   "execution_count": 3,
   "metadata": {},
   "outputs": [
    {
     "name": "stdout",
     "output_type": "stream",
     "text": [
      "Generating 5.0 km scale\n",
      "Simulating 5.0 km scale\n"
     ]
    },
    {
     "name": "stderr",
     "output_type": "stream",
     "text": [
      "/home/josh/anaconda3/envs/kerastf/lib/python3.6/site-packages/gpflow-1.1.0-py3.6.egg/gpflow/densities.py:89: UserWarning: Shape of x must be 2D at computation.\n",
      "  warnings.warn('Shape of x must be 2D at computation.')\n"
     ]
    },
    {
     "name": "stdout",
     "output_type": "stream",
     "text": [
      "INFO:tensorflow:Optimization terminated with:\n",
      "  Message: Optimization terminated successfully.\n",
      "  Objective function value: -148.873998\n",
      "  Number of iterations: 19\n",
      "  Number of functions evaluations: 30\n"
     ]
    },
    {
     "name": "stderr",
     "output_type": "stream",
     "text": [
      "INFO:tensorflow:Optimization terminated with:\n",
      "  Message: Optimization terminated successfully.\n",
      "  Objective function value: -148.873998\n",
      "  Number of iterations: 19\n",
      "  Number of functions evaluations: 30\n",
      "/home/josh/anaconda3/envs/kerastf/lib/python3.6/site-packages/gpflow-1.1.0-py3.6.egg/gpflow/densities.py:89: UserWarning: Shape of x must be 2D at computation.\n",
      "  warnings.warn('Shape of x must be 2D at computation.')\n"
     ]
    },
    {
     "name": "stdout",
     "output_type": "stream",
     "text": [
      "INFO:tensorflow:Optimization terminated with:\n",
      "  Message: Desired error not necessarily achieved due to precision loss.\n",
      "  Objective function value: -125.875921\n",
      "  Number of iterations: 17\n",
      "  Number of functions evaluations: 103\n"
     ]
    },
    {
     "name": "stderr",
     "output_type": "stream",
     "text": [
      "INFO:tensorflow:Optimization terminated with:\n",
      "  Message: Desired error not necessarily achieved due to precision loss.\n",
      "  Objective function value: -125.875921\n",
      "  Number of iterations: 17\n",
      "  Number of functions evaluations: 103\n",
      "/home/josh/anaconda3/envs/kerastf/lib/python3.6/site-packages/gpflow-1.1.0-py3.6.egg/gpflow/densities.py:89: UserWarning: Shape of x must be 2D at computation.\n",
      "  warnings.warn('Shape of x must be 2D at computation.')\n"
     ]
    },
    {
     "name": "stdout",
     "output_type": "stream",
     "text": [
      "INFO:tensorflow:Optimization terminated with:\n",
      "  Message: Desired error not necessarily achieved due to precision loss.\n",
      "  Objective function value: -77.709442\n",
      "  Number of iterations: 19\n",
      "  Number of functions evaluations: 125\n"
     ]
    },
    {
     "name": "stderr",
     "output_type": "stream",
     "text": [
      "INFO:tensorflow:Optimization terminated with:\n",
      "  Message: Desired error not necessarily achieved due to precision loss.\n",
      "  Objective function value: -77.709442\n",
      "  Number of iterations: 19\n",
      "  Number of functions evaluations: 125\n"
     ]
    },
    {
     "name": "stdout",
     "output_type": "stream",
     "text": [
      "INFO:tensorflow:Optimization terminated with:\n",
      "  Message: Desired error not necessarily achieved due to precision loss.\n",
      "  Objective function value: -481.028541\n",
      "  Number of iterations: 32\n",
      "  Number of functions evaluations: 168\n"
     ]
    },
    {
     "name": "stderr",
     "output_type": "stream",
     "text": [
      "INFO:tensorflow:Optimization terminated with:\n",
      "  Message: Desired error not necessarily achieved due to precision loss.\n",
      "  Objective function value: -481.028541\n",
      "  Number of iterations: 32\n",
      "  Number of functions evaluations: 168\n",
      "/home/josh/anaconda3/envs/kerastf/lib/python3.6/site-packages/gpflow-1.1.0-py3.6.egg/gpflow/densities.py:89: UserWarning: Shape of x must be 2D at computation.\n",
      "  warnings.warn('Shape of x must be 2D at computation.')\n"
     ]
    },
    {
     "name": "stdout",
     "output_type": "stream",
     "text": [
      "INFO:tensorflow:Optimization terminated with:\n",
      "  Message: Desired error not necessarily achieved due to precision loss.\n",
      "  Objective function value: -108.991761\n",
      "  Number of iterations: 17\n",
      "  Number of functions evaluations: 82\n"
     ]
    },
    {
     "name": "stderr",
     "output_type": "stream",
     "text": [
      "INFO:tensorflow:Optimization terminated with:\n",
      "  Message: Desired error not necessarily achieved due to precision loss.\n",
      "  Objective function value: -108.991761\n",
      "  Number of iterations: 17\n",
      "  Number of functions evaluations: 82\n"
     ]
    },
    {
     "name": "stdout",
     "output_type": "stream",
     "text": [
      "INFO:tensorflow:Optimization terminated with:\n",
      "  Message: Optimization terminated successfully.\n",
      "  Objective function value: -120.205154\n",
      "  Number of iterations: 15\n",
      "  Number of functions evaluations: 23\n"
     ]
    },
    {
     "name": "stderr",
     "output_type": "stream",
     "text": [
      "INFO:tensorflow:Optimization terminated with:\n",
      "  Message: Optimization terminated successfully.\n",
      "  Objective function value: -120.205154\n",
      "  Number of iterations: 15\n",
      "  Number of functions evaluations: 23\n",
      "/home/josh/anaconda3/envs/kerastf/lib/python3.6/site-packages/gpflow-1.1.0-py3.6.egg/gpflow/densities.py:89: UserWarning: Shape of x must be 2D at computation.\n",
      "  warnings.warn('Shape of x must be 2D at computation.')\n"
     ]
    },
    {
     "name": "stdout",
     "output_type": "stream",
     "text": [
      "INFO:tensorflow:Optimization terminated with:\n",
      "  Message: Optimization terminated successfully.\n",
      "  Objective function value: -126.968742\n",
      "  Number of iterations: 18\n",
      "  Number of functions evaluations: 26\n"
     ]
    },
    {
     "name": "stderr",
     "output_type": "stream",
     "text": [
      "INFO:tensorflow:Optimization terminated with:\n",
      "  Message: Optimization terminated successfully.\n",
      "  Objective function value: -126.968742\n",
      "  Number of iterations: 18\n",
      "  Number of functions evaluations: 26\n"
     ]
    },
    {
     "name": "stdout",
     "output_type": "stream",
     "text": [
      "INFO:tensorflow:Optimization terminated with:\n",
      "  Message: Desired error not necessarily achieved due to precision loss.\n",
      "  Objective function value: -249.261538\n",
      "  Number of iterations: 16\n",
      "  Number of functions evaluations: 95\n"
     ]
    },
    {
     "name": "stderr",
     "output_type": "stream",
     "text": [
      "/home/josh/anaconda3/envs/kerastf/lib/python3.6/site-packages/gpflow-1.1.0-py3.6.egg/gpflow/densities.py:89: UserWarning: Shape of x must be 2D at computation.\n",
      "  warnings.warn('Shape of x must be 2D at computation.')\n",
      "INFO:tensorflow:Optimization terminated with:\n",
      "  Message: Desired error not necessarily achieved due to precision loss.\n",
      "  Objective function value: -249.261538\n",
      "  Number of iterations: 16\n",
      "  Number of functions evaluations: 95\n"
     ]
    },
    {
     "name": "stdout",
     "output_type": "stream",
     "text": [
      "INFO:tensorflow:Optimization terminated with:\n",
      "  Message: Optimization terminated successfully.\n",
      "  Objective function value: -188.408997\n",
      "  Number of iterations: 19\n",
      "  Number of functions evaluations: 27\n"
     ]
    },
    {
     "name": "stderr",
     "output_type": "stream",
     "text": [
      "INFO:tensorflow:Optimization terminated with:\n",
      "  Message: Optimization terminated successfully.\n",
      "  Objective function value: -188.408997\n",
      "  Number of iterations: 19\n",
      "  Number of functions evaluations: 27\n"
     ]
    },
    {
     "name": "stdout",
     "output_type": "stream",
     "text": [
      "INFO:tensorflow:Optimization terminated with:\n",
      "  Message: Desired error not necessarily achieved due to precision loss.\n",
      "  Objective function value: -185.428817\n",
      "  Number of iterations: 22\n",
      "  Number of functions evaluations: 52\n"
     ]
    },
    {
     "name": "stderr",
     "output_type": "stream",
     "text": [
      "INFO:tensorflow:Optimization terminated with:\n",
      "  Message: Desired error not necessarily achieved due to precision loss.\n",
      "  Objective function value: -185.428817\n",
      "  Number of iterations: 22\n",
      "  Number of functions evaluations: 52\n",
      "/home/josh/anaconda3/envs/kerastf/lib/python3.6/site-packages/gpflow-1.1.0-py3.6.egg/gpflow/densities.py:89: UserWarning: Shape of x must be 2D at computation.\n",
      "  warnings.warn('Shape of x must be 2D at computation.')\n"
     ]
    },
    {
     "name": "stdout",
     "output_type": "stream",
     "text": [
      "INFO:tensorflow:Optimization terminated with:\n",
      "  Message: Desired error not necessarily achieved due to precision loss.\n",
      "  Objective function value: -236.555177\n",
      "  Number of iterations: 23\n",
      "  Number of functions evaluations: 162\n"
     ]
    },
    {
     "name": "stderr",
     "output_type": "stream",
     "text": [
      "INFO:tensorflow:Optimization terminated with:\n",
      "  Message: Desired error not necessarily achieved due to precision loss.\n",
      "  Objective function value: -236.555177\n",
      "  Number of iterations: 23\n",
      "  Number of functions evaluations: 162\n"
     ]
    },
    {
     "name": "stdout",
     "output_type": "stream",
     "text": [
      "INFO:tensorflow:Optimization terminated with:\n",
      "  Message: Desired error not necessarily achieved due to precision loss.\n",
      "  Objective function value: -92.944240\n",
      "  Number of iterations: 18\n",
      "  Number of functions evaluations: 102\n"
     ]
    },
    {
     "name": "stderr",
     "output_type": "stream",
     "text": [
      "INFO:tensorflow:Optimization terminated with:\n",
      "  Message: Desired error not necessarily achieved due to precision loss.\n",
      "  Objective function value: -92.944240\n",
      "  Number of iterations: 18\n",
      "  Number of functions evaluations: 102\n",
      "/home/josh/anaconda3/envs/kerastf/lib/python3.6/site-packages/gpflow-1.1.0-py3.6.egg/gpflow/densities.py:89: UserWarning: Shape of x must be 2D at computation.\n",
      "  warnings.warn('Shape of x must be 2D at computation.')\n",
      "/home/josh/anaconda3/envs/kerastf/lib/python3.6/site-packages/gpflow-1.1.0-py3.6.egg/gpflow/densities.py:89: UserWarning: Shape of x must be 2D at computation.\n",
      "  warnings.warn('Shape of x must be 2D at computation.')\n"
     ]
    },
    {
     "name": "stdout",
     "output_type": "stream",
     "text": [
      "INFO:tensorflow:Optimization terminated with:\n",
      "  Message: Desired error not necessarily achieved due to precision loss.\n",
      "  Objective function value: -232.882998\n",
      "  Number of iterations: 24\n",
      "  Number of functions evaluations: 133\n"
     ]
    },
    {
     "name": "stderr",
     "output_type": "stream",
     "text": [
      "INFO:tensorflow:Optimization terminated with:\n",
      "  Message: Desired error not necessarily achieved due to precision loss.\n",
      "  Objective function value: -232.882998\n",
      "  Number of iterations: 24\n",
      "  Number of functions evaluations: 133\n",
      "/home/josh/anaconda3/envs/kerastf/lib/python3.6/site-packages/gpflow-1.1.0-py3.6.egg/gpflow/densities.py:89: UserWarning: Shape of x must be 2D at computation.\n",
      "  warnings.warn('Shape of x must be 2D at computation.')\n"
     ]
    },
    {
     "name": "stdout",
     "output_type": "stream",
     "text": [
      "INFO:tensorflow:Optimization terminated with:\n",
      "  Message: Optimization terminated successfully.\n",
      "  Objective function value: -142.954925\n",
      "  Number of iterations: 25\n",
      "  Number of functions evaluations: 189\n"
     ]
    },
    {
     "name": "stderr",
     "output_type": "stream",
     "text": [
      "INFO:tensorflow:Optimization terminated with:\n",
      "  Message: Optimization terminated successfully.\n",
      "  Objective function value: -142.954925\n",
      "  Number of iterations: 25\n",
      "  Number of functions evaluations: 189\n"
     ]
    },
    {
     "name": "stdout",
     "output_type": "stream",
     "text": [
      "INFO:tensorflow:Optimization terminated with:\n",
      "  Message: Optimization terminated successfully.\n",
      "  Objective function value: 1.853843\n",
      "  Number of iterations: 16\n",
      "  Number of functions evaluations: 25\n"
     ]
    },
    {
     "name": "stderr",
     "output_type": "stream",
     "text": [
      "INFO:tensorflow:Optimization terminated with:\n",
      "  Message: Optimization terminated successfully.\n",
      "  Objective function value: 1.853843\n",
      "  Number of iterations: 16\n",
      "  Number of functions evaluations: 25\n",
      "/home/josh/anaconda3/envs/kerastf/lib/python3.6/site-packages/gpflow-1.1.0-py3.6.egg/gpflow/densities.py:89: UserWarning: Shape of x must be 2D at computation.\n",
      "  warnings.warn('Shape of x must be 2D at computation.')\n"
     ]
    },
    {
     "name": "stdout",
     "output_type": "stream",
     "text": [
      "INFO:tensorflow:Optimization terminated with:\n",
      "  Message: Desired error not necessarily achieved due to precision loss.\n",
      "  Objective function value: -242.293811\n",
      "  Number of iterations: 12\n",
      "  Number of functions evaluations: 74\n"
     ]
    },
    {
     "name": "stderr",
     "output_type": "stream",
     "text": [
      "INFO:tensorflow:Optimization terminated with:\n",
      "  Message: Desired error not necessarily achieved due to precision loss.\n",
      "  Objective function value: -242.293811\n",
      "  Number of iterations: 12\n",
      "  Number of functions evaluations: 74\n",
      "/home/josh/anaconda3/envs/kerastf/lib/python3.6/site-packages/gpflow-1.1.0-py3.6.egg/gpflow/densities.py:89: UserWarning: Shape of x must be 2D at computation.\n",
      "  warnings.warn('Shape of x must be 2D at computation.')\n"
     ]
    },
    {
     "name": "stdout",
     "output_type": "stream",
     "text": [
      "INFO:tensorflow:Optimization terminated with:\n",
      "  Message: Desired error not necessarily achieved due to precision loss.\n",
      "  Objective function value: -20.038713\n",
      "  Number of iterations: 14\n",
      "  Number of functions evaluations: 99\n"
     ]
    },
    {
     "name": "stderr",
     "output_type": "stream",
     "text": [
      "INFO:tensorflow:Optimization terminated with:\n",
      "  Message: Desired error not necessarily achieved due to precision loss.\n",
      "  Objective function value: -20.038713\n",
      "  Number of iterations: 14\n",
      "  Number of functions evaluations: 99\n"
     ]
    },
    {
     "name": "stdout",
     "output_type": "stream",
     "text": [
      "INFO:tensorflow:Optimization terminated with:\n",
      "  Message: Optimization terminated successfully.\n",
      "  Objective function value: -97.680160\n",
      "  Number of iterations: 17\n",
      "  Number of functions evaluations: 23\n"
     ]
    },
    {
     "name": "stderr",
     "output_type": "stream",
     "text": [
      "INFO:tensorflow:Optimization terminated with:\n",
      "  Message: Optimization terminated successfully.\n",
      "  Objective function value: -97.680160\n",
      "  Number of iterations: 17\n",
      "  Number of functions evaluations: 23\n",
      "/home/josh/anaconda3/envs/kerastf/lib/python3.6/site-packages/gpflow-1.1.0-py3.6.egg/gpflow/densities.py:89: UserWarning: Shape of x must be 2D at computation.\n",
      "  warnings.warn('Shape of x must be 2D at computation.')\n"
     ]
    },
    {
     "name": "stdout",
     "output_type": "stream",
     "text": [
      "INFO:tensorflow:Optimization terminated with:\n",
      "  Message: Desired error not necessarily achieved due to precision loss.\n",
      "  Objective function value: -145.791059\n",
      "  Number of iterations: 15\n",
      "  Number of functions evaluations: 73\n"
     ]
    },
    {
     "name": "stderr",
     "output_type": "stream",
     "text": [
      "INFO:tensorflow:Optimization terminated with:\n",
      "  Message: Desired error not necessarily achieved due to precision loss.\n",
      "  Objective function value: -145.791059\n",
      "  Number of iterations: 15\n",
      "  Number of functions evaluations: 73\n"
     ]
    },
    {
     "name": "stdout",
     "output_type": "stream",
     "text": [
      "INFO:tensorflow:Optimization terminated with:\n",
      "  Message: Desired error not necessarily achieved due to precision loss.\n",
      "  Objective function value: -13.928747\n",
      "  Number of iterations: 14\n",
      "  Number of functions evaluations: 122\n"
     ]
    },
    {
     "name": "stderr",
     "output_type": "stream",
     "text": [
      "INFO:tensorflow:Optimization terminated with:\n",
      "  Message: Desired error not necessarily achieved due to precision loss.\n",
      "  Objective function value: -13.928747\n",
      "  Number of iterations: 14\n",
      "  Number of functions evaluations: 122\n",
      "/home/josh/anaconda3/envs/kerastf/lib/python3.6/site-packages/gpflow-1.1.0-py3.6.egg/gpflow/densities.py:89: UserWarning: Shape of x must be 2D at computation.\n",
      "  warnings.warn('Shape of x must be 2D at computation.')\n"
     ]
    },
    {
     "name": "stdout",
     "output_type": "stream",
     "text": [
      "INFO:tensorflow:Optimization terminated with:\n",
      "  Message: Optimization terminated successfully.\n",
      "  Objective function value: 21.369675\n",
      "  Number of iterations: 17\n",
      "  Number of functions evaluations: 28\n"
     ]
    },
    {
     "name": "stderr",
     "output_type": "stream",
     "text": [
      "INFO:tensorflow:Optimization terminated with:\n",
      "  Message: Optimization terminated successfully.\n",
      "  Objective function value: 21.369675\n",
      "  Number of iterations: 17\n",
      "  Number of functions evaluations: 28\n"
     ]
    },
    {
     "name": "stdout",
     "output_type": "stream",
     "text": [
      "INFO:tensorflow:Optimization terminated with:\n",
      "  Message: Desired error not necessarily achieved due to precision loss.\n",
      "  Objective function value: -54.269002\n",
      "  Number of iterations: 14\n",
      "  Number of functions evaluations: 178\n"
     ]
    },
    {
     "name": "stderr",
     "output_type": "stream",
     "text": [
      "INFO:tensorflow:Optimization terminated with:\n",
      "  Message: Desired error not necessarily achieved due to precision loss.\n",
      "  Objective function value: -54.269002\n",
      "  Number of iterations: 14\n",
      "  Number of functions evaluations: 178\n"
     ]
    },
    {
     "name": "stdout",
     "output_type": "stream",
     "text": [
      "INFO:tensorflow:Optimization terminated with:\n",
      "  Message: Optimization terminated successfully.\n",
      "  Objective function value: -103.101729\n",
      "  Number of iterations: 18\n",
      "  Number of functions evaluations: 27\n"
     ]
    },
    {
     "name": "stderr",
     "output_type": "stream",
     "text": [
      "INFO:tensorflow:Optimization terminated with:\n",
      "  Message: Optimization terminated successfully.\n",
      "  Objective function value: -103.101729\n",
      "  Number of iterations: 18\n",
      "  Number of functions evaluations: 27\n",
      "/home/josh/anaconda3/envs/kerastf/lib/python3.6/site-packages/gpflow-1.1.0-py3.6.egg/gpflow/densities.py:89: UserWarning: Shape of x must be 2D at computation.\n",
      "  warnings.warn('Shape of x must be 2D at computation.')\n"
     ]
    },
    {
     "name": "stdout",
     "output_type": "stream",
     "text": [
      "INFO:tensorflow:Optimization terminated with:\n",
      "  Message: Optimization terminated successfully.\n",
      "  Objective function value: -75.114076\n",
      "  Number of iterations: 17\n",
      "  Number of functions evaluations: 27\n"
     ]
    },
    {
     "name": "stderr",
     "output_type": "stream",
     "text": [
      "INFO:tensorflow:Optimization terminated with:\n",
      "  Message: Optimization terminated successfully.\n",
      "  Objective function value: -75.114076\n",
      "  Number of iterations: 17\n",
      "  Number of functions evaluations: 27\n"
     ]
    },
    {
     "name": "stdout",
     "output_type": "stream",
     "text": [
      "INFO:tensorflow:Optimization terminated with:\n",
      "  Message: Optimization terminated successfully.\n",
      "  Objective function value: -104.715525\n",
      "  Number of iterations: 18\n",
      "  Number of functions evaluations: 141\n"
     ]
    },
    {
     "name": "stderr",
     "output_type": "stream",
     "text": [
      "INFO:tensorflow:Optimization terminated with:\n",
      "  Message: Optimization terminated successfully.\n",
      "  Objective function value: -104.715525\n",
      "  Number of iterations: 18\n",
      "  Number of functions evaluations: 141\n",
      "/home/josh/anaconda3/envs/kerastf/lib/python3.6/site-packages/gpflow-1.1.0-py3.6.egg/gpflow/densities.py:89: UserWarning: Shape of x must be 2D at computation.\n",
      "  warnings.warn('Shape of x must be 2D at computation.')\n"
     ]
    },
    {
     "name": "stdout",
     "output_type": "stream",
     "text": [
      "INFO:tensorflow:Optimization terminated with:\n",
      "  Message: Desired error not necessarily achieved due to precision loss.\n",
      "  Objective function value: 141.775341\n",
      "  Number of iterations: 15\n",
      "  Number of functions evaluations: 131\n"
     ]
    },
    {
     "name": "stderr",
     "output_type": "stream",
     "text": [
      "INFO:tensorflow:Optimization terminated with:\n",
      "  Message: Desired error not necessarily achieved due to precision loss.\n",
      "  Objective function value: 141.775341\n",
      "  Number of iterations: 15\n",
      "  Number of functions evaluations: 131\n"
     ]
    },
    {
     "name": "stdout",
     "output_type": "stream",
     "text": [
      "INFO:tensorflow:Optimization terminated with:\n",
      "  Message: Desired error not necessarily achieved due to precision loss.\n",
      "  Objective function value: 133.399255\n",
      "  Number of iterations: 14\n",
      "  Number of functions evaluations: 64\n"
     ]
    },
    {
     "name": "stderr",
     "output_type": "stream",
     "text": [
      "INFO:tensorflow:Optimization terminated with:\n",
      "  Message: Desired error not necessarily achieved due to precision loss.\n",
      "  Objective function value: 133.399255\n",
      "  Number of iterations: 14\n",
      "  Number of functions evaluations: 64\n"
     ]
    },
    {
     "name": "stdout",
     "output_type": "stream",
     "text": [
      "INFO:tensorflow:Optimization terminated with:\n",
      "  Message: Optimization terminated successfully.\n",
      "  Objective function value: 123.542904\n",
      "  Number of iterations: 15\n",
      "  Number of functions evaluations: 26\n"
     ]
    },
    {
     "name": "stderr",
     "output_type": "stream",
     "text": [
      "INFO:tensorflow:Optimization terminated with:\n",
      "  Message: Optimization terminated successfully.\n",
      "  Objective function value: 123.542904\n",
      "  Number of iterations: 15\n",
      "  Number of functions evaluations: 26\n",
      "/home/josh/anaconda3/envs/kerastf/lib/python3.6/site-packages/gpflow-1.1.0-py3.6.egg/gpflow/densities.py:89: UserWarning: Shape of x must be 2D at computation.\n",
      "  warnings.warn('Shape of x must be 2D at computation.')\n"
     ]
    },
    {
     "name": "stdout",
     "output_type": "stream",
     "text": [
      "INFO:tensorflow:Optimization terminated with:\n",
      "  Message: Desired error not necessarily achieved due to precision loss.\n",
      "  Objective function value: 113.204188\n",
      "  Number of iterations: 15\n",
      "  Number of functions evaluations: 118\n"
     ]
    },
    {
     "name": "stderr",
     "output_type": "stream",
     "text": [
      "INFO:tensorflow:Optimization terminated with:\n",
      "  Message: Desired error not necessarily achieved due to precision loss.\n",
      "  Objective function value: 113.204188\n",
      "  Number of iterations: 15\n",
      "  Number of functions evaluations: 118\n",
      "/home/josh/anaconda3/envs/kerastf/lib/python3.6/site-packages/gpflow-1.1.0-py3.6.egg/gpflow/densities.py:89: UserWarning: Shape of x must be 2D at computation.\n",
      "  warnings.warn('Shape of x must be 2D at computation.')\n",
      "Process Process-2:\n",
      "Traceback (most recent call last):\n",
      "  File \"/home/josh/anaconda3/envs/kerastf/lib/python3.6/multiprocessing/process.py\", line 249, in _bootstrap\n",
      "    self.run()\n",
      "  File \"/home/josh/anaconda3/envs/kerastf/lib/python3.6/multiprocessing/process.py\", line 93, in run\n",
      "    self._target(*self._args, **self._kwargs)\n",
      "  File \"/home/josh/anaconda3/envs/kerastf/lib/python3.6/concurrent/futures/process.py\", line 169, in _process_worker\n",
      "    call_item = call_queue.get(block=True)\n",
      "  File \"/home/josh/anaconda3/envs/kerastf/lib/python3.6/multiprocessing/queues.py\", line 94, in get\n",
      "    res = self._recv_bytes()\n",
      "  File \"/home/josh/anaconda3/envs/kerastf/lib/python3.6/multiprocessing/connection.py\", line 216, in recv_bytes\n",
      "    buf = self._recv_bytes(maxlength)\n",
      "  File \"/home/josh/anaconda3/envs/kerastf/lib/python3.6/multiprocessing/connection.py\", line 407, in _recv_bytes\n",
      "    buf = self._recv(4)\n",
      "  File \"/home/josh/anaconda3/envs/kerastf/lib/python3.6/multiprocessing/connection.py\", line 379, in _recv\n",
      "    chunk = read(handle, remaining)\n",
      "KeyboardInterrupt\n",
      "ERROR:root:Internal Python error in the inspect module.\n",
      "Below is the traceback from this internal error.\n",
      "\n"
     ]
    },
    {
     "name": "stdout",
     "output_type": "stream",
     "text": [
      "Traceback (most recent call last):\n",
      "  File \"/home/josh/anaconda3/envs/kerastf/lib/python3.6/site-packages/IPython/core/interactiveshell.py\", line 2862, in run_code\n",
      "    exec(code_obj, self.user_global_ns, self.user_ns)\n",
      "  File \"<ipython-input-3-a835bb9f69d7>\", line 24, in <module>\n",
      "    results = {l: r for l,r in zip(np.linspace(5.,50.,1),list(jobs))}\n",
      "  File \"/home/josh/anaconda3/envs/kerastf/lib/python3.6/concurrent/futures/_base.py\", line 556, in result_iterator\n",
      "    yield future.result()\n",
      "  File \"/home/josh/anaconda3/envs/kerastf/lib/python3.6/concurrent/futures/_base.py\", line 400, in result\n",
      "    self._condition.wait(timeout)\n",
      "  File \"/home/josh/anaconda3/envs/kerastf/lib/python3.6/threading.py\", line 295, in wait\n",
      "    waiter.acquire()\n",
      "KeyboardInterrupt\n",
      "\n",
      "During handling of the above exception, another exception occurred:\n",
      "\n",
      "Traceback (most recent call last):\n",
      "  File \"/home/josh/anaconda3/envs/kerastf/lib/python3.6/site-packages/IPython/core/interactiveshell.py\", line 1806, in showtraceback\n",
      "    stb = value._render_traceback_()\n",
      "AttributeError: 'KeyboardInterrupt' object has no attribute '_render_traceback_'\n",
      "\n",
      "During handling of the above exception, another exception occurred:\n",
      "\n",
      "Traceback (most recent call last):\n",
      "  File \"/home/josh/anaconda3/envs/kerastf/lib/python3.6/site-packages/IPython/core/ultratb.py\", line 1090, in get_records\n",
      "    return _fixed_getinnerframes(etb, number_of_lines_of_context, tb_offset)\n",
      "  File \"/home/josh/anaconda3/envs/kerastf/lib/python3.6/site-packages/IPython/core/ultratb.py\", line 311, in wrapped\n",
      "    return f(*args, **kwargs)\n",
      "  File \"/home/josh/anaconda3/envs/kerastf/lib/python3.6/site-packages/IPython/core/ultratb.py\", line 345, in _fixed_getinnerframes\n",
      "    records = fix_frame_records_filenames(inspect.getinnerframes(etb, context))\n",
      "  File \"/home/josh/anaconda3/envs/kerastf/lib/python3.6/inspect.py\", line 1480, in getinnerframes\n",
      "    frameinfo = (tb.tb_frame,) + getframeinfo(tb, context)\n",
      "  File \"/home/josh/anaconda3/envs/kerastf/lib/python3.6/inspect.py\", line 1438, in getframeinfo\n",
      "    filename = getsourcefile(frame) or getfile(frame)\n",
      "  File \"/home/josh/anaconda3/envs/kerastf/lib/python3.6/inspect.py\", line 693, in getsourcefile\n",
      "    if getattr(getmodule(object, filename), '__loader__', None) is not None:\n",
      "  File \"/home/josh/anaconda3/envs/kerastf/lib/python3.6/inspect.py\", line 739, in getmodule\n",
      "    os.path.realpath(f)] = module.__name__\n",
      "  File \"/home/josh/anaconda3/envs/kerastf/lib/python3.6/posixpath.py\", line 386, in realpath\n",
      "    path, ok = _joinrealpath(filename[:0], filename, {})\n",
      "  File \"/home/josh/anaconda3/envs/kerastf/lib/python3.6/posixpath.py\", line 406, in _joinrealpath\n",
      "    name, _, rest = rest.partition(sep)\n",
      "KeyboardInterrupt\n"
     ]
    },
    {
     "ename": "KeyboardInterrupt",
     "evalue": "",
     "output_type": "error",
     "traceback": [
      "\u001b[0;31m---------------------------------------------------------------------------\u001b[0m"
     ]
    }
   ],
   "source": [
    "def determine_simulated_characteristics(X_screen, freqs, s, l, num_threads):\n",
    "    sim = SimulateTec(datapack_screen,spacing=1.,res_n=501)\n",
    "    print(\"Generating {} km scale\".format(l))\n",
    "    sim.generate_model(s,l)\n",
    "    print(\"Simulating {} km scale\".format(l))\n",
    "    tec = sim.simulate_tec()\n",
    "    phase = tec[...,None]*-8.4479e9/freqs\n",
    "    results = parallel_solve_gpf(X_screen,phase[1:,0,:,0],num_threads=num_threads)\n",
    "    stats = {\n",
    "                'l_space':[r['l_space'] for r in results],\n",
    "                'var':[r['var'] for r in results],\n",
    "                'eps':[r['eps'] for r in results]\n",
    "               }\n",
    "    return stats\n",
    "\n",
    "def _determine_simulated_characteristics(arg):\n",
    "    return determine_simulated_characteristics(*arg)\n",
    "\n",
    "with futures.ProcessPoolExecutor(max_workers=4) as pexe:\n",
    "    args = []\n",
    "    for l in np.linspace(5.,50.,1):\n",
    "        args.append(( X_screen, freqs, 1.008, l, 16))\n",
    "    jobs = pexe.map(_determine_simulated_characteristics, args)\n",
    "    results = {l: r for l,r in zip(np.linspace(5.,50.,1),list(jobs))}\n",
    "    \n",
    "    \n",
    "\n",
    "\n",
    "from ionotomo import DatapackPlotter\n",
    "\n",
    "# simulate_screen(sim,datapack_screen,s=1.01,ls=10.,draw_new=True)\n",
    "# dp = DatapackPlotter(datapack = datapack_screen)\n",
    "# dp.plot(observable='phase',show=True,labels_in_radec=True,plot_crosses=False)"
   ]
  }
 ],
 "metadata": {
  "kernelspec": {
   "display_name": "Python 3",
   "language": "python",
   "name": "python3"
  },
  "language_info": {
   "codemirror_mode": {
    "name": "ipython",
    "version": 3
   },
   "file_extension": ".py",
   "mimetype": "text/x-python",
   "name": "python",
   "nbconvert_exporter": "python",
   "pygments_lexer": "ipython3",
   "version": "3.6.2"
  }
 },
 "nbformat": 4,
 "nbformat_minor": 2
}

{
 "cells": [
  {
   "cell_type": "code",
   "execution_count": 1,
   "metadata": {},
   "outputs": [
    {
     "name": "stdout",
     "output_type": "stream",
     "text": [
      "Setting refAnt: CS201HBA0\n",
      "Loaded 58 antennas, 3595 times, 34 directions\n",
      "Setting refAnt: CS201HBA0\n",
      "flagged ['CS201HBA1', 'CS201HBA0', 'CS021HBA1', 'CS021HBA0', 'CS011HBA0', 'CS011HBA1', 'CS030HBA1', 'CS030HBA0', 'RS406HBA', 'RS307HBA', 'CS004HBA0', 'CS004HBA1', 'RS106HBA', 'CS026HBA0', 'CS026HBA1', 'CS301HBA0', 'CS301HBA1', 'CS101HBA0', 'CS101HBA1', 'CS024HBA0', 'CS024HBA1', 'CS401HBA0', 'CS032HBA1', 'CS032HBA0', 'CS028HBA0', 'CS028HBA1', 'CS001HBA1', 'CS001HBA0', 'RS503HBA', 'CS103HBA0', 'CS103HBA1', 'CS003HBA1', 'CS003HBA0', 'RS306HBA', 'CS002HBA0', 'CS002HBA1', 'RS205HBA', 'CS501HBA0', 'CS501HBA1', 'RS305HBA', 'CS005HBA1', 'CS005HBA0', 'CS006HBA0', 'CS006HBA1', 'CS302HBA1', 'CS302HBA0', 'CS017HBA0', 'CS017HBA1', 'CS031HBA0', 'CS031HBA1']\n",
      "Setting refAnt: CS401HBA1\n",
      "Loaded 8 antennas, 3595 times, 34 directions\n",
      "Setting refAnt: CS401HBA1\n",
      "flagged ['s1', 's2', 's251', 's252', 's253', 's254', 's8', 's23', 's3', 's10', 's5', 's7', 's9', 's6', 's27', 's22', 's26', 's15', 's17', 's281', 's24', 's11', 's18', 's21', 's16', 's30']\n",
      "Casting rays: 64"
     ]
    },
    {
     "name": "stderr",
     "output_type": "stream",
     "text": [
      "C:\\Users\\josh\\Anaconda3\\envs\\compute\\lib\\site-packages\\ipykernel_launcher.py:100: RuntimeWarning: divide by zero encountered in log\n"
     ]
    },
    {
     "name": "stdout",
     "output_type": "stream",
     "text": [
      "\n",
      "splitting over directions\n"
     ]
    },
    {
     "data": {
      "image/png": "[encoded data removed]",
      "text/plain": [
       "<matplotlib.figure.Figure at 0x1e448994b38>"
      ]
     },
     "metadata": {},
     "output_type": "display_data"
    }
   ],
   "source": [
    "import numpy as np\n",
    "from scipy.integrate import simps\n",
    "import dask.array as da\n",
    "from dask import delayed\n",
    "from dask.multiprocessing import get\n",
    "from InitialModel import turbulentPerturbation\n",
    "\n",
    "def doModelingError(rays,alphaTCI):\n",
    "    N1,N2, _ , Ns = rays.shape\n",
    "    alphavec = np.zeros(Ns,dtype=np.double)\n",
    "    R = np.zeros([N1,N2],dtype=np.double)\n",
    "    j = 0\n",
    "    while j < N1:\n",
    "        k = 0\n",
    "        while k < N2:\n",
    "            x = rays[j,k,0,:]\n",
    "            y = rays[j,k,1,:]\n",
    "            z = rays[j,k,2,:]\n",
    "            s = rays[j,k,3,:]\n",
    "            alphavec *= 0\n",
    "            idx = 0\n",
    "            while idx < Ns:\n",
    "                alphavec[idx] += alphaTCI.interp(x[idx],y[idx],z[idx])\n",
    "                idx += 1\n",
    "\n",
    "            alphavec_ = (1 - alphavec)**(5./2.)\n",
    "            alphavec *= alphavec\n",
    "            alphavec *= alphavec\n",
    "            alphavec /= alphavec_\n",
    "            R[j,k] += simps(alphavec,s)\n",
    "            k += 1\n",
    "        j += 1\n",
    "    R /= 8.\n",
    "    return R\n",
    "                \n",
    "\n",
    "def modelingError(rays,neTCI,frequency):\n",
    "    '''For each ray do the forward equation using ref antenna i0'''\n",
    "    Na,Nt,Nd, _, Ns = rays.shape\n",
    "    Ct = np.zeros([Na,Nt,Nd,4],dtype=np.double)\n",
    "    n_p = 1.240e-2*(frequency)**2\n",
    "    i = 0\n",
    "    while i < 4:\n",
    "        dM = turbulentPerturbation(neTCI)\n",
    "        alphaTCI = neTCI.copy()\n",
    "        alphaTCI.m += dM.ravel('C')\n",
    "        alphaTCI.m /= n_p\n",
    "        if Na < Nd:\n",
    "            #do over antennas\n",
    "            Ct[:,:,:,i] = np.stack([doModelingError(rays[i,:,:,:,:],alphaTCI) for i in range(Na)],axis=0)\n",
    "        else:\n",
    "            #do over directions\n",
    "            Ct[:,:,:,i] = np.stack([doModelingError(rays[:,:,k,:,:],alphaTCI) for k in range(Nd)],axis=2)\n",
    "        i += 1\n",
    "    Ct *= n_p\n",
    "    Ct = np.var(Ct,axis=3)\n",
    "    return Ct\n",
    "\n",
    "def modelingError_dask(rays,neTCI,frequency):\n",
    "    '''For each ray do the forward equation using ref antenna i0'''\n",
    "    Na,Nt,Nd, _, Ns = rays.shape\n",
    "    Ct = np.zeros([Na,Nt,Nd,4],dtype=np.double)\n",
    "    n_p = 1.240e-2*(frequency)**2\n",
    "    i = 0\n",
    "    while i < 4:\n",
    "        dM = turbulentPerturbation(neTCI)\n",
    "        alphaTCI = neTCI.copy()\n",
    "        alphaTCI.m += dM.ravel('C')\n",
    "        alphaTCI.m /= n_p\n",
    "        if Na < Nd:\n",
    "            #do over antennas\n",
    "            Ct[:,:,:,i] = da.stack([da.from_delayed(delayed(doModelingError)(rays[i,:,:,:,:],alphaTCI),(Nt,Nd),dtype=np.double) for i in range(Na)],axis=0).compute(get=get)\n",
    "        else:\n",
    "            #do over directions\n",
    "            Ct[:,:,:,i] = da.stack([da.from_delayed(delayed(doModelingError)(rays[:,:,k,:,:],alphaTCI),(Na,Nt),dtype=np.double) for k in range(Nd)],axis=2).compute(get=get)\n",
    "        i += 1\n",
    "    Ct *= n_p\n",
    "    Ct = np.var(Ct,axis=3)\n",
    "    return Ct\n",
    "    \n",
    "def test_modelingError():\n",
    "    from TricubicInterpolation import TriCubic\n",
    "    from RealData import DataPack\n",
    "    from AntennaFacetSelection import selectAntennaFacets\n",
    "    from CalcRays import calcRays\n",
    "    datapack = DataPack(filename=\"output/test/datapackObs.hdf5\")\n",
    "    datapackSel = selectAntennaFacets(8, datapack, antIdx=-1, dirIdx=-1, timeIdx = [0])\n",
    "    antennas,antennaLabels = datapackSel.get_antennas(antIdx = -1)\n",
    "    patches, patchNames = datapackSel.get_directions(dirIdx = -1)\n",
    "    times,timestamps = datapackSel.get_times(timeIdx=[0])\n",
    "    Na = len(antennas)\n",
    "    Nt = len(times)\n",
    "    Nd = len(patches)  \n",
    "    fixtime = times[Nt>>1]\n",
    "    phase = datapack.getCenterDirection()\n",
    "    arrayCenter = datapack.radioArray.getCenter()\n",
    "    neTCI = TriCubic(filename=\"output/test/neModel.hdf5\")\n",
    "    rays = calcRays(antennas,patches,times, arrayCenter, fixtime, phase, neTCI, datapack.radioArray.frequency, True, 1000, 1000)\n",
    "    K_ne = np.mean(neTCI.m)\n",
    "    neTCI.m = np.log(neTCI.m/K_ne)\n",
    "    mTCI = neTCI\n",
    "    i0 = 0\n",
    "    Ct = modelingError(rays,neTCI,datapack.radioArray.frequency)\n",
    "    import pylab as plt\n",
    "    plt.hist(Ct.flatten())\n",
    "    plt.show()\n",
    "    \n",
    "if __name__ == '__main__':\n",
    "    test_modelingError()"
   ]
  }
 ],
 "metadata": {
  "kernelspec": {
   "display_name": "Python 3",
   "language": "python",
   "name": "python3"
  },
  "language_info": {
   "codemirror_mode": {
    "name": "ipython",
    "version": 3
   },
   "file_extension": ".py",
   "mimetype": "text/x-python",
   "name": "python",
   "nbconvert_exporter": "python",
   "pygments_lexer": "ipython3",
   "version": "3.5.3"
  }
 },
 "nbformat": 4,
 "nbformat_minor": 2
}

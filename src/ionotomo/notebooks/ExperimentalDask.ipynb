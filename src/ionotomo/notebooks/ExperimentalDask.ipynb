{
 "cells": [
  {
   "cell_type": "code",
   "execution_count": 10,
   "metadata": {},
   "outputs": [
    {
     "name": "stdout",
     "output_type": "stream",
     "text": [
      "Wall time: 20.8 s\n"
     ]
    },
    {
     "data": {
      "text/plain": [
       "array([[[        nan,         nan],\n",
       "        [ 0.44239035,  0.44239035],\n",
       "        [        nan,         nan],\n",
       "        ..., \n",
       "        [        nan,         nan],\n",
       "        [        nan,         nan],\n",
       "        [ 0.41208752,  0.41208752]],\n",
       "\n",
       "       [[ 0.20439242,  0.20439242],\n",
       "        [        nan,         nan],\n",
       "        [ 0.6304138 ,  0.6304138 ],\n",
       "        ..., \n",
       "        [        nan,         nan],\n",
       "        [        nan,         nan],\n",
       "        [        nan,         nan]],\n",
       "\n",
       "       [[ 0.36458233,  0.36458233],\n",
       "        [ 0.43851681,  0.43851681],\n",
       "        [ 0.41946341,  0.41946341],\n",
       "        ..., \n",
       "        [        nan,         nan],\n",
       "        [ 0.64371191,  0.64371191],\n",
       "        [        nan,         nan]],\n",
       "\n",
       "       ..., \n",
       "       [[ 0.35896745,  0.35896745],\n",
       "        [ 0.54635247,  0.54635247],\n",
       "        [        nan,         nan],\n",
       "        ..., \n",
       "        [        nan,         nan],\n",
       "        [        nan,         nan],\n",
       "        [ 0.51700838,  0.51700838]],\n",
       "\n",
       "       [[ 0.64798688,  0.64798688],\n",
       "        [        nan,         nan],\n",
       "        [ 0.5927887 ,  0.5927887 ],\n",
       "        ..., \n",
       "        [        nan,         nan],\n",
       "        [ 0.47979204,  0.47979204],\n",
       "        [ 0.83501239,  0.83501239]],\n",
       "\n",
       "       [[ 0.386788  ,  0.386788  ],\n",
       "        [        nan,         nan],\n",
       "        [        nan,         nan],\n",
       "        ..., \n",
       "        [        nan,         nan],\n",
       "        [        nan,         nan],\n",
       "        [        nan,         nan]]])"
      ]
     },
     "execution_count": 10,
     "metadata": {},
     "output_type": "execute_result"
    }
   ],
   "source": [
    "from dask.distributed import Client\n",
    "import dask.array as da\n",
    "from dask import delayed\n",
    "from time import clock\n",
    "\n",
    "\n",
    "def f(a,b):\n",
    "    return da.stack([a,b],axis=-1)\n",
    "\n",
    "\n",
    "def g(a):\n",
    "    return da.exp(-da.sqrt(a))\n",
    " \n",
    "if __name__ == '__main__':\n",
    "    client = Client()\n",
    "\n",
    "    N = 10000\n",
    "\n",
    "\n",
    "    for i in [1,2,3,4,5]:\n",
    "        a = da.random.normal(size=[N,N],chunks=(N>>i,N>>i))\n",
    "        x = client.submit(f,a,a)\n",
    "        y = client.submit(g,x)\n",
    "        t1 = clock()\n",
    "        y.result().compute()\n",
    "        print(\"{} takes {} s\".format(i,clock() - t1))"
   ]
  },
  {
   "cell_type": "code",
   "execution_count": null,
   "metadata": {
    "collapsed": true
   },
   "outputs": [],
   "source": []
  }
 ],
 "metadata": {
  "kernelspec": {
   "display_name": "Python 3",
   "language": "python",
   "name": "python3"
  },
  "language_info": {
   "codemirror_mode": {
    "name": "ipython",
    "version": 3
   },
   "file_extension": ".py",
   "mimetype": "text/x-python",
   "name": "python",
   "nbconvert_exporter": "python",
   "pygments_lexer": "ipython3",
   "version": "3.5.3"
  }
 },
 "nbformat": 4,
 "nbformat_minor": 2
}

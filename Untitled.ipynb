{
 "cells": [
  {
   "cell_type": "code",
   "execution_count": 2,
   "metadata": {
    "collapsed": true
   },
   "outputs": [],
   "source": [
    "import numpy as np"
   ]
  },
  {
   "cell_type": "code",
   "execution_count": 3,
   "metadata": {
    "collapsed": true
   },
   "outputs": [],
   "source": [
    "info = np.load('SB120-129/WendysBootes.npz')"
   ]
  },
  {
   "cell_type": "code",
   "execution_count": 53,
   "metadata": {
    "collapsed": false
   },
   "outputs": [
    {
     "name": "stdout",
     "output_type": "stream",
     "text": [
      "SB120-129\\BOOTES24_SB120-129.2ch8s.ms_instrument_master_s1_norm.npz\n",
      "['antennas', 'data', 'times']\n",
      "['CS201HBA1' 'CS201HBA0' 'CS021HBA1' 'CS021HBA0' 'CS011HBA0' 'CS011HBA1'\n",
      " 'CS030HBA1' 'CS030HBA0' 'RS406HBA' 'RS307HBA' 'RS407HBA' 'CS004HBA0'\n",
      " 'CS004HBA1' 'RS106HBA' 'CS026HBA0' 'CS026HBA1' 'RS508HBA' 'CS301HBA0'\n",
      " 'CS301HBA1' 'RS310HBA' 'CS101HBA0' 'CS101HBA1' 'RS509HBA' 'CS024HBA0'\n",
      " 'CS024HBA1' 'CS401HBA0' 'CS032HBA1' 'CS032HBA0' 'CS028HBA0' 'CS028HBA1'\n",
      " 'RS409HBA' 'CS001HBA1' 'CS001HBA0' 'RS503HBA' 'CS103HBA0' 'CS103HBA1'\n",
      " 'CS003HBA1' 'CS003HBA0' 'RS306HBA' 'CS002HBA0' 'CS002HBA1' 'RS205HBA'\n",
      " 'CS501HBA0' 'CS501HBA1' 'RS208HBA' 'CS401HBA1' 'RS305HBA' 'CS007HBA1'\n",
      " 'CS007HBA0' 'CS005HBA1' 'CS005HBA0' 'CS013HBA0' 'CS013HBA1' 'RS210HBA'\n",
      " 'CS006HBA0' 'CS006HBA1' 'CS302HBA1' 'CS302HBA0' 'CS017HBA0' 'CS017HBA1'\n",
      " 'CS031HBA0' 'CS031HBA1']\n",
      "(3595L,)\n",
      "(3595L, 62L)\n"
     ]
    }
   ],
   "source": [
    "p = info['patches'][0]\n",
    "import glob\n",
    "file = glob.glob(\"SB120-129/*_{0}_*.npz\".format(p))[0]\n",
    "file = glob.glob(\"SB120-129/*_{0}_*.npz\".format(p))[0]\n",
    "print(file)\n",
    "d = np.load(file)\n",
    "print(d.keys())\n",
    "print(d['antennas'])\n",
    "print(d['times'].shape)\n",
    "print(d['data'].shape)"
   ]
  },
  {
   "cell_type": "code",
   "execution_count": 51,
   "metadata": {
    "collapsed": true
   },
   "outputs": [],
   "source": [
    "f = './SB120-129/asdf//'"
   ]
  },
  {
   "cell_type": "code",
   "execution_count": 52,
   "metadata": {
    "collapsed": false
   },
   "outputs": [
    {
     "data": {
      "text/plain": [
       "'C:\\\\Users\\\\josh\\\\git\\\\IonoTomo\\\\SB120-129\\\\asdf'"
      ]
     },
     "execution_count": 52,
     "metadata": {},
     "output_type": "execute_result"
    }
   ],
   "source": [
    "import os\n",
    "os.path.abspath(f)"
   ]
  },
  {
   "cell_type": "code",
   "execution_count": null,
   "metadata": {
    "collapsed": true
   },
   "outputs": [],
   "source": []
  }
 ],
 "metadata": {
  "anaconda-cloud": {},
  "kernelspec": {
   "display_name": "Python [conda env:mayavi_env]",
   "language": "python",
   "name": "conda-env-mayavi_env-py"
  },
  "language_info": {
   "codemirror_mode": {
    "name": "ipython",
    "version": 2
   },
   "file_extension": ".py",
   "mimetype": "text/x-python",
   "name": "python",
   "nbconvert_exporter": "python",
   "pygments_lexer": "ipython2",
   "version": "2.7.12"
  }
 },
 "nbformat": 4,
 "nbformat_minor": 1
}

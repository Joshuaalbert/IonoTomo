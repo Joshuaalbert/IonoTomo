{
 "cells": [
  {
   "cell_type": "code",
   "execution_count": 44,
   "metadata": {
    "collapsed": false
   },
   "outputs": [
    {
     "name": "stdout",
     "output_type": "stream",
     "text": [
      "([(x0, n(x, y, z)), (x1, Derivative(x0, x)), (x2, pz**(-2)), (x3, x0*x2), (x4, 1/pz), (x5, Derivative(x0, y)), (x6, x4*(x0*Derivative(x0, x, y) + x1*x5)), (x7, Derivative(x0, z)), (x8, x4*(x0*Derivative(x0, x, z) + x1*x7)), (x9, x4*(x0*Derivative(x0, y, z) + x5*x7))], [Matrix([\n",
      "[ 0,  0, -x1*x3, x4*(x0*Derivative(x0, x, x) + x1**2),                                   x6,                                   x8, 0],\n",
      "[ 0,  0, -x3*x5,                                   x6, x4*(x0*Derivative(x0, y, y) + x5**2),                                   x9, 0],\n",
      "[ 0,  0, -x3*x7,                                   x8,                                   x9, x4*(x0*Derivative(x0, z, z) + x7**2), 0],\n",
      "[x4,  0, -px*x2,                                    0,                                    0,                                    0, 0],\n",
      "[ 0, x4, -py*x2,                                    0,                                    0,                                    0, 0],\n",
      "[ 0,  0,      0,                                    0,                                    0,                                    0, 0],\n",
      "[ 0,  0,    -x3,                                x1*x4,                                x4*x5,                                x4*x7, 0]])])\n",
      "([(x0, n(x, y, z)), (x1, Derivative(x0, x, y)), (x2, Derivative(x0, x, z)), (x3, Derivative(x0, y, z)), (x4, 1/x0), (x5, Derivative(x0, x)), (x6, x0**(-2)), (x7, px*x6), (x8, Derivative(x0, y)), (x9, Derivative(x0, z)), (x10, py*x6), (x11, pz*x6)], [Matrix([\n",
      "[ 0,  0,  0, Derivative(x0, x, x),                   x1,                   x2, 0],\n",
      "[ 0,  0,  0,                   x1, Derivative(x0, y, y),                   x3, 0],\n",
      "[ 0,  0,  0,                   x2,                   x3, Derivative(x0, z, z), 0],\n",
      "[x4,  0,  0,               -x5*x7,               -x7*x8,               -x7*x9, 0],\n",
      "[ 0, x4,  0,              -x10*x5,              -x10*x8,              -x10*x9, 0],\n",
      "[ 0,  0, x4,              -x11*x5,              -x11*x8,              -x11*x9, 0],\n",
      "[ 0,  0,  0,                    0,                    0,                    0, 0]])])\n"
     ]
    }
   ],
   "source": [
    "from sympy import symbols, Function, Rational,Matrix,cse\n",
    "\n",
    "def zparam():\n",
    "    px,py,pz,x,y,z,s = symbols('px py pz x y z s')\n",
    "    n = Function('n')(x,y,z)\n",
    "    nx = n.diff(x)\n",
    "    ny = n.diff(y)\n",
    "    nz = n.diff(z)\n",
    "    sdot = n/pz\n",
    "    pxdot = nx*n/pz\n",
    "    pydot = ny*n/pz\n",
    "    pzdot = nz*n/pz\n",
    "    xdot = px/pz\n",
    "    ydot = py/pz\n",
    "    zdot = Rational(1)\n",
    "    euVec = Matrix([pxdot,pydot,pzdot,xdot,ydot,zdot,sdot]).T\n",
    "    jac = Matrix([euVec.diff(px)[:],\n",
    "         euVec.diff(py)[:],\n",
    "         euVec.diff(pz)[:],\n",
    "         euVec.diff(x)[:],\n",
    "         euVec.diff(y)[:],\n",
    "         euVec.diff(z)[:],\n",
    "         euVec.diff(s)[:]])\n",
    "    cseFunc = cse(jac.T,optimizations='basic')\n",
    "    print(cseFunc)\n",
    "    \n",
    "def sparam():\n",
    "    px,py,pz,x,y,z,s = symbols('px py pz x y z s')\n",
    "    n = Function('n')(x,y,z)\n",
    "    nx = n.diff(x)\n",
    "    ny = n.diff(y)\n",
    "    nz = n.diff(z)\n",
    "    sdot = Rational(1)\n",
    "    pxdot = nx\n",
    "    pydot = ny\n",
    "    pzdot = nz\n",
    "    xdot = px/n\n",
    "    ydot = py/n\n",
    "    zdot = pz/n\n",
    "    euVec = Matrix([pxdot,pydot,pzdot,xdot,ydot,zdot,sdot]).T\n",
    "    jac = Matrix([euVec.diff(px)[:],\n",
    "         euVec.diff(py)[:],\n",
    "         euVec.diff(pz)[:],\n",
    "         euVec.diff(x)[:],\n",
    "         euVec.diff(y)[:],\n",
    "         euVec.diff(z)[:],\n",
    "         euVec.diff(s)[:]])\n",
    "    cseFunc = cse(jac.T,optimizations='basic')\n",
    "    print(cseFunc)\n",
    "    \n",
    "if __name__==\"__main__\":\n",
    "    zparam()\n",
    "    sparam()"
   ]
  },
  {
   "cell_type": "code",
   "execution_count": null,
   "metadata": {
    "collapsed": true
   },
   "outputs": [],
   "source": []
  }
 ],
 "metadata": {
  "kernelspec": {
   "display_name": "Python [conda env:mayavi_env]",
   "language": "python",
   "name": "conda-env-mayavi_env-py"
  },
  "language_info": {
   "codemirror_mode": {
    "name": "ipython",
    "version": 2
   },
   "file_extension": ".py",
   "mimetype": "text/x-python",
   "name": "python",
   "nbconvert_exporter": "python",
   "pygments_lexer": "ipython2",
   "version": "2.7.12"
  }
 },
 "nbformat": 4,
 "nbformat_minor": 1
}

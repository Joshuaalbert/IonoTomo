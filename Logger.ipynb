{
 "cells": [
  {
   "cell_type": "code",
   "execution_count": null,
   "metadata": {
    "collapsed": true
   },
   "outputs": [],
   "source": [
    "from sys import stdout\n",
    "\n",
    "class Logger(object):\n",
    "    def __init__(self,logFile=None,standardOut = True):\n",
    "        if standardOut:\n",
    "            self.file = [stdout]\n",
    "        else:\n",
    "            self.file = []\n",
    "        if logFile is not None:\n",
    "            try:\n",
    "                file = open(logFile,\"w\")\n",
    "                self.file.append(file)\n",
    "            except:\n",
    "                print(\"Failed to open log file {0}\".format(logFile))\n",
    "        if len(self.file) == 0:\n",
    "            print(\"No logger files!\")\n",
    "            exit(1)\n",
    "        #print(\"Using log files: {}\".format(self.file))\n",
    "    def __exit__(self):\n",
    "        for file in self.file:\n",
    "            try:\n",
    "                file.close()\n",
    "            except:\n",
    "                pass\n",
    "    def log(self,message,endLine=True):\n",
    "        for f in self.file:\n",
    "            if endLine:\n",
    "                f.write(\"{0}\\n\".format(message))\n",
    "            else:\n",
    "                f.write(\"{0}\".format(message))\n",
    "            f.flush()"
   ]
  }
 ],
 "metadata": {
  "kernelspec": {
   "display_name": "Python [conda env:mayavi_env]",
   "language": "python",
   "name": "conda-env-mayavi_env-py"
  },
  "language_info": {
   "codemirror_mode": {
    "name": "ipython",
    "version": 2
   },
   "file_extension": ".py",
   "mimetype": "text/x-python",
   "name": "python",
   "nbconvert_exporter": "python",
   "pygments_lexer": "ipython2",
   "version": "2.7.12"
  }
 },
 "nbformat": 4,
 "nbformat_minor": 1
}

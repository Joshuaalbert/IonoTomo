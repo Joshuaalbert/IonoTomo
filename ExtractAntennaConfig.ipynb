{
 "cells": [
  {
   "cell_type": "code",
   "execution_count": 1,
   "metadata": {
    "collapsed": false
   },
   "outputs": [
    {
     "ename": "ImportError",
     "evalue": "No module named pyrap.tables",
     "output_type": "error",
     "traceback": [
      "\u001b[0;31m---------------------------------------------------------------------------\u001b[0m",
      "\u001b[0;31mImportError\u001b[0m                               Traceback (most recent call last)",
      "\u001b[0;32m<ipython-input-1-c4f6fc4de9aa>\u001b[0m in \u001b[0;36m<module>\u001b[0;34m()\u001b[0m\n\u001b[0;32m----> 1\u001b[0;31m \u001b[1;32mimport\u001b[0m \u001b[0mpyrap\u001b[0m\u001b[1;33m.\u001b[0m\u001b[0mtables\u001b[0m \u001b[1;32mas\u001b[0m \u001b[0mpt\u001b[0m\u001b[1;33m\u001b[0m\u001b[0m\n\u001b[0m\u001b[1;32m      2\u001b[0m \u001b[1;32mimport\u001b[0m \u001b[0mnumpy\u001b[0m \u001b[1;32mas\u001b[0m \u001b[0mnp\u001b[0m\u001b[1;33m\u001b[0m\u001b[0m\n\u001b[1;32m      3\u001b[0m \u001b[1;33m\u001b[0m\u001b[0m\n\u001b[1;32m      4\u001b[0m \u001b[1;32mdef\u001b[0m \u001b[0mgenerate\u001b[0m\u001b[1;33m(\u001b[0m\u001b[0mmsfile\u001b[0m\u001b[1;33m)\u001b[0m\u001b[1;33m:\u001b[0m\u001b[1;33m\u001b[0m\u001b[0m\n\u001b[1;32m      5\u001b[0m     \u001b[0mt\u001b[0m \u001b[1;33m=\u001b[0m \u001b[0mpt\u001b[0m\u001b[1;33m.\u001b[0m\u001b[0mtable\u001b[0m\u001b[1;33m(\u001b[0m\u001b[1;34m\"{0}/ANTENNA\"\u001b[0m\u001b[1;33m.\u001b[0m\u001b[0mformat\u001b[0m\u001b[1;33m(\u001b[0m\u001b[0mmsfile\u001b[0m\u001b[1;33m)\u001b[0m\u001b[1;33m)\u001b[0m\u001b[1;33m\u001b[0m\u001b[0m\n",
      "\u001b[0;31mImportError\u001b[0m: No module named pyrap.tables"
     ]
    }
   ],
   "source": [
    "import pyrap.tables as pt\n",
    "import numpy as np\n",
    "\n",
    "def generate(msfile,outfile):\n",
    "    t = pt.table(\"{0}/ANTENNA\".format(msfile))\n",
    "    names = t.getcol('NAME')\n",
    "    position = t.getcol('POSITION')\n",
    "    diam = t.getcol('DISH_DIAMETER')\n",
    "    f = file(outfile,'w')\n",
    "    if f is None:\n",
    "        print(\"Failed to create outfile\")\n",
    "        return\n",
    "    f.write(\"# observatory=LOFAR\\n# coordsys=XYZ\\n# datum=WGS84\\n\\n\")\n",
    "    f.write(\"# created from {0}\\n\".format(msfile))\n",
    "    f.write(\"# created on {0} by Joshua G. Albert\\n\\n\".format(time.strftime(\"%d-%m-%Y\",time.localtime())))\n",
    "    f.write(\"#X Y Z Diam Station\\n\")\n",
    "    \n",
    "    i = 0\n",
    "    while i < names.size():\n",
    "        f.write(\"{0:0.3f} {1:0.3f} {2:0.3f} {3:0.3f} {4}\".format(position[i,0],position[i,1],position[i,2],diam[i],names[i]))\n",
    "        i += 1\n",
    "    f.close()\n",
    "    \n",
    "if __name__=='__main__':\n",
    "    ms = \".ms\"\n",
    "    outfile = \"arrays/lofar.hba.antenna.cfg\"\n",
    "    generate(ms,outfile)\n",
    "        "
   ]
  }
 ],
 "metadata": {
  "anaconda-cloud": {},
  "kernelspec": {
   "display_name": "Python [conda env:mayavi_env]",
   "language": "python",
   "name": "conda-env-mayavi_env-py"
  },
  "language_info": {
   "codemirror_mode": {
    "name": "ipython",
    "version": 2
   },
   "file_extension": ".py",
   "mimetype": "text/x-python",
   "name": "python",
   "nbconvert_exporter": "python",
   "pygments_lexer": "ipython2",
   "version": "2.7.12"
  }
 },
 "nbformat": 4,
 "nbformat_minor": 1
}

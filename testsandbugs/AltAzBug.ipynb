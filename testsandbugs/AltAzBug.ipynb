{
 "cells": [
  {
   "cell_type": "code",
   "execution_count": 1,
   "metadata": {
    "collapsed": false
   },
   "outputs": [
    {
     "name": "stdout",
     "output_type": "stream",
     "text": [
      "-0.64333457607 -0.295779604029 0.706140955528\n",
      "[-0.2957796  -0.64333458  0.70614096]\n",
      "x and y are swapped!\n"
     ]
    }
   ],
   "source": [
    "import numpy as np\n",
    "from astropy.coordinates import *\n",
    "from astropy.units import *\n",
    "from astropy.time import *\n",
    "\n",
    "s = SkyCoord(ra=45*deg,dec=45*deg)\n",
    "eloc = EarthLocation(0*m,0*m,6356752*m)\n",
    "aa = AltAz(obstime=Time(1234,format='gps'),location=eloc)\n",
    "strans = s.transform_to(aa) #bring to altaz frame\n",
    "x = np.cos(strans.alt.rad)*np.sin(strans.az.rad)#points to E\n",
    "y = np.cos(strans.alt.rad)*np.cos(strans.az.rad)#points to N\n",
    "z = np.sin(strans.alt.rad)#points to zenith\n",
    "print x,y,z\n",
    "print strans.cartesian.xyz\n",
    "print \"x and y are swapped!\""
   ]
  }
 ],
 "metadata": {
  "anaconda-cloud": {},
  "kernelspec": {
   "display_name": "Python [default]",
   "language": "python",
   "name": "python2"
  },
  "language_info": {
   "codemirror_mode": {
    "name": "ipython",
    "version": 2
   },
   "file_extension": ".py",
   "mimetype": "text/x-python",
   "name": "python",
   "nbconvert_exporter": "python",
   "pygments_lexer": "ipython2",
   "version": "2.7.12"
  }
 },
 "nbformat": 4,
 "nbformat_minor": 0
}

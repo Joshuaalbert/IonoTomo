{
 "cells": [
  {
   "cell_type": "code",
   "execution_count": 3,
   "metadata": {
    "collapsed": false
   },
   "outputs": [
    {
     "name": "stdout",
     "output_type": "stream",
     "text": [
      "Generated IRI symbolic function with 9 params\n",
      "Creating priori model\n",
      "created an a priori cube of shape: (27L, 27L, 201L)\n",
      "Creating perturbed model\n",
      "Adding amp:1.00e+12 at: [0, 0, 200.0] scale:40.00\n",
      "creating TCI object\n",
      "creating fermat object\n",
      "('min and max n:', 0.99718736017205134, 0.99999873999295619)\n",
      "[ 0.  0.  0.]\n",
      "('time per ray:', 0.0034512001037597657)\n",
      "(15085752219.756109, 1003096580232.4365, 450000000.0)\n"
     ]
    }
   ],
   "source": [
    "from TricubicInversion import *\n",
    "\n",
    "def testSweep():\n",
    "    '''Test the full system.'''\n",
    "    # The priori ionosphere \n",
    "    iri = IriModel()\n",
    "    print(\"Creating priori model\")\n",
    "    eastVec,northVec,upVec,nePriori = createPrioriModel(iri)\n",
    "    print(\"Creating perturbed model\")\n",
    "    nePert = perturbModel(eastVec,northVec,upVec,nePriori,([0,0,200.],),(40.,),(1e12,))\n",
    "    print(\"creating TCI object\")\n",
    "    neTCI = TriCubic(eastVec,northVec,upVec,nePert)\n",
    "    print(\"creating fermat object\")\n",
    "    f =  Fermat(neTCI = neTCI,type = 's')\n",
    "    \n",
    "    ### test interpolation in both\n",
    "    for i in range(0):\n",
    "        x = np.random.uniform(low=eastVec[0],high=eastVec[-1])\n",
    "        y = np.random.uniform(low=northVec[0],high=northVec[-1])\n",
    "        z = np.random.uniform(low=upVec[0],high=upVec[-1])\n",
    "        n_,nx_,ny_,nz_,nxy_,nxz_,nyz_,nxyz_ = f.nTCI.interp(x,y,z,doDiff=True)\n",
    "        \n",
    "        ne,nex,ney,nez,nexy,nexz,neyz,nexyz = f.neTCI.interp(x,y,z,doDiff=True)\n",
    "        A = - 8.98**2/f.frequency**2\n",
    "        n = math.sqrt(1. + A*ne)\n",
    "        ndot = A/(2.*n)\n",
    "        nx = ndot * nex\n",
    "        ny = ndot * ney\n",
    "        nz = ndot * nez\n",
    "        ndotdot = -(A * ndot)/(2. * n**2)\n",
    "        nxy = ndotdot * nex*ney + ndot * nexy\n",
    "        nxz = ndotdot * nex * nez + ndot * nexz\n",
    "        nyz = ndotdot * ney * nez + ndot * neyz\n",
    "        print(x,y,z)\n",
    "        print(n,n_)\n",
    "        print(nx,nx_)\n",
    "        print(nxy,nxy)\n",
    "        \n",
    "    print(\"min and max n:\",np.min(f.nTCI.m),np.max(f.nTCI.m))\n",
    "    theta = np.linspace(-np.pi/15.,np.pi/15.,25)\n",
    "    #phi = np.linspace(0,2*np.pi,6)\n",
    "    rays = {}\n",
    "    origin = ac.ITRS(iri.enu.location).transform_to(iri.enu).cartesian.xyz.to(au.km).value\n",
    "    print(origin)\n",
    "    rayIdx = 0\n",
    "    t1 = tictoc()\n",
    "    for t in theta:\n",
    "        for p in theta:\n",
    "            #print(\"integrating ray: {0}\".format(rayIdx))\n",
    "            direction = ac.SkyCoord(np.sin(t),\n",
    "                                    np.sin(p),\n",
    "                                    1.,frame=iri.enu).cartesian.xyz.value#.transform_to('itrs').cartesian.xyz.value\n",
    "            x,y,z,s = f.integrateRay(origin,direction,1000,time=0.)\n",
    "            rayIdx += 1\n",
    "            rays[rayIdx] = {'x':x,'y':y,'z':z,'s':s}\n",
    "    print(\"time per ray:\",(tictoc()-t1)/len(rays))\n",
    "    #print(rays)\n",
    "    plotWavefront(neTCI,rays,save=False)\n",
    "    #plotWavefront(f.nFunc.subs({'t':0}),rays,*getSolitonCube(sol),save = False)\n",
    "    #plotFuncCube(f.nFunc.subs({'t':0}), *getSolitonCube(sol),rays=rays)\n",
    "\n",
    "if __name__ == '__main__':\n",
    "    testSweep()"
   ]
  }
 ],
 "metadata": {
  "kernelspec": {
   "display_name": "Python [conda env:mayavi_env]",
   "language": "python",
   "name": "conda-env-mayavi_env-py"
  },
  "language_info": {
   "codemirror_mode": {
    "name": "ipython",
    "version": 2
   },
   "file_extension": ".py",
   "mimetype": "text/x-python",
   "name": "python",
   "nbconvert_exporter": "python",
   "pygments_lexer": "ipython2",
   "version": "2.7.12"
  }
 },
 "nbformat": 4,
 "nbformat_minor": 1
}

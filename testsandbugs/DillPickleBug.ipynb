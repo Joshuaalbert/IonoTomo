{
 "cells": [
  {
   "cell_type": "code",
   "execution_count": 2,
   "metadata": {
    "collapsed": false
   },
   "outputs": [
    {
     "name": "stdout",
     "output_type": "stream",
     "text": [
      "creating radio array\n"
     ]
    }
   ],
   "source": [
    "from RadioArray import RadioArray\n",
    "\n",
    "def PrepareData():\n",
    "    dataFile = 'DillPickleBug_data'\n",
    "    \n",
    "    print(\"creating radio array\")\n",
    "    radioArray = RadioArray()\n",
    "    radioArray.log = None#solution to remove logger\n",
    "    \n",
    "    dataDict = {'radioArray':radioArray}\n",
    "    \n",
    "    f = open(dataFile,'wb')\n",
    "    dill.dump(dataDict,f)\n",
    "    f.close()\n",
    "    return \n",
    "\n",
    "if __name__ == '__main__':\n",
    "    PrepareData()\n",
    "   \n",
    "        "
   ]
  },
  {
   "cell_type": "code",
   "execution_count": null,
   "metadata": {
    "collapsed": true
   },
   "outputs": [],
   "source": []
  }
 ],
 "metadata": {
  "anaconda-cloud": {},
  "kernelspec": {
   "display_name": "Python [conda env:mayavi_env]",
   "language": "python",
   "name": "conda-env-mayavi_env-py"
  },
  "language_info": {
   "codemirror_mode": {
    "name": "ipython",
    "version": 2
   },
   "file_extension": ".py",
   "mimetype": "text/x-python",
   "name": "python",
   "nbconvert_exporter": "python",
   "pygments_lexer": "ipython2",
   "version": "2.7.12"
  }
 },
 "nbformat": 4,
 "nbformat_minor": 1
}

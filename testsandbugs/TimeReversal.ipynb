{
 "cells": [
  {
   "cell_type": "code",
   "execution_count": 10,
   "metadata": {
    "collapsed": false
   },
   "outputs": [],
   "source": [
    "import numpy as np\n",
    "import pylab as plt\n",
    "\n",
    "if __name__=='__main__':\n",
    "    n = 10\n",
    "    fr = np.random.uniform(size=[n,n])\n",
    "    fi = np.random.uniform(size=[n,n])\n",
    "    f = fr + 1j*fi\n",
    "    plt.figure()\n",
    "    plt.imshow(np.real(f))\n",
    "    plt.colorbar()\n",
    "    #reverse the parts\n",
    "    Ffr = np.fft.fft2(fr)\n",
    "    Ffi = np.fft.fft2(fi)\n",
    "    trfr = np.fft.ifft2(np.conj(Ffr))\n",
    "    trfi = np.fft.ifft2(np.conj(Ffi))\n",
    "    trf = trfr + 1j*trfi\n",
    "    plt.figure()\n",
    "    plt.imshow(np.real(trf))\n",
    "    plt.colorbar()\n",
    "    actual = np.fliplr(np.flipud(f))\n",
    "    plt.figure()\n",
    "    plt.imshow(np.real(actual))\n",
    "    plt.colorbar()\n",
    "    plt.show()\n",
    "    "
   ]
  },
  {
   "cell_type": "code",
   "execution_count": null,
   "metadata": {
    "collapsed": true
   },
   "outputs": [],
   "source": []
  }
 ],
 "metadata": {
  "kernelspec": {
   "display_name": "Python 2",
   "language": "python",
   "name": "python2"
  },
  "language_info": {
   "codemirror_mode": {
    "name": "ipython",
    "version": 2
   },
   "file_extension": ".py",
   "mimetype": "text/x-python",
   "name": "python",
   "nbconvert_exporter": "python",
   "pygments_lexer": "ipython2",
   "version": "2.7.11"
  }
 },
 "nbformat": 4,
 "nbformat_minor": 0
}

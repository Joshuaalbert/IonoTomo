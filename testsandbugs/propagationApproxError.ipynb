{
 "cells": [
  {
   "cell_type": "code",
   "execution_count": 5,
   "metadata": {
    "collapsed": false
   },
   "outputs": [
    {
     "name": "stderr",
     "output_type": "stream",
     "text": [
      "C:\\Users\\josh\\WinPython-64bit-3.5.1.3\\python-3.5.1.amd64\\lib\\site-packages\\ipykernel\\__main__.py:19: RuntimeWarning: invalid value encountered in true_divide\n",
      "C:\\Users\\josh\\WinPython-64bit-3.5.1.3\\python-3.5.1.amd64\\lib\\site-packages\\ipykernel\\__main__.py:96: RuntimeWarning: divide by zero encountered in true_divide\n",
      "C:\\Users\\josh\\WinPython-64bit-3.5.1.3\\python-3.5.1.amd64\\lib\\site-packages\\matplotlib\\scale.py:101: RuntimeWarning: invalid value encountered in less_equal\n",
      "  a[a <= 0.0] = 1e-300\n"
     ]
    },
    {
     "ename": "KeyboardInterrupt",
     "evalue": "",
     "output_type": "error",
     "traceback": [
      "\u001b[1;31m---------------------------------------------------------------------------\u001b[0m",
      "\u001b[1;31mKeyboardInterrupt\u001b[0m                         Traceback (most recent call last)",
      "\u001b[1;32m<ipython-input-5-60e02df86f17>\u001b[0m in \u001b[0;36m<module>\u001b[1;34m()\u001b[0m\n\u001b[0;32m     97\u001b[0m     \u001b[0mplt\u001b[0m\u001b[1;33m.\u001b[0m\u001b[0mxlabel\u001b[0m\u001b[1;33m(\u001b[0m\u001b[1;34mr'$(2\\pi)^{-1} (1-l^2-m^2)^{-1/2}$'\u001b[0m\u001b[1;33m)\u001b[0m\u001b[1;33m\u001b[0m\u001b[0m\n\u001b[0;32m     98\u001b[0m     \u001b[0mplt\u001b[0m\u001b[1;33m.\u001b[0m\u001b[0mylabel\u001b[0m\u001b[1;33m(\u001b[0m\u001b[1;34mr'Maximal $w$'\u001b[0m\u001b[1;33m)\u001b[0m\u001b[1;33m\u001b[0m\u001b[0m\n\u001b[1;32m---> 99\u001b[1;33m     \u001b[0mplt\u001b[0m\u001b[1;33m.\u001b[0m\u001b[0mshow\u001b[0m\u001b[1;33m(\u001b[0m\u001b[1;33m)\u001b[0m\u001b[1;33m\u001b[0m\u001b[0m\n\u001b[0m\u001b[0;32m    100\u001b[0m     \u001b[0mplotR2Prop\u001b[0m\u001b[1;33m(\u001b[0m\u001b[1;33m)\u001b[0m\u001b[1;33m\u001b[0m\u001b[0m\n\u001b[0;32m    101\u001b[0m     \u001b[0mplotR2PropAmp\u001b[0m\u001b[1;33m(\u001b[0m\u001b[1;33m)\u001b[0m\u001b[1;33m\u001b[0m\u001b[0m\n",
      "\u001b[1;32mC:\\Users\\josh\\WinPython-64bit-3.5.1.3\\python-3.5.1.amd64\\lib\\site-packages\\matplotlib\\pyplot.py\u001b[0m in \u001b[0;36mshow\u001b[1;34m(*args, **kw)\u001b[0m\n\u001b[0;32m    242\u001b[0m     \"\"\"\n\u001b[0;32m    243\u001b[0m     \u001b[1;32mglobal\u001b[0m \u001b[0m_show\u001b[0m\u001b[1;33m\u001b[0m\u001b[0m\n\u001b[1;32m--> 244\u001b[1;33m     \u001b[1;32mreturn\u001b[0m \u001b[0m_show\u001b[0m\u001b[1;33m(\u001b[0m\u001b[1;33m*\u001b[0m\u001b[0margs\u001b[0m\u001b[1;33m,\u001b[0m \u001b[1;33m**\u001b[0m\u001b[0mkw\u001b[0m\u001b[1;33m)\u001b[0m\u001b[1;33m\u001b[0m\u001b[0m\n\u001b[0m\u001b[0;32m    245\u001b[0m \u001b[1;33m\u001b[0m\u001b[0m\n\u001b[0;32m    246\u001b[0m \u001b[1;33m\u001b[0m\u001b[0m\n",
      "\u001b[1;32mC:\\Users\\josh\\WinPython-64bit-3.5.1.3\\python-3.5.1.amd64\\lib\\site-packages\\matplotlib\\backend_bases.py\u001b[0m in \u001b[0;36m__call__\u001b[1;34m(self, block)\u001b[0m\n\u001b[0;32m    190\u001b[0m \u001b[1;33m\u001b[0m\u001b[0m\n\u001b[0;32m    191\u001b[0m         \u001b[1;32mif\u001b[0m \u001b[1;32mnot\u001b[0m \u001b[0mis_interactive\u001b[0m\u001b[1;33m(\u001b[0m\u001b[1;33m)\u001b[0m \u001b[1;32mor\u001b[0m \u001b[0mget_backend\u001b[0m\u001b[1;33m(\u001b[0m\u001b[1;33m)\u001b[0m \u001b[1;33m==\u001b[0m \u001b[1;34m'WebAgg'\u001b[0m\u001b[1;33m:\u001b[0m\u001b[1;33m\u001b[0m\u001b[0m\n\u001b[1;32m--> 192\u001b[1;33m             \u001b[0mself\u001b[0m\u001b[1;33m.\u001b[0m\u001b[0mmainloop\u001b[0m\u001b[1;33m(\u001b[0m\u001b[1;33m)\u001b[0m\u001b[1;33m\u001b[0m\u001b[0m\n\u001b[0m\u001b[0;32m    193\u001b[0m \u001b[1;33m\u001b[0m\u001b[0m\n\u001b[0;32m    194\u001b[0m     \u001b[1;32mdef\u001b[0m \u001b[0mmainloop\u001b[0m\u001b[1;33m(\u001b[0m\u001b[0mself\u001b[0m\u001b[1;33m)\u001b[0m\u001b[1;33m:\u001b[0m\u001b[1;33m\u001b[0m\u001b[0m\n",
      "\u001b[1;32mC:\\Users\\josh\\WinPython-64bit-3.5.1.3\\python-3.5.1.amd64\\lib\\site-packages\\matplotlib\\backends\\backend_tkagg.py\u001b[0m in \u001b[0;36mmainloop\u001b[1;34m(self)\u001b[0m\n\u001b[0;32m     72\u001b[0m \u001b[1;32mclass\u001b[0m \u001b[0mShow\u001b[0m\u001b[1;33m(\u001b[0m\u001b[0mShowBase\u001b[0m\u001b[1;33m)\u001b[0m\u001b[1;33m:\u001b[0m\u001b[1;33m\u001b[0m\u001b[0m\n\u001b[0;32m     73\u001b[0m     \u001b[1;32mdef\u001b[0m \u001b[0mmainloop\u001b[0m\u001b[1;33m(\u001b[0m\u001b[0mself\u001b[0m\u001b[1;33m)\u001b[0m\u001b[1;33m:\u001b[0m\u001b[1;33m\u001b[0m\u001b[0m\n\u001b[1;32m---> 74\u001b[1;33m         \u001b[0mTk\u001b[0m\u001b[1;33m.\u001b[0m\u001b[0mmainloop\u001b[0m\u001b[1;33m(\u001b[0m\u001b[1;33m)\u001b[0m\u001b[1;33m\u001b[0m\u001b[0m\n\u001b[0m\u001b[0;32m     75\u001b[0m \u001b[1;33m\u001b[0m\u001b[0m\n\u001b[0;32m     76\u001b[0m \u001b[0mshow\u001b[0m \u001b[1;33m=\u001b[0m \u001b[0mShow\u001b[0m\u001b[1;33m(\u001b[0m\u001b[1;33m)\u001b[0m\u001b[1;33m\u001b[0m\u001b[0m\n",
      "\u001b[1;32mC:\\Users\\josh\\WinPython-64bit-3.5.1.3\\python-3.5.1.amd64\\lib\\tkinter\\__init__.py\u001b[0m in \u001b[0;36mmainloop\u001b[1;34m(n)\u001b[0m\n\u001b[0;32m    403\u001b[0m \u001b[1;32mdef\u001b[0m \u001b[0mmainloop\u001b[0m\u001b[1;33m(\u001b[0m\u001b[0mn\u001b[0m\u001b[1;33m=\u001b[0m\u001b[1;36m0\u001b[0m\u001b[1;33m)\u001b[0m\u001b[1;33m:\u001b[0m\u001b[1;33m\u001b[0m\u001b[0m\n\u001b[0;32m    404\u001b[0m     \u001b[1;34m\"\"\"Run the main loop of Tcl.\"\"\"\u001b[0m\u001b[1;33m\u001b[0m\u001b[0m\n\u001b[1;32m--> 405\u001b[1;33m     \u001b[0m_default_root\u001b[0m\u001b[1;33m.\u001b[0m\u001b[0mtk\u001b[0m\u001b[1;33m.\u001b[0m\u001b[0mmainloop\u001b[0m\u001b[1;33m(\u001b[0m\u001b[0mn\u001b[0m\u001b[1;33m)\u001b[0m\u001b[1;33m\u001b[0m\u001b[0m\n\u001b[0m\u001b[0;32m    406\u001b[0m \u001b[1;33m\u001b[0m\u001b[0m\n\u001b[0;32m    407\u001b[0m \u001b[0mgetint\u001b[0m \u001b[1;33m=\u001b[0m \u001b[0mint\u001b[0m\u001b[1;33m\u001b[0m\u001b[0m\n",
      "\u001b[1;31mKeyboardInterrupt\u001b[0m: "
     ]
    }
   ],
   "source": [
    "import numpy as np\n",
    "import pylab as plt\n",
    "\n",
    "'''\n",
    "If you approximate k * (1. - l**2 - b**2)**(-1./2.) then the lagrange remainder should be less than a radian.\n",
    "lambda/(2pi*z) > Rn(l**2 + b**2).\n",
    "l**2 + b**2 < 1 so that the waves are not evanescent (exponential decay).\n",
    "\n",
    "Likewise if you approximate exp[ikr]/r we would like to know the error.\n",
    "'''\n",
    "\n",
    "\n",
    "\n",
    "def diff(f,x):\n",
    "    h = 1e-10\n",
    "    return (f(x+h) - f(x-h))/(2*h)\n",
    "    \n",
    "def R1alpha(c,c0=0):\n",
    "    return -((-2 + c + c)/np.sqrt(1 - c)) - (-((-2 + c + c0)/np.sqrt(1 - c0)))\n",
    "\n",
    "def R2alpha(c,c0=0):\n",
    "    \n",
    "    return -(-8 + c**2 + c* (4 - 6* c) + 12* c - 3* c**2)/(8*(1 - c)**(3./2.)) - (-(-8 + c**2 + c* (4 - 6* c0) + 12* c0 - 3* c0**2)/(8* (1 - c0)**(3./2.)))\n",
    "\n",
    "def r1RandomSearch(N):\n",
    "    r1max = np.inf\n",
    "    c = np.linspace(0,1,100)\n",
    "    iter = 0\n",
    "    while r1max > 1e-3 and iter < 1e6:\n",
    "        iter += 1\n",
    "        c0s = np.sort(np.append(np.array([0]),np.random.uniform(size=N-1)))\n",
    "        mix = np.random.uniform(size=N)\n",
    "        mix = mix/np.sum(mix)\n",
    "        r1alpha = np.zeros_like(c)\n",
    "        for c0,m in zip(c0s,mix):\n",
    "            r1alpha += m*R1alpha(c,c0)\n",
    "        #print (r1alpha)\n",
    "        nextmax = np.mean(np.abs(r1alpha[np.bitwise_not(np.isnan(r1alpha))]))\n",
    "        #print (nextmax)\n",
    "        if nextmax < r1max:\n",
    "            r1max = nextmax\n",
    "            cout = np.copy(c0s)\n",
    "            mout = np.copy(mix)\n",
    "            print(nextmax)\n",
    "            print(c0s)\n",
    "            print(mix)\n",
    "    return cout,mout\n",
    "\n",
    "def r2RandomSearch(N):\n",
    "    r2max = np.inf\n",
    "    c = np.linspace(0,1,100)\n",
    "    iter = 0\n",
    "    while r2max > 1e-3 and iter < 1e6:\n",
    "        iter += 1\n",
    "        c0s = np.sort(np.append(np.array([0]),np.random.uniform(size=N-1)))\n",
    "        mix = np.random.uniform(size=N)\n",
    "        mix = mix/np.sum(mix)\n",
    "        r2alpha = np.zeros_like(c)\n",
    "        for c0,m in zip(c0s,mix):\n",
    "            r2alpha += m*R2alpha(c,c0)\n",
    "        #print (r1alpha)\n",
    "        nextmax = np.mean(np.abs(r2alpha[np.bitwise_not(np.isnan(r2alpha))]))\n",
    "        #print (nextmax)\n",
    "        if nextmax < r2max:\n",
    "            r2max = nextmax\n",
    "            cout = np.copy(c0s)\n",
    "            mout = np.copy(mix)\n",
    "            print(nextmax)\n",
    "            print(c0s)\n",
    "            print(mix)\n",
    "    return cout,mout \n",
    "\n",
    "def R2propKernel(D):\n",
    "    pa = 1\n",
    "    pb = D+1\n",
    "    return 2.*np.pi*3./16.*(-2./3.*(D+1)**2* (pb**(-3./2.) - pa**(-3./2.)) + 4.*(D+1)*(pb**(-1./2.) - pa**(-1./2.)) + 2.*(pb**(1./2.) - pa**(1./2.)))\n",
    "\n",
    "def R1propKernelAmp(D):\n",
    "    pa = 1\n",
    "    pb = D+1\n",
    "    return pb + 1./pb - 2.\n",
    "\n",
    "def plotR2Prop():\n",
    "    D = np.linspace(0,1,100)\n",
    "    plt.plot(D,np.abs(R2propKernel(D)))\n",
    "    plt.show()\n",
    "\n",
    "def plotR2PropAmp():\n",
    "    D = np.linspace(0,1,100)\n",
    "    plt.plot(D,np.abs(R1propKernelAmp(D)))\n",
    "    plt.show()\n",
    "    \n",
    "if __name__=='__main__':\n",
    "    c = np.linspace(0,1,100)\n",
    "    r2 = R1alpha(c)\n",
    "    plt.plot(c,1./np.abs(2*np.pi*r2))\n",
    "    plt.xlabel(r'$(2\\pi)^{-1} (1-l^2-m^2)^{-1/2}$')\n",
    "    plt.ylabel(r'Maximal $w$')\n",
    "    plt.show()\n",
    "    plotR2Prop()\n",
    "    plotR2PropAmp()    \n",
    "    #c0s,mix = r1RandomSearch(2)\n",
    "    c0s,mix = r2RandomSearch(2)\n",
    "    #c0s = np.linspace(0,1,10)\n",
    "    #mix = np.linspace(0,1,10)\n",
    "    c = np.linspace(0,1,100)\n",
    "    r1 = R1(c,c0=0)\n",
    "    r1alpha = np.zeros_like(c)\n",
    "    for c0,m in zip(c0s,mix):\n",
    "        r1 = m*R1alpha(c,c0)\n",
    "        r1alpha += r1\n",
    "        plt.plot(c,np.abs(r1),c='blue',label=\"c0:{0}, m:{1}\".format(c0,m))\n",
    "    plt.plot(c,np.abs(r1alpha),c='green',label='r1')\n",
    "    plt.yscale('log')\n",
    "    plt.legend(frameon=False)\n",
    "    plt.show()\n",
    "    "
   ]
  },
  {
   "cell_type": "code",
   "execution_count": 28,
   "metadata": {
    "collapsed": false
   },
   "outputs": [
    {
     "name": "stderr",
     "output_type": "stream",
     "text": [
      "'pwd' is not recognized as an internal or external command,\n",
      "operable program or batch file.\n"
     ]
    }
   ],
   "source": []
  },
  {
   "cell_type": "code",
   "execution_count": null,
   "metadata": {
    "collapsed": true
   },
   "outputs": [],
   "source": []
  }
 ],
 "metadata": {
  "kernelspec": {
   "display_name": "Python 3",
   "language": "python",
   "name": "python3"
  },
  "language_info": {
   "codemirror_mode": {
    "name": "ipython",
    "version": 3
   },
   "file_extension": ".py",
   "mimetype": "text/x-python",
   "name": "python",
   "nbconvert_exporter": "python",
   "pygments_lexer": "ipython3",
   "version": "3.5.1"
  }
 },
 "nbformat": 4,
 "nbformat_minor": 0
}

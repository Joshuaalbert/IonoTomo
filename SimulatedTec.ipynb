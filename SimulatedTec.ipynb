{
 "cells": [
  {
   "cell_type": "code",
   "execution_count": null,
   "metadata": {
    "collapsed": true
   },
   "outputs": [],
   "source": [
    "from RealData import DataPack\n",
    "from FermatClass import Fermat\n",
    "\n",
    "def simulateDtec(neTCI,dataPack):\n",
    "    '''Fill out the dtec values in an initialized ``DataPack`` object `dataPack`.\n",
    "    ionosphere model is a ``TriCubicInterpolator`` object with electron density values of ionosphere\n",
    "    '''\n",
    "    antennas,antennaLabels = dataPack.get_antennas(antIdx = -1)\n",
    "    directions, patchNames = dataPack.get_directions(dirIdx=-1)\n",
    "    antennas, antLabels = dataPack.get_antennas(antIdx=-1)\n",
    "    times,timestamps = dataPack.get_times(timeIdx=[0])\n",
    "    Na = len(antennas)\n",
    "    Nt = len(times)\n",
    "    Nd = len(directions)\n",
    "    fermat = Fermat(neTCI=neTCI,frequency = dataPack.radioArray.frequency,type='s',straightLineApprox=True)\n",
    "    i = 0\n",
    "    while i < Na:\n",
    "        j = 0\n",
    "        while j < Nt:\n",
    "            k = 0\n",
    "            while k < Nd:\n",
    "                origin = antennas[i]\n",
    "                direction = d\n",
    "    "
   ]
  }
 ],
 "metadata": {
  "kernelspec": {
   "display_name": "Python [conda env:mayavi_env]",
   "language": "python",
   "name": "conda-env-mayavi_env-py"
  },
  "language_info": {
   "codemirror_mode": {
    "name": "ipython",
    "version": 2
   },
   "file_extension": ".py",
   "mimetype": "text/x-python",
   "name": "python",
   "nbconvert_exporter": "python",
   "pygments_lexer": "ipython2",
   "version": "2.7.12"
  }
 },
 "nbformat": 4,
 "nbformat_minor": 1
}

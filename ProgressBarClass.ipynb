{
 "cells": [
  {
   "cell_type": "code",
   "execution_count": null,
   "metadata": {
    "collapsed": true
   },
   "outputs": [],
   "source": [
    "from __future__ import print_function\n",
    "import sys\n",
    "import re\n",
    "from time import clock\n",
    "\n",
    "\n",
    "class ProgressBar(object):\n",
    "    DEFAULT = 'Progress: %(bar)s %(percent)3d%%'\n",
    "    FULL = '%(bar)s %(current)d/%(total)d (%(percent)3d%%) %(remaining)d to go %(timeleft)f s'\n",
    "\n",
    "    def __init__(self, total, width=40, fmt=DEFAULT, symbol='=',\n",
    "                 output=sys.stderr):\n",
    "        assert len(symbol) == 1\n",
    "\n",
    "        self.total = total\n",
    "        self.width = width\n",
    "        self.symbol = symbol\n",
    "        self.output = output\n",
    "        self.fmt = re.sub(r'(?P<name>%\\(.+?\\))d',\n",
    "            r'\\g<name>%dd' % len(str(total)), fmt)\n",
    "\n",
    "        self.current = 0\n",
    "        self.startTime = clock()\n",
    "\n",
    "    def __call__(self,current=None):\n",
    "        '''Assumes current is iterations done '''\n",
    "        if current is not None:\n",
    "            self.current = current\n",
    "        if self.current == 0:\n",
    "            return\n",
    "        percent = self.current / float(self.total)\n",
    "        size = int(self.width * percent)\n",
    "        remaining = self.total - self.current\n",
    "        remainingTime = float(remaining) * (clock() - self.startTime)/float(self.current)\n",
    "        bar = '[' + self.symbol * size + ' ' * (self.width - size) + ']'\n",
    "\n",
    "        args = {\n",
    "            'total': self.total,\n",
    "            'bar': bar,\n",
    "            'current': self.current,\n",
    "            'percent': percent * 100,\n",
    "            'remaining': remaining,\n",
    "            'timeleft':remainingTime\n",
    "        }\n",
    "        print('\\r' + self.fmt % args, file=self.output, end='')\n",
    "\n",
    "    def done(self):\n",
    "        self.current = self.total\n",
    "        self()\n",
    "        print('', file=self.output)\n",
    "        print('Completed in {} seconds.'.format(clock() - self.startTime), file=self.output, end='')\n",
    "        print('', file=self.output)\n",
    "if __name__ == '__main__':\n",
    "    from time import sleep\n",
    "\n",
    "    progress = ProgressBar(80, fmt=ProgressBar.FULL)\n",
    "\n",
    "    for x in range(progress.total):\n",
    "        progress(x+1)\n",
    "        sleep(0.1)\n",
    "    progress.done()"
   ]
  }
 ],
 "metadata": {
  "anaconda-cloud": {},
  "kernelspec": {
   "display_name": "Python 3",
   "language": "python",
   "name": "python3"
  },
  "language_info": {
   "codemirror_mode": {
    "name": "ipython",
    "version": 3
   },
   "file_extension": ".py",
   "mimetype": "text/x-python",
   "name": "python",
   "nbconvert_exporter": "python",
   "pygments_lexer": "ipython3",
   "version": "3.5.3"
  }
 },
 "nbformat": 4,
 "nbformat_minor": 1
}

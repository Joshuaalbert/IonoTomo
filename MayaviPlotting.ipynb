{
 "cells": [
  {
   "cell_type": "code",
   "execution_count": null,
   "metadata": {
    "collapsed": false
   },
   "outputs": [
    {
     "name": "stdout",
     "output_type": "stream",
     "text": [
      "Plotting: C:\\Users\\josh\\git\\IonoTomo\\results\\model-3.npz\n",
      "Saving to: C:\\Users\\josh\\git\\IonoTomo\\results/frame-0000.png\n"
     ]
    }
   ],
   "source": [
    "####\n",
    "## All the plotting functions required\n",
    "###\n",
    "\n",
    "from mayavi import mlab\n",
    "import numpy as np\n",
    "\n",
    "def plotWavefront(neTCI,rays,save=False,saveFile=None,animate=False):\n",
    "    if saveFile is None:\n",
    "        saveFile = \"figs/wavefront.png\"\n",
    "    print(\"Saving to: {0}\".format(saveFile))\n",
    "    xmin = neTCI.xvec[0]\n",
    "    xmax = neTCI.xvec[-1]\n",
    "    ymin = neTCI.yvec[0]\n",
    "    ymax = neTCI.yvec[-1]\n",
    "    zmin = neTCI.zvec[0]\n",
    "    zmax = neTCI.zvec[-1]\n",
    "    \n",
    "    X,Y,Z = np.mgrid[xmin:xmax:len(neTCI.xvec)*1j,\n",
    "                     ymin:ymax:len(neTCI.yvec)*1j,\n",
    "                     zmin:zmax:len(neTCI.zvec)*1j]\n",
    "    \n",
    "    #reshape array\n",
    "    data = neTCI.getShapedArray()\n",
    "    #print(np.mean(data),np.max(data),np.min(data))\n",
    "    #mlab.close()\n",
    "    #l = mlab.pipeline.volume(mlab.pipeline.scalar_field(X,Y,Z,data))#,vmin=min, vmax=min + .5*(max-min))\n",
    "    #l._volume_property.scalar_opacity_unit_distance = min((xmax-xmin)/4.,(ymax-ymin)/4.,(zmax-zmin)/4.)\n",
    "    #l._volume_property.shade = False\n",
    "    mlab.contour3d(X,Y,Z,data,contours=5,opacity=0.2)\n",
    "    mlab.colorbar()\n",
    "    \n",
    "    def getWave(rays,idx):\n",
    "        xs = np.zeros(len(rays))\n",
    "        ys = np.zeros(len(rays))\n",
    "        zs = np.zeros(len(rays))\n",
    "        ridx = 0\n",
    "        while ridx < len(rays):\n",
    "            xs[ridx] = rays[ridx]['x'][idx]\n",
    "            ys[ridx] = rays[ridx]['y'][idx]\n",
    "            zs[ridx] = rays[ridx]['z'][idx]\n",
    "            ridx += 1\n",
    "        return xs,ys,zs\n",
    "    \n",
    "    if rays is not None:\n",
    "        for datumIdx in rays.keys():\n",
    "            ray = rays[datumIdx]\n",
    "            mlab.plot3d(ray[\"x\"],ray[\"y\"],ray[\"z\"],tube_radius=0.75)\n",
    "        if animate:\n",
    "            plt = mlab.points3d(*getWave(rays,0),color=(1,0,0),scale_mode='vector', scale_factor=10.)\n",
    "            #mlab.move(-200,0,0)\n",
    "            view = mlab.view()\n",
    "            @mlab.animate(delay=100)\n",
    "            def anim():\n",
    "                nt = len(rays[0][\"s\"])\n",
    "                f = mlab.gcf()\n",
    "                save = False\n",
    "                while True:\n",
    "                    i = 0\n",
    "                    while i < nt:\n",
    "                        #print(\"updating scene\")\n",
    "                        xs,ys,zs = getWave(rays,i)\n",
    "                        plt.mlab_source.set(x=xs,y=ys,z=zs)\n",
    "                        #mlab.view(*view)\n",
    "                        if save:\n",
    "                            #mlab.view(*view)\n",
    "                            mlab.savefig('figs/wavefronts/wavefront_{0:04d}.png'.format(i))#,magnification = 2)#size=(1920,1080))\n",
    "                        #f.scene.render()\n",
    "                        i += 1\n",
    "                        yield\n",
    "                    save = False\n",
    "            anim()\n",
    "    \n",
    "    if save and animate:\n",
    "        import os\n",
    "        os.system('ffmpeg -r 10 -f image2 -s 1900x1080 -i figs/wavefronts/wavefront_%04d.png -vcodec libx264 -crf 25  -pix_fmt yuv420p figs/wavefronts/wavefront.mp4')\n",
    "    else:\n",
    "        if save:\n",
    "            mlab.savefig(saveFile,figure=mlab.gcf())\n",
    "        else:\n",
    "            mlab.show()\n",
    "            \n",
    "            \n",
    "def plotModel(neTCI,save=False):\n",
    "    '''Plot the model contained in a tricubic interpolator (a convienient container for one)'''\n",
    "    plotWavefront(neTCI,None,save=save)\n",
    "    \n",
    "def animateResults(files):\n",
    "    from TricubicInterpolation import TriCubic\n",
    "    import os\n",
    "    images = []\n",
    "    index = 0\n",
    "    for file in files:\n",
    "        abspath = os.path.abspath(file)\n",
    "        print(\"Plotting: {0}\".format(abspath))\n",
    "        if os.path.isfile(abspath):\n",
    "            dir = os.path.dirname(abspath)\n",
    "            froot = os.path.split(abspath)[1].split('.')[0]\n",
    "        else:\n",
    "            continue\n",
    "        data = np.load(abspath)\n",
    "        xvec = data['xvec']\n",
    "        yvec = data['yvec']\n",
    "        zvec = data['zvec']\n",
    "        M = data['M']\n",
    "        Kmu = data['Kmu'].item(0)\n",
    "        rho = data['rho']\n",
    "        Krho = data['Krho'].item(0)\n",
    "        if 'rays' in data.keys():\n",
    "            rays = data['rays'].item(0)\n",
    "        else:\n",
    "            rays = None\n",
    "        TCI = TriCubic(xvec,yvec,zvec,M)\n",
    "        TCI.clearCache()\n",
    "        images.append(\"{0}/frame-{1:04d}.png\".format(dir,index))\n",
    "        plotWavefront(TCI,rays,save=True,saveFile=images[-1],animate=False)\n",
    "        index += 1\n",
    "    os.system('ffmpeg -r 10 -f image2 -s 1900x1080 -i {0}/frame-%04d.png -vcodec libx264 -crf 25  -pix_fmt yuv420p {1}/solution_animation.mp4'.format(dir,dir))\n",
    "    print(\"Saved to {1}/solution_animation.mp4\".format(dir))\n",
    "    \n",
    "if __name__ == '__main__':\n",
    "    import glob\n",
    "    files = glob.glob(\"results/model-*.npz\")\n",
    "    animateResults(files)\n",
    "    "
   ]
  },
  {
   "cell_type": "code",
   "execution_count": 1,
   "metadata": {
    "collapsed": true
   },
   "outputs": [],
   "source": [
    "from mayavi import mlab"
   ]
  },
  {
   "cell_type": "code",
   "execution_count": 10,
   "metadata": {
    "collapsed": false
   },
   "outputs": [
    {
     "name": "stdout",
     "output_type": "stream",
     "text": [
      "Help on function clf in module mayavi.tools.figure:\n",
      "\n",
      "clf(figure=None)\n",
      "    Clear the current figure.\n",
      "    \n",
      "    You can also supply the figure that you want to clear.\n",
      "\n"
     ]
    }
   ],
   "source": [
    "help(mlab.clf)"
   ]
  },
  {
   "cell_type": "code",
   "execution_count": null,
   "metadata": {
    "collapsed": true
   },
   "outputs": [],
   "source": []
  }
 ],
 "metadata": {
  "anaconda-cloud": {},
  "kernelspec": {
   "display_name": "Python [conda env:mayavi_env]",
   "language": "python",
   "name": "conda-env-mayavi_env-py"
  },
  "language_info": {
   "codemirror_mode": {
    "name": "ipython",
    "version": 2
   },
   "file_extension": ".py",
   "mimetype": "text/x-python",
   "name": "python",
   "nbconvert_exporter": "python",
   "pygments_lexer": "ipython2",
   "version": "2.7.12"
  }
 },
 "nbformat": 4,
 "nbformat_minor": 1
}
